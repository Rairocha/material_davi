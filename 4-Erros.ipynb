{
 "cells": [
  {
   "cell_type": "markdown",
   "metadata": {},
   "source": [
    "# Error Handling\n",
    "* \"Se debugar é o ato de remover erros do código então programar deve ser o ato de escrever erros no código\"\n",
    "\n",
    "* Objetivos : \n",
    "    - Aprender a fazer a interpretação do erro\n",
    "    - Identificar os principais tipos de erro do python\n",
    "    - Criar exceções e levantar erro no código \n",
    "    - Evitar erro no código usando a estrutura `try/except`\n"
   ]
  },
  {
   "cell_type": "markdown",
   "metadata": {},
   "source": [
    "# Erros de lógica\n",
    "* Erros de lógica são os mais difíceis de lidar com, o código roda normalmente mas não me da o resultado esperado\n",
    "    * pytest pode ajudar nesse caso https://docs.pytest.org/en/7.1.x/contents.html"
   ]
  },
  {
   "cell_type": "code",
   "execution_count": 121,
   "metadata": {
    "ExecuteTime": {
     "end_time": "2022-10-21T11:44:18.930748Z",
     "start_time": "2022-10-21T11:44:18.924215Z"
    }
   },
   "outputs": [],
   "source": [
    "def texto_limpo(my_string):\n",
    "    \"\"\" \n",
    "    Return a cleaned sorted version of the original string.\n",
    "    \n",
    "    This function gets a string as input and performs the following operations:\n",
    "    - remove unwanted characters;\n",
    "    - convert to lowercase;\n",
    "    - sort result and transform the result back to a string\n",
    "    \n",
    "    and return it.\n",
    "    \"\"\"\n",
    "    import re\n",
    "    my_string = my_string.lower()\n",
    "    my_string = re.findall('\\w+',my_string)\n",
    "    my_string = ''.join(my_string)\n",
    "    my_string = ''.join(sorted(my_string))\n",
    "    return my_string\n"
   ]
  },
  {
   "cell_type": "code",
   "execution_count": 122,
   "metadata": {
    "ExecuteTime": {
     "end_time": "2022-10-21T11:44:19.546387Z",
     "start_time": "2022-10-21T11:44:19.532810Z"
    }
   },
   "outputs": [
    {
     "data": {
      "text/plain": [
       "False"
      ]
     },
     "execution_count": 122,
     "metadata": {},
     "output_type": "execute_result"
    }
   ],
   "source": [
    "texto = 'And!re Ri?beiro de Bar!ros Agu++&iar'\n",
    "resultado = 'aguiar andre barros de ribeiro'\n",
    "texto_limpo(texto) == resultado"
   ]
  },
  {
   "cell_type": "code",
   "execution_count": 123,
   "metadata": {
    "ExecuteTime": {
     "end_time": "2022-10-21T11:44:22.851746Z",
     "start_time": "2022-10-21T11:44:22.838210Z"
    }
   },
   "outputs": [],
   "source": [
    "def texto_limpo(my_string):\n",
    "    \"\"\" \n",
    "    Return a cleaned sorted version of the original string.\n",
    "    \n",
    "    This function gets a string as input and performs the following operations:\n",
    "    - remove unwanted characters;\n",
    "    - convert to lowercase;\n",
    "    - sort result and transform the result back to a string\n",
    "    \n",
    "    and return it.\n",
    "    \"\"\"\n",
    "    import re\n",
    "    my_string = my_string.lower()\n",
    "    my_string = re.sub('[^a-z 0-9]+', '' ,my_string) \n",
    "    my_string = my_string.split()\n",
    "    my_string = sorted(my_string)\n",
    "    return ' '.join(my_string)"
   ]
  },
  {
   "cell_type": "code",
   "execution_count": 125,
   "metadata": {
    "ExecuteTime": {
     "end_time": "2022-10-21T11:44:37.705919Z",
     "start_time": "2022-10-21T11:44:37.693267Z"
    }
   },
   "outputs": [
    {
     "data": {
      "text/plain": [
       "True"
      ]
     },
     "execution_count": 125,
     "metadata": {},
     "output_type": "execute_result"
    }
   ],
   "source": [
    "texto = 'And!re Ri?beiro de Bar!ros Agu++&iar'\n",
    "resultado = 'aguiar andre barros de ribeiro'\n",
    "texto_limpo(texto) == resultado"
   ]
  },
  {
   "cell_type": "markdown",
   "metadata": {},
   "source": [
    "# Tipos de Erro\n",
    "\n",
    "Erros no python são **classificados** em tipos diferentes. Vamos ver os tipos mais comuns de erro que encontraremos ao longo do curso.\n",
    "\n",
    "**Dicas para Interpretação de Erros (debugging)**: \n",
    "\n",
    "1. Ao final da mensagem de erro temos a `exception` que causou o erro (em geral em vermelho).\n",
    "2. Após a `exception` temos a descrição do que a causou - muitas vezes isso é suficiente para entender o problema!\n",
    "3. Acima da `exception` temos a marcação da linha (e posição na linha) que causou o erro.\n"
   ]
  },
  {
   "cell_type": "markdown",
   "metadata": {},
   "source": [
    "\n",
    "## `SyntaxError`\n",
    "* `SyntaxErrors`, ou erros de *parsing*, são erros **ortográficos**. Esse tipo de `exception` não pode ser tratada - a leitura da descrição e posição do erro facilita muito descobrir exatamente onde cometemos um erro.\n",
    "    * Solução - identificar erro em destaque e fazer a correção "
   ]
  },
  {
   "cell_type": "code",
   "execution_count": 40,
   "metadata": {
    "ExecuteTime": {
     "end_time": "2022-10-20T19:24:02.289597Z",
     "start_time": "2022-10-20T19:24:02.276342Z"
    }
   },
   "outputs": [
    {
     "ename": "SyntaxError",
     "evalue": "unexpected EOF while parsing (4250896965.py, line 1)",
     "output_type": "error",
     "traceback": [
      "\u001b[1;36m  Input \u001b[1;32mIn [40]\u001b[1;36m\u001b[0m\n\u001b[1;33m    print('Erro!'\u001b[0m\n\u001b[1;37m                 ^\u001b[0m\n\u001b[1;31mSyntaxError\u001b[0m\u001b[1;31m:\u001b[0m unexpected EOF while parsing\n"
     ]
    }
   ],
   "source": [
    "print('Erro!'"
   ]
  },
  {
   "cell_type": "code",
   "execution_count": 41,
   "metadata": {
    "ExecuteTime": {
     "end_time": "2022-10-20T19:24:04.220742Z",
     "start_time": "2022-10-20T19:24:04.195967Z"
    }
   },
   "outputs": [
    {
     "ename": "SyntaxError",
     "evalue": "unmatched ')' (4187059378.py, line 1)",
     "output_type": "error",
     "traceback": [
      "\u001b[1;36m  Input \u001b[1;32mIn [41]\u001b[1;36m\u001b[0m\n\u001b[1;33m    print('Erro!'))\u001b[0m\n\u001b[1;37m                  ^\u001b[0m\n\u001b[1;31mSyntaxError\u001b[0m\u001b[1;31m:\u001b[0m unmatched ')'\n"
     ]
    }
   ],
   "source": [
    "print('Erro!'))"
   ]
  },
  {
   "cell_type": "code",
   "execution_count": 42,
   "metadata": {
    "ExecuteTime": {
     "end_time": "2022-10-20T19:24:08.329536Z",
     "start_time": "2022-10-20T19:24:08.324537Z"
    }
   },
   "outputs": [
    {
     "ename": "SyntaxError",
     "evalue": "unmatched ']' (1593875394.py, line 1)",
     "output_type": "error",
     "traceback": [
      "\u001b[1;36m  Input \u001b[1;32mIn [42]\u001b[1;36m\u001b[0m\n\u001b[1;33m    lista = [1,2,3]]\u001b[0m\n\u001b[1;37m                   ^\u001b[0m\n\u001b[1;31mSyntaxError\u001b[0m\u001b[1;31m:\u001b[0m unmatched ']'\n"
     ]
    }
   ],
   "source": [
    "lista = [1,2,3]]"
   ]
  },
  {
   "cell_type": "code",
   "execution_count": 43,
   "metadata": {
    "ExecuteTime": {
     "end_time": "2022-10-20T19:24:10.787542Z",
     "start_time": "2022-10-20T19:24:10.774489Z"
    }
   },
   "outputs": [
    {
     "ename": "SyntaxError",
     "evalue": "invalid syntax (2593735070.py, line 1)",
     "output_type": "error",
     "traceback": [
      "\u001b[1;36m  Input \u001b[1;32mIn [43]\u001b[1;36m\u001b[0m\n\u001b[1;33m    1 ˆ 3\u001b[0m\n\u001b[1;37m      ^\u001b[0m\n\u001b[1;31mSyntaxError\u001b[0m\u001b[1;31m:\u001b[0m invalid syntax\n"
     ]
    }
   ],
   "source": [
    "1 ˆ 3"
   ]
  },
  {
   "cell_type": "markdown",
   "metadata": {},
   "source": [
    "### `ModuleNotFoundError`\n",
    "\n",
    "* `ModuleNotFoundError`, ou erro de biblioteca, acontece quando tentamos importar uma biblioteca que não existe.\n",
    "    * Solução - mudar o nome do modulo para o nome correto ou fazer a instalação do módulo com pip install ou conda install"
   ]
  },
  {
   "cell_type": "code",
   "execution_count": 44,
   "metadata": {
    "ExecuteTime": {
     "end_time": "2022-10-20T19:25:13.354400Z",
     "start_time": "2022-10-20T19:25:13.332018Z"
    }
   },
   "outputs": [
    {
     "ename": "ModuleNotFoundError",
     "evalue": "No module named 'modulo_nao_existe'",
     "output_type": "error",
     "traceback": [
      "\u001b[1;31m---------------------------------------------------------------------------\u001b[0m",
      "\u001b[1;31mModuleNotFoundError\u001b[0m                       Traceback (most recent call last)",
      "Input \u001b[1;32mIn [44]\u001b[0m, in \u001b[0;36m<cell line: 1>\u001b[1;34m()\u001b[0m\n\u001b[1;32m----> 1\u001b[0m \u001b[38;5;28;01mimport\u001b[39;00m \u001b[38;5;21;01mmodulo_nao_existe\u001b[39;00m\n",
      "\u001b[1;31mModuleNotFoundError\u001b[0m: No module named 'modulo_nao_existe'"
     ]
    }
   ],
   "source": [
    "import modulo_nao_existe"
   ]
  },
  {
   "cell_type": "code",
   "execution_count": 45,
   "metadata": {
    "ExecuteTime": {
     "end_time": "2022-10-20T19:25:32.370705Z",
     "start_time": "2022-10-20T19:25:32.364709Z"
    }
   },
   "outputs": [
    {
     "data": {
      "text/plain": [
       "[]"
      ]
     },
     "execution_count": 45,
     "metadata": {},
     "output_type": "execute_result"
    }
   ],
   "source": [
    "import re\n",
    "string = 'Isso levantará uma exception'\n",
    "pattern = 'uma'\n",
    "re.findall(string, pattern)"
   ]
  },
  {
   "cell_type": "markdown",
   "metadata": {},
   "source": [
    "### `NameError`\n",
    "\n",
    "* `NameError`, ou erro de variável, acontece quando tentamos recuperar uma variável que ainda não existe. Este erro **É MUITO COMUM**: as vezes achamos que uma variável tem um nome e ela tem outro, ou então confundimos os caracteres da variável (por exemplo `1` por `I` ou então `A` por `a`)\n",
    "    * Fazer o código de criação da variável e rodar o código!"
   ]
  },
  {
   "cell_type": "code",
   "execution_count": 1,
   "metadata": {
    "ExecuteTime": {
     "end_time": "2022-10-20T19:26:42.589015Z",
     "start_time": "2022-10-20T19:26:42.000342Z"
    }
   },
   "outputs": [
    {
     "ename": "NameError",
     "evalue": "name 'string' is not defined",
     "output_type": "error",
     "traceback": [
      "\u001b[1;31m---------------------------------------------------------------------------\u001b[0m",
      "\u001b[1;31mNameError\u001b[0m                                 Traceback (most recent call last)",
      "Input \u001b[1;32mIn [1]\u001b[0m, in \u001b[0;36m<cell line: 2>\u001b[1;34m()\u001b[0m\n\u001b[0;32m      1\u001b[0m string_1 \u001b[38;5;241m=\u001b[39m \u001b[38;5;124m'\u001b[39m\u001b[38;5;124mIsso levantará uma exception\u001b[39m\u001b[38;5;124m'\u001b[39m\n\u001b[1;32m----> 2\u001b[0m \u001b[38;5;28mprint\u001b[39m(\u001b[43mstring\u001b[49m)\n",
      "\u001b[1;31mNameError\u001b[0m: name 'string' is not defined"
     ]
    }
   ],
   "source": [
    "string_1 = 'Isso levantará uma exception'\n",
    "print(string)"
   ]
  },
  {
   "cell_type": "markdown",
   "metadata": {},
   "source": [
    "Outra forma comum de ocorrência deste erro é quando tentamos recuperar uma variável sem perceber que ela se encontra no escopo local de uma função."
   ]
  },
  {
   "cell_type": "code",
   "execution_count": 2,
   "metadata": {
    "ExecuteTime": {
     "end_time": "2022-10-20T19:27:06.288919Z",
     "start_time": "2022-10-20T19:27:06.268517Z"
    }
   },
   "outputs": [
    {
     "ename": "NameError",
     "evalue": "name 'x_local' is not defined",
     "output_type": "error",
     "traceback": [
      "\u001b[1;31m---------------------------------------------------------------------------\u001b[0m",
      "\u001b[1;31mNameError\u001b[0m                                 Traceback (most recent call last)",
      "Input \u001b[1;32mIn [2]\u001b[0m, in \u001b[0;36m<cell line: 5>\u001b[1;34m()\u001b[0m\n\u001b[0;32m      2\u001b[0m     x_local \u001b[38;5;241m=\u001b[39m \u001b[38;5;241m1\u001b[39m\n\u001b[0;32m      3\u001b[0m     \u001b[38;5;28;01mreturn\u001b[39;00m x_local\n\u001b[1;32m----> 5\u001b[0m \u001b[38;5;28mprint\u001b[39m(\u001b[43mx_local\u001b[49m)\n",
      "\u001b[1;31mNameError\u001b[0m: name 'x_local' is not defined"
     ]
    }
   ],
   "source": [
    "def funcao_escopo():\n",
    "    x_local = 1\n",
    "    return x_local\n",
    "\n",
    "print(x_local)"
   ]
  },
  {
   "cell_type": "markdown",
   "metadata": {},
   "source": [
    "Erros dentro de uma função (com exceção dos erros ortográficos) só *explodem* quando tentamos invocar a função:"
   ]
  },
  {
   "cell_type": "code",
   "execution_count": 5,
   "metadata": {
    "ExecuteTime": {
     "end_time": "2022-10-20T19:29:03.289975Z",
     "start_time": "2022-10-20T19:29:03.275462Z"
    }
   },
   "outputs": [],
   "source": [
    "def funcao_escopo():\n",
    "    3*4\n",
    "    8/9\n",
    "    return x_nao_e_local"
   ]
  },
  {
   "cell_type": "code",
   "execution_count": 6,
   "metadata": {
    "ExecuteTime": {
     "end_time": "2022-10-20T19:29:04.214259Z",
     "start_time": "2022-10-20T19:29:04.179717Z"
    }
   },
   "outputs": [
    {
     "ename": "NameError",
     "evalue": "name 'x_nao_e_local' is not defined",
     "output_type": "error",
     "traceback": [
      "\u001b[1;31m---------------------------------------------------------------------------\u001b[0m",
      "\u001b[1;31mNameError\u001b[0m                                 Traceback (most recent call last)",
      "Input \u001b[1;32mIn [6]\u001b[0m, in \u001b[0;36m<cell line: 1>\u001b[1;34m()\u001b[0m\n\u001b[1;32m----> 1\u001b[0m \u001b[43mfuncao_escopo\u001b[49m\u001b[43m(\u001b[49m\u001b[43m)\u001b[49m\n",
      "Input \u001b[1;32mIn [5]\u001b[0m, in \u001b[0;36mfuncao_escopo\u001b[1;34m()\u001b[0m\n\u001b[0;32m      2\u001b[0m \u001b[38;5;241m3\u001b[39m\u001b[38;5;241m*\u001b[39m\u001b[38;5;241m4\u001b[39m\n\u001b[0;32m      3\u001b[0m \u001b[38;5;241m8\u001b[39m\u001b[38;5;241m/\u001b[39m\u001b[38;5;241m9\u001b[39m\n\u001b[1;32m----> 4\u001b[0m \u001b[38;5;28;01mreturn\u001b[39;00m \u001b[43mx_nao_e_local\u001b[49m\n",
      "\u001b[1;31mNameError\u001b[0m: name 'x_nao_e_local' is not defined"
     ]
    }
   ],
   "source": [
    "funcao_escopo()"
   ]
  },
  {
   "cell_type": "markdown",
   "metadata": {},
   "source": [
    "### `TypeError`\n",
    "* `TypeError`, ou erros de tipo, acontecem quando tentamos realizar uma operação que só aceita variáveis do tipo A (**invocar** uma variável do tipo **função** por exemplo) com uma variável do tipo B.\n",
    "    * Solução - fazer a transformação do tipo da variável"
   ]
  },
  {
   "cell_type": "code",
   "execution_count": 13,
   "metadata": {
    "ExecuteTime": {
     "end_time": "2022-10-20T19:31:59.906760Z",
     "start_time": "2022-10-20T19:31:59.890602Z"
    }
   },
   "outputs": [
    {
     "data": {
      "text/plain": [
       "'11'"
      ]
     },
     "execution_count": 13,
     "metadata": {},
     "output_type": "execute_result"
    }
   ],
   "source": [
    " '1' + 1"
   ]
  },
  {
   "cell_type": "code",
   "execution_count": 14,
   "metadata": {
    "ExecuteTime": {
     "end_time": "2022-10-20T19:32:03.960294Z",
     "start_time": "2022-10-20T19:32:03.939588Z"
    }
   },
   "outputs": [
    {
     "data": {
      "text/plain": [
       "'12'"
      ]
     },
     "execution_count": 14,
     "metadata": {},
     "output_type": "execute_result"
    }
   ],
   "source": [
    "x = 1\n",
    "y = '2'\n",
    "x + y"
   ]
  },
  {
   "cell_type": "code",
   "execution_count": 15,
   "metadata": {
    "ExecuteTime": {
     "end_time": "2022-10-20T19:32:09.608808Z",
     "start_time": "2022-10-20T19:32:09.604078Z"
    }
   },
   "outputs": [
    {
     "data": {
      "text/plain": [
       "'Erro!'"
      ]
     },
     "execution_count": 15,
     "metadata": {},
     "output_type": "execute_result"
    }
   ],
   "source": [
    "erro_tipo = 'Erro!'\n",
    "erro_tipo()"
   ]
  },
  {
   "cell_type": "code",
   "execution_count": 20,
   "metadata": {
    "ExecuteTime": {
     "end_time": "2022-10-20T19:33:32.963368Z",
     "start_time": "2022-10-20T19:33:32.947277Z"
    }
   },
   "outputs": [
    {
     "ename": "TypeError",
     "evalue": "list indices must be integers or slices, not str",
     "output_type": "error",
     "traceback": [
      "\u001b[1;31m---------------------------------------------------------------------------\u001b[0m",
      "\u001b[1;31mTypeError\u001b[0m                                 Traceback (most recent call last)",
      "Input \u001b[1;32mIn [20]\u001b[0m, in \u001b[0;36m<cell line: 3>\u001b[1;34m()\u001b[0m\n\u001b[0;32m      1\u001b[0m i \u001b[38;5;241m=\u001b[39m \u001b[38;5;124m'\u001b[39m\u001b[38;5;124m1\u001b[39m\u001b[38;5;124m'\u001b[39m\n\u001b[0;32m      2\u001b[0m lista_exemplo \u001b[38;5;241m=\u001b[39m [\u001b[38;5;241m1\u001b[39m, \u001b[38;5;241m2\u001b[39m, \u001b[38;5;241m3\u001b[39m]\n\u001b[1;32m----> 3\u001b[0m \u001b[43mlista_exemplo\u001b[49m\u001b[43m[\u001b[49m\u001b[43mi\u001b[49m\u001b[43m]\u001b[49m\n",
      "\u001b[1;31mTypeError\u001b[0m: list indices must be integers or slices, not str"
     ]
    }
   ],
   "source": [
    "i = '1'\n",
    "lista_exemplo = [1, 2, 3]\n",
    "lista_exemplo[i]"
   ]
  },
  {
   "cell_type": "code",
   "execution_count": 17,
   "metadata": {
    "ExecuteTime": {
     "end_time": "2022-10-20T19:32:25.618542Z",
     "start_time": "2022-10-20T19:32:25.604519Z"
    }
   },
   "outputs": [
    {
     "name": "stdout",
     "output_type": "stream",
     "text": [
      "0\n",
      "1\n",
      "2\n",
      "3\n",
      "4\n",
      "5\n",
      "6\n",
      "7\n",
      "8\n",
      "9\n"
     ]
    }
   ],
   "source": [
    "for i in 10:\n",
    "    print(i)"
   ]
  },
  {
   "cell_type": "markdown",
   "metadata": {},
   "source": [
    "### `ZeroDivisionError`\n",
    "* `ZeroDivisionError`, ou divisão por 0, é um erro que ocorre sempre que tentamos dividir um número por 0.\n",
    "    * Solução - garantir que o denominador não seja zero"
   ]
  },
  {
   "cell_type": "code",
   "execution_count": 21,
   "metadata": {
    "ExecuteTime": {
     "end_time": "2022-10-20T19:34:12.791940Z",
     "start_time": "2022-10-20T19:34:12.778214Z"
    }
   },
   "outputs": [
    {
     "ename": "ZeroDivisionError",
     "evalue": "division by zero",
     "output_type": "error",
     "traceback": [
      "\u001b[1;31m---------------------------------------------------------------------------\u001b[0m",
      "\u001b[1;31mZeroDivisionError\u001b[0m                         Traceback (most recent call last)",
      "Input \u001b[1;32mIn [21]\u001b[0m, in \u001b[0;36m<cell line: 1>\u001b[1;34m()\u001b[0m\n\u001b[1;32m----> 1\u001b[0m \u001b[38;5;241;43m1\u001b[39;49m\u001b[38;5;241;43m/\u001b[39;49m\u001b[38;5;241;43m0\u001b[39;49m\n",
      "\u001b[1;31mZeroDivisionError\u001b[0m: division by zero"
     ]
    }
   ],
   "source": [
    "1/0"
   ]
  },
  {
   "cell_type": "code",
   "execution_count": 22,
   "metadata": {
    "ExecuteTime": {
     "end_time": "2022-10-20T19:34:15.764739Z",
     "start_time": "2022-10-20T19:34:15.739885Z"
    }
   },
   "outputs": [
    {
     "name": "stdout",
     "output_type": "stream",
     "text": [
      "1.0\n"
     ]
    },
    {
     "ename": "ZeroDivisionError",
     "evalue": "division by zero",
     "output_type": "error",
     "traceback": [
      "\u001b[1;31m---------------------------------------------------------------------------\u001b[0m",
      "\u001b[1;31mZeroDivisionError\u001b[0m                         Traceback (most recent call last)",
      "Input \u001b[1;32mIn [22]\u001b[0m, in \u001b[0;36m<cell line: 1>\u001b[1;34m()\u001b[0m\n\u001b[0;32m      1\u001b[0m \u001b[38;5;28;01mfor\u001b[39;00m i \u001b[38;5;129;01min\u001b[39;00m [\u001b[38;5;241m10\u001b[39m, \u001b[38;5;241m0\u001b[39m, \u001b[38;5;241m3\u001b[39m, \u001b[38;5;241m0\u001b[39m]:\n\u001b[1;32m----> 2\u001b[0m     \u001b[38;5;28mprint\u001b[39m(\u001b[38;5;241;43m10\u001b[39;49m\u001b[38;5;241;43m/\u001b[39;49m\u001b[43mi\u001b[49m)\n",
      "\u001b[1;31mZeroDivisionError\u001b[0m: division by zero"
     ]
    }
   ],
   "source": [
    "for i in [10, 0, 3, 0]:\n",
    "    print(10/i)"
   ]
  },
  {
   "cell_type": "markdown",
   "metadata": {},
   "source": [
    "### `IndexError` e `KeyError`\n",
    "\n",
    "* `IndexError`/`KeyError` ocorre toda vez que tentamos acessar um elemento de um iterável através de um indíce que não existe nesse iterável: por exemplo, a posição de uma lista (`IndexError`) ou uma chave de um dicionário (`KeyError`)."
   ]
  },
  {
   "cell_type": "code",
   "execution_count": 23,
   "metadata": {
    "ExecuteTime": {
     "end_time": "2022-10-20T19:34:47.123584Z",
     "start_time": "2022-10-20T19:34:47.101229Z"
    }
   },
   "outputs": [
    {
     "ename": "IndexError",
     "evalue": "list index out of range",
     "output_type": "error",
     "traceback": [
      "\u001b[1;31m---------------------------------------------------------------------------\u001b[0m",
      "\u001b[1;31mIndexError\u001b[0m                                Traceback (most recent call last)",
      "Input \u001b[1;32mIn [23]\u001b[0m, in \u001b[0;36m<cell line: 2>\u001b[1;34m()\u001b[0m\n\u001b[0;32m      1\u001b[0m erro_lista \u001b[38;5;241m=\u001b[39m [\u001b[38;5;241m1\u001b[39m, \u001b[38;5;241m2\u001b[39m, \u001b[38;5;241m3\u001b[39m]\n\u001b[1;32m----> 2\u001b[0m \u001b[43merro_lista\u001b[49m\u001b[43m[\u001b[49m\u001b[38;5;241;43m4\u001b[39;49m\u001b[43m]\u001b[49m\n",
      "\u001b[1;31mIndexError\u001b[0m: list index out of range"
     ]
    }
   ],
   "source": [
    "erro_lista = [1, 2, 3]\n",
    "erro_lista[4]"
   ]
  },
  {
   "cell_type": "code",
   "execution_count": 24,
   "metadata": {
    "ExecuteTime": {
     "end_time": "2022-10-20T19:35:05.369664Z",
     "start_time": "2022-10-20T19:35:05.346090Z"
    }
   },
   "outputs": [
    {
     "name": "stdout",
     "output_type": "stream",
     "text": [
      "1\n",
      "3\n",
      "5\n"
     ]
    },
    {
     "ename": "IndexError",
     "evalue": "list index out of range",
     "output_type": "error",
     "traceback": [
      "\u001b[1;31m---------------------------------------------------------------------------\u001b[0m",
      "\u001b[1;31mIndexError\u001b[0m                                Traceback (most recent call last)",
      "Input \u001b[1;32mIn [24]\u001b[0m, in \u001b[0;36m<cell line: 1>\u001b[1;34m()\u001b[0m\n\u001b[0;32m      1\u001b[0m \u001b[38;5;28;01mfor\u001b[39;00m i \u001b[38;5;129;01min\u001b[39;00m \u001b[38;5;28mrange\u001b[39m(\u001b[38;5;241m4\u001b[39m):\n\u001b[1;32m----> 2\u001b[0m     \u001b[38;5;28mprint\u001b[39m(\u001b[43merro_lista\u001b[49m\u001b[43m[\u001b[49m\u001b[43mi\u001b[49m\u001b[43m]\u001b[49m \u001b[38;5;241m+\u001b[39m i)\n",
      "\u001b[1;31mIndexError\u001b[0m: list index out of range"
     ]
    }
   ],
   "source": [
    "for i in range(4):\n",
    "    print(erro_lista[i] + i)"
   ]
  },
  {
   "cell_type": "code",
   "execution_count": 25,
   "metadata": {
    "ExecuteTime": {
     "end_time": "2022-10-20T19:35:10.649621Z",
     "start_time": "2022-10-20T19:35:10.635901Z"
    }
   },
   "outputs": [],
   "source": [
    "erro_dict = dict()\n",
    "erro_dict['beringela'] = 10"
   ]
  },
  {
   "cell_type": "code",
   "execution_count": 26,
   "metadata": {
    "ExecuteTime": {
     "end_time": "2022-10-20T19:35:13.324562Z",
     "start_time": "2022-10-20T19:35:13.290561Z"
    }
   },
   "outputs": [
    {
     "ename": "KeyError",
     "evalue": "'feijao'",
     "output_type": "error",
     "traceback": [
      "\u001b[1;31m---------------------------------------------------------------------------\u001b[0m",
      "\u001b[1;31mKeyError\u001b[0m                                  Traceback (most recent call last)",
      "Input \u001b[1;32mIn [26]\u001b[0m, in \u001b[0;36m<cell line: 1>\u001b[1;34m()\u001b[0m\n\u001b[1;32m----> 1\u001b[0m \u001b[43merro_dict\u001b[49m\u001b[43m[\u001b[49m\u001b[38;5;124;43m'\u001b[39;49m\u001b[38;5;124;43mfeijao\u001b[39;49m\u001b[38;5;124;43m'\u001b[39;49m\u001b[43m]\u001b[49m\n",
      "\u001b[1;31mKeyError\u001b[0m: 'feijao'"
     ]
    }
   ],
   "source": [
    "erro_dict['feijao']"
   ]
  },
  {
   "cell_type": "markdown",
   "metadata": {},
   "source": [
    "Existem muitos outros tipos de `exception`, podemos inclusive definir novas `exceptions` (como definimos novas funções)! No entanto, as `exceptions` mostradas acima cobrem, em grande parte, os erros mais comuns.\n",
    "Documentação de todas as exceções https://docs.python.org/3/library/exceptions.html ou https://www.tutorialsteacher.com/python/error-types-in-python"
   ]
  },
  {
   "cell_type": "markdown",
   "metadata": {},
   "source": [
    "## Tratando Erros\n",
    "\n",
    "Nem todos os erros são corrigidos por mudanças no código, alguns erros vão ser causados por input errado de usuário ou um site não responsivo, nesses casos preciso adicionar um código de tratamento\n",
    "\n",
    "### 1a maneira: Condicionais `if`\n",
    "Já conseguimos tratar erros com o que aprendemos até agora: podemos utilizar condicionais para *capturar* as condições de um erro antes dele acontecer!"
   ]
  },
  {
   "cell_type": "code",
   "execution_count": 29,
   "metadata": {
    "ExecuteTime": {
     "end_time": "2022-10-20T19:40:13.633474Z",
     "start_time": "2022-10-20T19:40:13.616825Z"
    }
   },
   "outputs": [
    {
     "name": "stdout",
     "output_type": "stream",
     "text": [
      "Erro na divisão, y == 0!\n",
      "10.0\n",
      "5.0\n",
      "3.3333333333333335\n",
      "2.5\n"
     ]
    }
   ],
   "source": [
    "def divisao_segura(x, y):\n",
    "    '''\n",
    "    Divide x por y, validando se y != 0\n",
    "    '''\n",
    "    \n",
    "    if y != 0:\n",
    "        return x/y\n",
    "    else:\n",
    "        return 'Erro na divisão, y == 0!'\n",
    "\n",
    "for i in range(5):\n",
    "    print(divisao_segura(10, i))"
   ]
  },
  {
   "cell_type": "markdown",
   "metadata": {},
   "source": [
    "### 2a maneira: A palavra-chave `raise`\n",
    "\n",
    "Podemos tratar erros simplificando a leitura do erro para os usuários de nosso script. O comando `raise` nos permite *levantar* uma `exception` com uma mensagem customizada de erro. \n",
    "\n",
    "Também podemos utilizar o raise para inserir um erro no código e evitar processamento desnecessário. Por exemplo se estou fazendo um processamento longo que alimenta um banco de dados quero parar o código antes de fazer o processamento caso a senha esteja errada.\n",
    "\n",
    "**Sintáxe**\n",
    "```python\n",
    "raise TipoDeExceção('Mensagem que queremos deixar para o usuário')\n",
    "```"
   ]
  },
  {
   "cell_type": "code",
   "execution_count": 44,
   "metadata": {
    "ExecuteTime": {
     "end_time": "2022-10-20T20:00:05.929971Z",
     "start_time": "2022-10-20T20:00:05.925201Z"
    }
   },
   "outputs": [],
   "source": [
    "def numero_par(numero):\n",
    "    '''\n",
    "    Levanta um TypeError caso o número não seja par.\n",
    "    '''\n",
    "    numero = int(numero)\n",
    "    if numero % 2 != 0:\n",
    "        raise ValueError('O número não é par!')\n",
    "        #print('Esse número não é par')\n",
    "    else:\n",
    "        print('Esse número é par')"
   ]
  },
  {
   "cell_type": "code",
   "execution_count": 45,
   "metadata": {
    "ExecuteTime": {
     "end_time": "2022-10-20T20:00:08.305493Z",
     "start_time": "2022-10-20T20:00:08.277058Z"
    }
   },
   "outputs": [
    {
     "ename": "ValueError",
     "evalue": "O número não é par!",
     "output_type": "error",
     "traceback": [
      "\u001b[1;31m---------------------------------------------------------------------------\u001b[0m",
      "\u001b[1;31mValueError\u001b[0m                                Traceback (most recent call last)",
      "Input \u001b[1;32mIn [45]\u001b[0m, in \u001b[0;36m<cell line: 1>\u001b[1;34m()\u001b[0m\n\u001b[1;32m----> 1\u001b[0m \u001b[43mnumero_par\u001b[49m\u001b[43m(\u001b[49m\u001b[38;5;241;43m3\u001b[39;49m\u001b[43m)\u001b[49m\n",
      "Input \u001b[1;32mIn [44]\u001b[0m, in \u001b[0;36mnumero_par\u001b[1;34m(numero)\u001b[0m\n\u001b[0;32m      5\u001b[0m numero \u001b[38;5;241m=\u001b[39m \u001b[38;5;28mint\u001b[39m(numero)\n\u001b[0;32m      6\u001b[0m \u001b[38;5;28;01mif\u001b[39;00m numero \u001b[38;5;241m%\u001b[39m \u001b[38;5;241m2\u001b[39m \u001b[38;5;241m!=\u001b[39m \u001b[38;5;241m0\u001b[39m:\n\u001b[1;32m----> 7\u001b[0m     \u001b[38;5;28;01mraise\u001b[39;00m \u001b[38;5;167;01mValueError\u001b[39;00m(\u001b[38;5;124m'\u001b[39m\u001b[38;5;124mO número não é par!\u001b[39m\u001b[38;5;124m'\u001b[39m)\n\u001b[0;32m      8\u001b[0m     \u001b[38;5;66;03m#print('Esse número não é par')\u001b[39;00m\n\u001b[0;32m      9\u001b[0m \u001b[38;5;28;01melse\u001b[39;00m:\n\u001b[0;32m     10\u001b[0m     \u001b[38;5;28mprint\u001b[39m(\u001b[38;5;124m'\u001b[39m\u001b[38;5;124mEsse número é par\u001b[39m\u001b[38;5;124m'\u001b[39m)\n",
      "\u001b[1;31mValueError\u001b[0m: O número não é par!"
     ]
    }
   ],
   "source": [
    "numero_par(3)"
   ]
  },
  {
   "cell_type": "markdown",
   "metadata": {},
   "source": [
    "Vamos construir um exemplo juntos. Vamos construir uma versão da função `somar_lista` que trate os diferentes erros que podem surgir em sua execução levantando `exceptions` com mensagens descrevendo cada um dos erros possíveis."
   ]
  },
  {
   "cell_type": "code",
   "execution_count": 52,
   "metadata": {
    "ExecuteTime": {
     "end_time": "2022-10-20T20:03:54.697638Z",
     "start_time": "2022-10-20T20:03:54.684556Z"
    }
   },
   "outputs": [],
   "source": [
    "def somar_lista(lista):\n",
    "    '''\n",
    "    Calcula a soma dos elementos de uma lista.\n",
    "        Parameters:\n",
    "            lista List: lista de elementos a serem somados\n",
    "        Returns:\n",
    "            numeric: Resultado da soma\n",
    "    '''\n",
    "    soma = 0\n",
    "    for item in lista:\n",
    "        #type(item) == float or type(item)== int\n",
    "        if isinstance(item,(float,int)):\n",
    "            soma += item\n",
    "    return soma\n"
   ]
  },
  {
   "cell_type": "code",
   "execution_count": 58,
   "metadata": {
    "ExecuteTime": {
     "end_time": "2022-10-20T20:07:18.535506Z",
     "start_time": "2022-10-20T20:07:18.506947Z"
    }
   },
   "outputs": [
    {
     "ename": "TypeError",
     "evalue": "'int' object is not iterable",
     "output_type": "error",
     "traceback": [
      "\u001b[1;31m---------------------------------------------------------------------------\u001b[0m",
      "\u001b[1;31mTypeError\u001b[0m                                 Traceback (most recent call last)",
      "Input \u001b[1;32mIn [58]\u001b[0m, in \u001b[0;36m<cell line: 1>\u001b[1;34m()\u001b[0m\n\u001b[1;32m----> 1\u001b[0m \u001b[43msomar_lista\u001b[49m\u001b[43m(\u001b[49m\u001b[38;5;241;43m1\u001b[39;49m\u001b[43m)\u001b[49m\n",
      "Input \u001b[1;32mIn [52]\u001b[0m, in \u001b[0;36msomar_lista\u001b[1;34m(lista)\u001b[0m\n\u001b[0;32m      2\u001b[0m \u001b[38;5;124;03m'''\u001b[39;00m\n\u001b[0;32m      3\u001b[0m \u001b[38;5;124;03mCalcula a soma dos elementos de uma lista.\u001b[39;00m\n\u001b[0;32m      4\u001b[0m \u001b[38;5;124;03m    Parameters:\u001b[39;00m\n\u001b[1;32m   (...)\u001b[0m\n\u001b[0;32m      7\u001b[0m \u001b[38;5;124;03m        numeric: Resultado da soma\u001b[39;00m\n\u001b[0;32m      8\u001b[0m \u001b[38;5;124;03m'''\u001b[39;00m\n\u001b[0;32m      9\u001b[0m soma \u001b[38;5;241m=\u001b[39m \u001b[38;5;241m0\u001b[39m\n\u001b[1;32m---> 10\u001b[0m \u001b[38;5;28;01mfor\u001b[39;00m item \u001b[38;5;129;01min\u001b[39;00m lista:\n\u001b[0;32m     11\u001b[0m     \u001b[38;5;28;01mif\u001b[39;00m \u001b[38;5;28misinstance\u001b[39m(item,(\u001b[38;5;28mfloat\u001b[39m,\u001b[38;5;28mint\u001b[39m)):\n\u001b[0;32m     12\u001b[0m         soma \u001b[38;5;241m+\u001b[39m\u001b[38;5;241m=\u001b[39m item\n",
      "\u001b[1;31mTypeError\u001b[0m: 'int' object is not iterable"
     ]
    }
   ],
   "source": [
    "somar_lista(1)"
   ]
  },
  {
   "cell_type": "markdown",
   "metadata": {},
   "source": [
    "### 3a maneira - *pegando* `Exceptions`\n",
    "\n",
    "Além de levantar `exceptions` tornando nosso código mais legível, podemos utilizar a estrutura de controle **`Try`/`Except`** para tratar automaticamente `exceptions` que sejam levantadas. Os blocos indentados `Try:` e `Except:` nos permite criar condições (como um `if`) flexíveis (ao contrário do `if`) para lidar com diferentes tipos de `exceptions`.\n",
    "\n",
    "Por exemplo se queremos buscar informações de todas as páginas da wikipedia, não quero que o meu processsamento pare só por que 10 das 1000 páginas deram problemas.\n",
    "\n",
    "**Sintáxe**\n",
    "```python\n",
    "try:\n",
    "    bloco de código a ser executado\n",
    "except TipoDeErro:\n",
    "    o que fazer caso um erro qualquer aconteça\n",
    "```\n",
    "\n",
    "ou, mais apropriadamente:\n",
    "\n",
    "```python\n",
    "try:\n",
    "    bloco de código a ser executado\n",
    "except TipoDeErro:\n",
    "    o que fazer caso um erro do tipo TipoDeErro aconteça\n",
    "```\n",
    "\n"
   ]
  },
  {
   "cell_type": "code",
   "execution_count": 54,
   "metadata": {
    "ExecuteTime": {
     "end_time": "2022-10-20T20:06:05.367175Z",
     "start_time": "2022-10-20T20:06:05.355083Z"
    }
   },
   "outputs": [],
   "source": [
    "def calcular_soma(lista):\n",
    "    '''\n",
    "    Calcula a soma dos elementos de uma lista.\n",
    "    '''\n",
    "    try:\n",
    "        soma = 0\n",
    "        for elemento in lista:\n",
    "            soma += elemento\n",
    "        return soma\n",
    "    except:\n",
    "        return None\n",
    "        "
   ]
  },
  {
   "cell_type": "code",
   "execution_count": 59,
   "metadata": {
    "ExecuteTime": {
     "end_time": "2022-10-20T20:07:29.591211Z",
     "start_time": "2022-10-20T20:07:29.587214Z"
    }
   },
   "outputs": [],
   "source": [
    "a = calcular_soma(1)\n",
    "a"
   ]
  },
  {
   "cell_type": "markdown",
   "metadata": {},
   "source": [
    "As tratativas genéricas, onde não especificamos o tipo de erro que queremos tratar são *extremamente perigosas*: **ERROS SÃO NOSSOS AMIGOS!** Erros nos permitem entender o que está acontecendo de inesperado em nosso código antes que este inesperado aconteça! Utilizar uma tratativa sem pensar no que ela está tratando é receita para o desastre..."
   ]
  },
  {
   "cell_type": "code",
   "execution_count": 68,
   "metadata": {
    "ExecuteTime": {
     "end_time": "2022-10-20T20:12:21.612910Z",
     "start_time": "2022-10-20T20:12:21.602391Z"
    }
   },
   "outputs": [],
   "source": [
    "def calcular_soma(lista):\n",
    "    '''\n",
    "    Calcula a soma dos elementos de uma lista.\n",
    "    '''\n",
    "    soma = 0\n",
    "    for elemento in lista:\n",
    "        try:\n",
    "            soma += elemento\n",
    "            1/0\n",
    "        except TypeError as e:\n",
    "            print(f'{elemento} da lista devem ser númerico: {e}!')\n",
    "    return soma"
   ]
  },
  {
   "cell_type": "code",
   "execution_count": 69,
   "metadata": {
    "ExecuteTime": {
     "end_time": "2022-10-20T20:12:22.019262Z",
     "start_time": "2022-10-20T20:12:22.001619Z"
    }
   },
   "outputs": [
    {
     "name": "stdout",
     "output_type": "stream",
     "text": [
      "1 da lista devem ser númerico: division by zero!\n",
      "2 da lista devem ser númerico: division by zero!\n",
      "3 da lista devem ser númerico: unsupported operand type(s) for +=: 'int' and 'str'!\n"
     ]
    },
    {
     "data": {
      "text/plain": [
       "3"
      ]
     },
     "execution_count": 69,
     "metadata": {},
     "output_type": "execute_result"
    }
   ],
   "source": [
    "#unsupported operand type(s) for +=: 'int' and 'str'\n",
    "calcular_soma([1, 2, '3'])"
   ]
  },
  {
   "cell_type": "markdown",
   "metadata": {},
   "source": [
    "#### Estruturas Hierárquicas em Blocos `try:`/`except:`\n",
    "\n",
    "Assim como em outros blocos indentados, podemos colocar um bloco `try\\except` dentro de outro (seja na clausula `try` seja na `except`)."
   ]
  },
  {
   "cell_type": "code",
   "execution_count": 70,
   "metadata": {
    "ExecuteTime": {
     "end_time": "2022-10-20T20:15:04.458803Z",
     "start_time": "2022-10-20T20:15:04.451040Z"
    }
   },
   "outputs": [],
   "source": [
    "def calcular_soma(lista):\n",
    "    '''\n",
    "    Calcula a soma dos elementos de uma lista.\n",
    "    '''\n",
    "    soma = 0\n",
    "    try:\n",
    "        for elemento in lista:\n",
    "            try:\n",
    "                soma += elemento\n",
    "            except TypeError as e:\n",
    "                print(f'{elemento} não tem o mesmo tipo do resto da lista: {e}!')\n",
    "        return soma\n",
    "    except TypeError as e:\n",
    "        print(f'O argumento da função deve ser uma lista: {e}')\n",
    "    "
   ]
  },
  {
   "cell_type": "code",
   "execution_count": 72,
   "metadata": {
    "ExecuteTime": {
     "end_time": "2022-10-20T20:15:20.998994Z",
     "start_time": "2022-10-20T20:15:20.979148Z"
    }
   },
   "outputs": [
    {
     "name": "stdout",
     "output_type": "stream",
     "text": [
      "oi não tem o mesmo tipo do resto da lista: unsupported operand type(s) for +=: 'int' and 'str'!\n"
     ]
    },
    {
     "data": {
      "text/plain": [
       "3"
      ]
     },
     "execution_count": 72,
     "metadata": {},
     "output_type": "execute_result"
    }
   ],
   "source": [
    "calcular_soma([1,2,'oi'])"
   ]
  },
  {
   "cell_type": "markdown",
   "metadata": {},
   "source": [
    "### Contextos em blocos `try/except`\n",
    "\n",
    "Até agora vimos dois contextos nos blocos `try/except`: o bloco indentado do `try` (o código no qual queremos tratar erros) e o bloco indentado do `except` (o código a ser executado quando encontrarmos um tipo específico de erro). Além desses dois blocos também temos, possivelmente, outros dois: `else/finally`. Vamos estruturar esses 4 blocos em sua ordem e função:\n",
    "\n",
    "* `try:` bloco de código que *queremos* rodar, *pegando* erros de tipos determinados.\n",
    "* `except:` bloco de código que queremos rodar quando algum erro acontece no bloco `try`.\n",
    "* `else:` bloco de código que podemos rodar quando nenhuma excessão ocorreu (roda imediatamente após o `try` quando este não captura nenhuma `exception`).\n",
    "* `finally:` bloco de código de sempre roda, independente de um erro acontecer ou não no bloco `try`.\n",
    "\n",
    "\n",
    "#### Contexto `else`\n",
    "\n",
    "O contexto `else` é processado sempre que nenhuma `exception` seja levantada durante o contexto `try`:"
   ]
  },
  {
   "cell_type": "code",
   "execution_count": 90,
   "metadata": {
    "ExecuteTime": {
     "end_time": "2022-10-20T20:29:07.419975Z",
     "start_time": "2022-10-20T20:29:07.406446Z"
    }
   },
   "outputs": [
    {
     "name": "stdout",
     "output_type": "stream",
     "text": [
      "10.0\n",
      "Deu tudo certo!\n"
     ]
    }
   ],
   "source": [
    "x = 10\n",
    "y = 1\n",
    "try:\n",
    "    print(x/y)\n",
    "except ZeroDivisionError:\n",
    "    print('Divisão por zero!')\n",
    "except NameError:\n",
    "    print('Variavel não definida!')\n",
    "else:\n",
    "    print('Deu tudo certo!')"
   ]
  },
  {
   "cell_type": "code",
   "execution_count": 86,
   "metadata": {
    "ExecuteTime": {
     "end_time": "2022-10-20T20:27:48.475249Z",
     "start_time": "2022-10-20T20:27:48.448217Z"
    }
   },
   "outputs": [
    {
     "name": "stdout",
     "output_type": "stream",
     "text": [
      "10.0\n",
      "try deu certo\n"
     ]
    },
    {
     "ename": "ZeroDivisionError",
     "evalue": "division by zero",
     "output_type": "error",
     "traceback": [
      "\u001b[1;31m---------------------------------------------------------------------------\u001b[0m",
      "\u001b[1;31mZeroDivisionError\u001b[0m                         Traceback (most recent call last)",
      "Input \u001b[1;32mIn [86]\u001b[0m, in \u001b[0;36m<cell line: 3>\u001b[1;34m()\u001b[0m\n\u001b[0;32m      9\u001b[0m \u001b[38;5;28;01melse\u001b[39;00m:\n\u001b[0;32m     10\u001b[0m     \u001b[38;5;28mprint\u001b[39m(\u001b[38;5;124m'\u001b[39m\u001b[38;5;124mtry deu certo\u001b[39m\u001b[38;5;124m'\u001b[39m)\n\u001b[1;32m---> 11\u001b[0m     \u001b[38;5;28mprint\u001b[39m(\u001b[38;5;241;43m10\u001b[39;49m\u001b[38;5;241;43m/\u001b[39;49m\u001b[38;5;241;43m0\u001b[39;49m)\n",
      "\u001b[1;31mZeroDivisionError\u001b[0m: division by zero"
     ]
    }
   ],
   "source": [
    "x = 10\n",
    "y = 1\n",
    "try:\n",
    "    print(x/y)\n",
    "except ZeroDivisionError:\n",
    "    print('Divisão por zero! Ou qualquer outro erro...')\n",
    "except NameError:\n",
    "    print('Variavel não definida!')\n",
    "else:\n",
    "    print('try deu certo')\n",
    "    print(10/0)"
   ]
  },
  {
   "cell_type": "markdown",
   "metadata": {},
   "source": [
    "#### Contexto `finally`\n",
    "\n",
    "O código do contexto `finally`  é **sempre executado**, independentemente do que ocorra nos blocos `try` e `except`. Ele é utilizado para especificar coisas que **precisam acontecer**, por exemplo fechar uma conexão com um DB antes de finalizar o processamento."
   ]
  },
  {
   "cell_type": "code",
   "execution_count": 97,
   "metadata": {
    "ExecuteTime": {
     "end_time": "2022-10-20T20:31:47.092546Z",
     "start_time": "2022-10-20T20:31:47.070506Z"
    }
   },
   "outputs": [
    {
     "name": "stdout",
     "output_type": "stream",
     "text": [
      "10.0\n",
      "Deu tudo certo!\n",
      "Acabou!\n"
     ]
    },
    {
     "ename": "ZeroDivisionError",
     "evalue": "division by zero",
     "output_type": "error",
     "traceback": [
      "\u001b[1;31m---------------------------------------------------------------------------\u001b[0m",
      "\u001b[1;31mZeroDivisionError\u001b[0m                         Traceback (most recent call last)",
      "Input \u001b[1;32mIn [97]\u001b[0m, in \u001b[0;36m<cell line: 3>\u001b[1;34m()\u001b[0m\n\u001b[0;32m      7\u001b[0m \u001b[38;5;28;01melse\u001b[39;00m:\n\u001b[0;32m      8\u001b[0m     \u001b[38;5;28mprint\u001b[39m(\u001b[38;5;124m'\u001b[39m\u001b[38;5;124mDeu tudo certo!\u001b[39m\u001b[38;5;124m'\u001b[39m)\n\u001b[1;32m----> 9\u001b[0m     \u001b[38;5;241;43m1\u001b[39;49m\u001b[38;5;241;43m/\u001b[39;49m\u001b[38;5;241;43m0\u001b[39;49m\n\u001b[0;32m     10\u001b[0m \u001b[38;5;28;01mfinally\u001b[39;00m:\n\u001b[0;32m     11\u001b[0m     \u001b[38;5;28mprint\u001b[39m(\u001b[38;5;124m'\u001b[39m\u001b[38;5;124mAcabou!\u001b[39m\u001b[38;5;124m'\u001b[39m)\n",
      "\u001b[1;31mZeroDivisionError\u001b[0m: division by zero"
     ]
    }
   ],
   "source": [
    "x = 10\n",
    "y = 1\n",
    "try:\n",
    "    print(x/y)\n",
    "except:\n",
    "    print('Divisão por zero! Ou qualquer outro erro...')\n",
    "else:\n",
    "    print('Deu tudo certo!')\n",
    "finally:\n",
    "    print('Acabou!')"
   ]
  },
  {
   "cell_type": "markdown",
   "metadata": {},
   "source": [
    "# Resumo\n",
    "* Erro de lógica - prints em todos os lugares!\n",
    "* Tipos de erros - https://www.tutorialsteacher.com/python/error-types-in-python\n",
    "* Leitura de erro - Tipo de erro, descrição, linha do erro\n",
    "* raise TipoDeErro('Descrição do erro') - para o código gerar o erro\n",
    "\n",
    "* Evitar que o erro apareça - \n",
    "\n",
    "``` python\n",
    "try: tenta rodar o pedaço de código\n",
    "except: é rodado quando algo no try da o erro\n",
    "else: roda depois que o try roda com sucesso\n",
    "finally: roda independente de erros em qualquer parte do código\n",
    "```\n",
    "\n",
    "* Posso por try dentro de qualquer estrutura do try\n",
    "\n",
    "* Fazer exceções especificas e salvar a descrição\n",
    "``` python\n",
    "try:\n",
    "    print(1/y)\n",
    "except ZeroDivisionError as err:\n",
    "    print(err)\n",
    "except NameError as banana:\n",
    "    print(banana)\n",
    "```"
   ]
  }
 ],
 "metadata": {
  "kernelspec": {
   "display_name": "Python 3 (ipykernel)",
   "language": "python",
   "name": "python3"
  },
  "language_info": {
   "codemirror_mode": {
    "name": "ipython",
    "version": 3
   },
   "file_extension": ".py",
   "mimetype": "text/x-python",
   "name": "python",
   "nbconvert_exporter": "python",
   "pygments_lexer": "ipython3",
   "version": "3.8.5"
  },
  "toc": {
   "base_numbering": 1,
   "nav_menu": {},
   "number_sections": true,
   "sideBar": true,
   "skip_h1_title": false,
   "title_cell": "Table of Contents",
   "title_sidebar": "Contents",
   "toc_cell": false,
   "toc_position": {},
   "toc_section_display": true,
   "toc_window_display": false
  },
  "varInspector": {
   "cols": {
    "lenName": 16,
    "lenType": 16,
    "lenVar": 40
   },
   "kernels_config": {
    "python": {
     "delete_cmd_postfix": "",
     "delete_cmd_prefix": "del ",
     "library": "var_list.py",
     "varRefreshCmd": "print(var_dic_list())"
    },
    "r": {
     "delete_cmd_postfix": ") ",
     "delete_cmd_prefix": "rm(",
     "library": "var_list.r",
     "varRefreshCmd": "cat(var_dic_list()) "
    }
   },
   "types_to_exclude": [
    "module",
    "function",
    "builtin_function_or_method",
    "instance",
    "_Feature"
   ],
   "window_display": false
  },
  "vscode": {
   "interpreter": {
    "hash": "3348b46f810c4a2baaf32040a34d9927795232ef7599934ab4497c494e4429d2"
   }
  }
 },
 "nbformat": 4,
 "nbformat_minor": 4
}
