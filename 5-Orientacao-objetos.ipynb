{
 "cells": [
  {
   "cell_type": "markdown",
   "metadata": {},
   "source": [
    "# Paradigma OOP (Orientação a Objetos)\n",
    "\n",
    "Até agora vimos dois paradigmas de programação distintos: imperativo e funcional. Hoje entraremos em contato com um dos principais paradigmas: a orientação a objetos. Já tivemos contato com conceitos de OOP: sempre que utilizamos um **método**, estamos utilizando OOP!\n",
    "\n",
    "O que diferencia os **métodos** das **funções**? Métodos sempre estão ligados à um tipo específico, por exemplo:\n",
    "* `.append()` é um método de listas\n",
    "* `.keys()` é um método de dicts\n",
    "\n",
    "Diferentes tipos tem diferentes métodos (embora dois tipos possam ter métodos com o mesmo nome). Por isso dizemos que OOP é a combinação de **estruturas de dados** (lista, tupla, dicionário) com **funções** (append, index, keys). Hoje aprenderemos como podemos definir **classes** para criar nossos próprios tipos."
   ]
  },
  {
   "cell_type": "code",
   "execution_count": 85,
   "metadata": {
    "ExecuteTime": {
     "end_time": "2022-10-21T13:21:51.831808Z",
     "start_time": "2022-10-21T13:21:51.816982Z"
    }
   },
   "outputs": [],
   "source": [
    "# como fazer uma ordenação com o paradigma funcional vs imperativo\n",
    "\n",
    "def count(lista:list,elemento:'objeto do python'):\n",
    "    '''Conta quantas vezes o elemento aparece em lista retorna um número inteiro'''\n",
    "    if type(lista)!= list:\n",
    "        raise TypeError('O argumento lista precisa ser uma lista')\n",
    "    print(f'elemento é {elemento} e lista é {lista}')\n",
    "    lista_elemento = [item for item in lista if item==elemento]\n",
    "    \n",
    "    return len(lista_elemento)"
   ]
  },
  {
   "cell_type": "code",
   "execution_count": 88,
   "metadata": {
    "ExecuteTime": {
     "end_time": "2022-10-21T13:22:08.848346Z",
     "start_time": "2022-10-21T13:22:08.824013Z"
    }
   },
   "outputs": [
    {
     "ename": "TypeError",
     "evalue": "O argumento lista precisa ser uma lista",
     "output_type": "error",
     "traceback": [
      "\u001b[1;31m---------------------------------------------------------------------------\u001b[0m",
      "\u001b[1;31mTypeError\u001b[0m                                 Traceback (most recent call last)",
      "Input \u001b[1;32mIn [88]\u001b[0m, in \u001b[0;36m<cell line: 1>\u001b[1;34m()\u001b[0m\n\u001b[1;32m----> 1\u001b[0m \u001b[43mcount\u001b[49m\u001b[43m(\u001b[49m\u001b[38;5;241;43m12\u001b[39;49m\u001b[43m,\u001b[49m\u001b[43m \u001b[49m\u001b[43m[\u001b[49m\u001b[38;5;241;43m12\u001b[39;49m\u001b[43m,\u001b[49m\u001b[38;5;241;43m3\u001b[39;49m\u001b[43m,\u001b[49m\u001b[38;5;241;43m12\u001b[39;49m\u001b[43m,\u001b[49m\u001b[38;5;241;43m45\u001b[39;49m\u001b[43m,\u001b[49m\u001b[38;5;241;43m78\u001b[39;49m\u001b[43m,\u001b[49m\u001b[38;5;241;43m12\u001b[39;49m\u001b[43m]\u001b[49m\u001b[43m)\u001b[49m\n",
      "Input \u001b[1;32mIn [85]\u001b[0m, in \u001b[0;36mcount\u001b[1;34m(lista, elemento)\u001b[0m\n\u001b[0;32m      4\u001b[0m \u001b[38;5;124;03m'''Conta quantas vezes o elemento aparece em lista retorna um número inteiro'''\u001b[39;00m\n\u001b[0;32m      5\u001b[0m \u001b[38;5;28;01mif\u001b[39;00m \u001b[38;5;28mtype\u001b[39m(lista)\u001b[38;5;241m!=\u001b[39m \u001b[38;5;28mlist\u001b[39m:\n\u001b[1;32m----> 6\u001b[0m     \u001b[38;5;28;01mraise\u001b[39;00m \u001b[38;5;167;01mTypeError\u001b[39;00m(\u001b[38;5;124m'\u001b[39m\u001b[38;5;124mO argumento lista precisa ser uma lista\u001b[39m\u001b[38;5;124m'\u001b[39m)\n\u001b[0;32m      7\u001b[0m \u001b[38;5;28mprint\u001b[39m(\u001b[38;5;124mf\u001b[39m\u001b[38;5;124m'\u001b[39m\u001b[38;5;124melemento é \u001b[39m\u001b[38;5;132;01m{\u001b[39;00melemento\u001b[38;5;132;01m}\u001b[39;00m\u001b[38;5;124m e lista é \u001b[39m\u001b[38;5;132;01m{\u001b[39;00mlista\u001b[38;5;132;01m}\u001b[39;00m\u001b[38;5;124m'\u001b[39m)\n\u001b[0;32m      8\u001b[0m lista_elemento \u001b[38;5;241m=\u001b[39m [item \u001b[38;5;28;01mfor\u001b[39;00m item \u001b[38;5;129;01min\u001b[39;00m lista \u001b[38;5;28;01mif\u001b[39;00m item\u001b[38;5;241m==\u001b[39melemento]\n",
      "\u001b[1;31mTypeError\u001b[0m: O argumento lista precisa ser uma lista"
     ]
    }
   ],
   "source": [
    "count(12, [12,3,12,45,78,12])"
   ]
  },
  {
   "cell_type": "code",
   "execution_count": 82,
   "metadata": {
    "ExecuteTime": {
     "end_time": "2022-10-21T13:18:04.707311Z",
     "start_time": "2022-10-21T13:18:04.696055Z"
    }
   },
   "outputs": [
    {
     "data": {
      "text/plain": [
       "3"
      ]
     },
     "execution_count": 82,
     "metadata": {},
     "output_type": "execute_result"
    }
   ],
   "source": [
    "[12,3,12,45,78,12].count(12)"
   ]
  },
  {
   "cell_type": "markdown",
   "metadata": {},
   "source": [
    "## O que é uma classe?"
   ]
  },
  {
   "cell_type": "markdown",
   "metadata": {},
   "source": [
    "> Uma estrutura que carrega funções e dados. Dentro das classes, funções são chamadas de `methods` e dados `attributes`."
   ]
  },
  {
   "cell_type": "code",
   "execution_count": 89,
   "metadata": {
    "ExecuteTime": {
     "end_time": "2022-10-21T13:23:13.338457Z",
     "start_time": "2022-10-21T13:23:13.321915Z"
    }
   },
   "outputs": [
    {
     "data": {
      "text/plain": [
       "str"
      ]
     },
     "execution_count": 89,
     "metadata": {},
     "output_type": "execute_result"
    }
   ],
   "source": [
    "a = 'Atum'\n",
    "type(a)"
   ]
  },
  {
   "cell_type": "code",
   "execution_count": 90,
   "metadata": {
    "ExecuteTime": {
     "end_time": "2022-10-21T13:23:33.198750Z",
     "start_time": "2022-10-21T13:23:33.184014Z"
    }
   },
   "outputs": [
    {
     "data": {
      "text/plain": [
       "type"
      ]
     },
     "execution_count": 90,
     "metadata": {},
     "output_type": "execute_result"
    }
   ],
   "source": [
    "type(str)"
   ]
  },
  {
   "cell_type": "code",
   "execution_count": 3,
   "metadata": {
    "ExecuteTime": {
     "end_time": "2022-10-21T11:49:28.266952Z",
     "start_time": "2022-10-21T11:49:28.251322Z"
    }
   },
   "outputs": [
    {
     "data": {
      "text/plain": [
       "type"
      ]
     },
     "execution_count": 3,
     "metadata": {},
     "output_type": "execute_result"
    }
   ],
   "source": [
    "type(list)"
   ]
  },
  {
   "cell_type": "markdown",
   "metadata": {},
   "source": [
    "### Creating a simple class\n",
    "\n",
    "No Python definimos uma classe através da palavra chave `class`. Uma classe é uma *blueprint* para objetos."
   ]
  },
  {
   "cell_type": "code",
   "execution_count": 6,
   "metadata": {
    "ExecuteTime": {
     "end_time": "2022-10-21T11:55:41.709672Z",
     "start_time": "2022-10-21T11:55:41.705671Z"
    }
   },
   "outputs": [],
   "source": [
    "# quais são os seis passos para definir uma função?\n",
    "def o_grito():\n",
    "    pass\n"
   ]
  },
  {
   "cell_type": "code",
   "execution_count": 94,
   "metadata": {
    "ExecuteTime": {
     "end_time": "2022-10-21T13:28:24.271571Z",
     "start_time": "2022-10-21T13:28:24.262710Z"
    }
   },
   "outputs": [],
   "source": [
    "class RetanguloEOutraCoisa:\n",
    "    pass"
   ]
  },
  {
   "cell_type": "code",
   "execution_count": 97,
   "metadata": {
    "ExecuteTime": {
     "end_time": "2022-10-21T13:29:04.802907Z",
     "start_time": "2022-10-21T13:29:04.791381Z"
    },
    "scrolled": true
   },
   "outputs": [
    {
     "data": {
      "text/plain": [
       "__main__.Retangulo"
      ]
     },
     "execution_count": 97,
     "metadata": {},
     "output_type": "execute_result"
    }
   ],
   "source": [
    "type(Retangulo())"
   ]
  },
  {
   "cell_type": "code",
   "execution_count": 98,
   "metadata": {
    "ExecuteTime": {
     "end_time": "2022-10-21T13:34:27.148968Z",
     "start_time": "2022-10-21T13:34:27.140376Z"
    }
   },
   "outputs": [],
   "source": [
    "import pandas\n",
    "pandas."
   ]
  },
  {
   "cell_type": "markdown",
   "metadata": {},
   "source": [
    "### Instanciando objetos I\n",
    "\n",
    "A definição da classe representa um **tipo** (a idéia de algo, o *molde*). Da mesma forma que temos a idéia de **strings**, temos **strings** particulares: o tipo `str` e o string `'abc'` por exemplo.\n",
    "\n",
    "Para instanciar uma classe que criamos, invocamos a classe (como fazemos com funções) - dessa forma criaremos um objeto a partir do *blueprint* definido pela classe!"
   ]
  },
  {
   "cell_type": "code",
   "execution_count": 104,
   "metadata": {
    "ExecuteTime": {
     "end_time": "2022-10-21T13:43:23.083439Z",
     "start_time": "2022-10-21T13:43:23.079360Z"
    }
   },
   "outputs": [],
   "source": [
    "lista1 = [1,2,3]\n",
    "lista2 = [6,5,8]"
   ]
  },
  {
   "cell_type": "code",
   "execution_count": 103,
   "metadata": {
    "ExecuteTime": {
     "end_time": "2022-10-21T13:42:23.408698Z",
     "start_time": "2022-10-21T13:42:23.396717Z"
    }
   },
   "outputs": [],
   "source": [
    "meu_retangulo = Retangulo()"
   ]
  },
  {
   "cell_type": "code",
   "execution_count": 105,
   "metadata": {
    "ExecuteTime": {
     "end_time": "2022-10-21T13:43:39.815516Z",
     "start_time": "2022-10-21T13:43:39.808510Z"
    }
   },
   "outputs": [
    {
     "data": {
      "text/plain": [
       "__main__.Retangulo"
      ]
     },
     "execution_count": 105,
     "metadata": {},
     "output_type": "execute_result"
    }
   ],
   "source": [
    "type(meu_retangulo)"
   ]
  },
  {
   "cell_type": "code",
   "execution_count": 107,
   "metadata": {
    "ExecuteTime": {
     "end_time": "2022-10-21T13:44:15.962635Z",
     "start_time": "2022-10-21T13:44:15.945190Z"
    }
   },
   "outputs": [
    {
     "name": "stdout",
     "output_type": "stream",
     "text": [
      "Help on Retangulo in module __main__ object:\n",
      "\n",
      "class Retangulo(builtins.object)\n",
      " |  Data descriptors defined here:\n",
      " |  \n",
      " |  __dict__\n",
      " |      dictionary for instance variables (if defined)\n",
      " |  \n",
      " |  __weakref__\n",
      " |      list of weak references to the object (if defined)\n",
      "\n"
     ]
    }
   ],
   "source": [
    "help(meu_retangulo)"
   ]
  },
  {
   "cell_type": "code",
   "execution_count": 108,
   "metadata": {
    "ExecuteTime": {
     "end_time": "2022-10-21T13:44:55.124566Z",
     "start_time": "2022-10-21T13:44:55.108111Z"
    }
   },
   "outputs": [
    {
     "data": {
      "text/plain": [
       "['__class__',\n",
       " '__delattr__',\n",
       " '__dict__',\n",
       " '__dir__',\n",
       " '__doc__',\n",
       " '__eq__',\n",
       " '__format__',\n",
       " '__ge__',\n",
       " '__getattribute__',\n",
       " '__gt__',\n",
       " '__hash__',\n",
       " '__init__',\n",
       " '__init_subclass__',\n",
       " '__le__',\n",
       " '__lt__',\n",
       " '__module__',\n",
       " '__ne__',\n",
       " '__new__',\n",
       " '__reduce__',\n",
       " '__reduce_ex__',\n",
       " '__repr__',\n",
       " '__setattr__',\n",
       " '__sizeof__',\n",
       " '__str__',\n",
       " '__subclasshook__',\n",
       " '__weakref__']"
      ]
     },
     "execution_count": 108,
     "metadata": {},
     "output_type": "execute_result"
    }
   ],
   "source": [
    "dir(meu_retangulo)"
   ]
  },
  {
   "cell_type": "markdown",
   "metadata": {},
   "source": [
    "## O método `__init__`\n",
    "\n",
    "Quando instanciamos uma classe na verdade estamos utilizando um método `dunder` que toda classe tem: o método `__init__`. Este método define o que devemos definir na criação de uma instância de uma classe.\n",
    "\n",
    "Para definir um **método** utilizamos a mesma notação que utilizamos uma notação muito semelhante à de funções."
   ]
  },
  {
   "cell_type": "code",
   "execution_count": 114,
   "metadata": {
    "ExecuteTime": {
     "end_time": "2022-10-21T14:09:38.151802Z",
     "start_time": "2022-10-21T14:09:38.142695Z"
    }
   },
   "outputs": [],
   "source": [
    "class Retangulo:\n",
    "    \n",
    "    def __init__(self, comprimento, largura):\n",
    "        '''\n",
    "        Método para instanciar (criar) um rentagulo.\n",
    "            comprimento: float\n",
    "            largura: float\n",
    "        '''\n",
    "        print('oi')"
   ]
  },
  {
   "cell_type": "code",
   "execution_count": 115,
   "metadata": {
    "ExecuteTime": {
     "end_time": "2022-10-21T14:09:45.417220Z",
     "start_time": "2022-10-21T14:09:45.406698Z"
    }
   },
   "outputs": [
    {
     "name": "stdout",
     "output_type": "stream",
     "text": [
      "oi\n"
     ]
    },
    {
     "data": {
      "text/plain": [
       "<__main__.Retangulo at 0x2780ea71970>"
      ]
     },
     "execution_count": 115,
     "metadata": {},
     "output_type": "execute_result"
    }
   ],
   "source": [
    "Retangulo(10,15)"
   ]
  },
  {
   "cell_type": "markdown",
   "metadata": {},
   "source": [
    "A primeira diferença é que, para definir um **método** e não uma **função** devemos utilizar a palavra-chave `def` dentro do bloco indentado da classe. A segunda é que (quase) todo método começa com um atributo chamado `self`. \n",
    "\n",
    "Este atributo *misterioso* é uma forma de referenciar a instancia. Um jeito de ver isso mais diretamente é instanciando uma classe e vendo seus `attributes`"
   ]
  },
  {
   "cell_type": "markdown",
   "metadata": {},
   "source": [
    "### Attributes\n",
    "\n",
    "Atributos são como características de uma classe. São como variáveis associadas à alguma classe"
   ]
  },
  {
   "cell_type": "code",
   "execution_count": 116,
   "metadata": {
    "ExecuteTime": {
     "end_time": "2022-10-21T14:11:00.824108Z",
     "start_time": "2022-10-21T14:11:00.813409Z"
    }
   },
   "outputs": [],
   "source": [
    "class Retangulo:\n",
    "    \n",
    "    def __init__(self, comprimento, largura):\n",
    "        '''\n",
    "        Método para instanciar (criar) um rentagulo.\n",
    "            comprimento: float\n",
    "            largura: float\n",
    "        '''\n",
    "        self.dim = (comprimento, largura)"
   ]
  },
  {
   "cell_type": "code",
   "execution_count": 134,
   "metadata": {
    "ExecuteTime": {
     "end_time": "2022-10-21T14:29:00.926453Z",
     "start_time": "2022-10-21T14:29:00.913729Z"
    }
   },
   "outputs": [],
   "source": [
    "meu_retangulo = Retangulo(10, 15)"
   ]
  },
  {
   "cell_type": "code",
   "execution_count": 118,
   "metadata": {
    "ExecuteTime": {
     "end_time": "2022-10-21T14:11:07.670470Z",
     "start_time": "2022-10-21T14:11:07.653590Z"
    }
   },
   "outputs": [
    {
     "data": {
      "text/plain": [
       "(10, 15)"
      ]
     },
     "execution_count": 118,
     "metadata": {},
     "output_type": "execute_result"
    }
   ],
   "source": [
    "meu_retangulo.dim"
   ]
  },
  {
   "cell_type": "code",
   "execution_count": 119,
   "metadata": {
    "ExecuteTime": {
     "end_time": "2022-10-21T14:11:11.969546Z",
     "start_time": "2022-10-21T14:11:11.958407Z"
    }
   },
   "outputs": [],
   "source": [
    "meu_retangulo.dim = 15"
   ]
  },
  {
   "cell_type": "code",
   "execution_count": 120,
   "metadata": {
    "ExecuteTime": {
     "end_time": "2022-10-21T14:11:15.306487Z",
     "start_time": "2022-10-21T14:11:15.292354Z"
    }
   },
   "outputs": [
    {
     "data": {
      "text/plain": [
       "15"
      ]
     },
     "execution_count": 120,
     "metadata": {},
     "output_type": "execute_result"
    }
   ],
   "source": [
    "meu_retangulo.dim"
   ]
  },
  {
   "cell_type": "code",
   "execution_count": 121,
   "metadata": {
    "ExecuteTime": {
     "end_time": "2022-10-21T14:11:36.459275Z",
     "start_time": "2022-10-21T14:11:36.445767Z"
    }
   },
   "outputs": [],
   "source": [
    "outro_retangulo = Retangulo(2, 20)"
   ]
  },
  {
   "cell_type": "code",
   "execution_count": 122,
   "metadata": {
    "ExecuteTime": {
     "end_time": "2022-10-21T14:11:44.838637Z",
     "start_time": "2022-10-21T14:11:44.820960Z"
    }
   },
   "outputs": [
    {
     "data": {
      "text/plain": [
       "(2, 20)"
      ]
     },
     "execution_count": 122,
     "metadata": {},
     "output_type": "execute_result"
    }
   ],
   "source": [
    "outro_retangulo.dim"
   ]
  },
  {
   "cell_type": "code",
   "execution_count": 135,
   "metadata": {
    "ExecuteTime": {
     "end_time": "2022-10-21T14:29:02.594284Z",
     "start_time": "2022-10-21T14:29:02.585526Z"
    }
   },
   "outputs": [
    {
     "data": {
      "text/plain": [
       "{'dim': (10, 15)}"
      ]
     },
     "execution_count": 135,
     "metadata": {},
     "output_type": "execute_result"
    }
   ],
   "source": [
    "meu_retangulo.__dict__"
   ]
  },
  {
   "cell_type": "markdown",
   "metadata": {},
   "source": [
    "Os atributos de uma classe são as características de cada instancia da classe. Por exemplo, podemos pensar que a classe *Ser Humano* tem uma característica que é *Cor dos Olhos*. Eu, sendo uma instância desta classe, um **valor específico** para este atributo: marrom.\n",
    "\n",
    "Como vimos acima, por padrão devemos acessar os atributos de um objeto através de seu nome. Agora vamos aprender a definir como a função `print()` representa um objeto. "
   ]
  },
  {
   "cell_type": "markdown",
   "metadata": {},
   "source": [
    "## O método `__repr__`\n",
    "\n",
    "Outro método padrão, como o `__init__`, é o método `__repr__`: este método nos permite especificar como a função print irá representar uma instância da classe."
   ]
  },
  {
   "cell_type": "code",
   "execution_count": 136,
   "metadata": {
    "ExecuteTime": {
     "end_time": "2022-10-21T14:30:46.691049Z",
     "start_time": "2022-10-21T14:30:46.681994Z"
    }
   },
   "outputs": [],
   "source": [
    "class Retangulo:\n",
    "    def __init__(self, comprimento, largura):\n",
    "        '''\n",
    "        Método para instanciar (criar) um rentagulo.\n",
    "            comprimento: float\n",
    "            largura: float\n",
    "        '''\n",
    "        self.dim = (comprimento, largura)\n",
    "    def __repr__(self):\n",
    "        return f'Este é um retangulo de {self.dim[0]} por {self.dim[1]}'"
   ]
  },
  {
   "cell_type": "markdown",
   "metadata": {},
   "source": [
    "O método `__repr__` deve sempre retornar um **string**. No exemplo acima utilizamos um `f-string` para que quando utilizemos um print sobre nossos retangulos tenhamos um string com as dimensões do mesmo."
   ]
  },
  {
   "cell_type": "code",
   "execution_count": 137,
   "metadata": {
    "ExecuteTime": {
     "end_time": "2022-10-21T14:30:49.515296Z",
     "start_time": "2022-10-21T14:30:49.505979Z"
    }
   },
   "outputs": [
    {
     "name": "stdout",
     "output_type": "stream",
     "text": [
      "Este é um retangulo de 10 por 15\n",
      "Este é um retangulo de 10 por 15\n",
      "Este é um retangulo de 10 por 15\n",
      "Este é um retangulo de 10 por 15\n"
     ]
    }
   ],
   "source": [
    "ret = [Retangulo(10,15), Retangulo(10,15), Retangulo(10,15), Retangulo(10,15)]\n",
    "for retangulo in ret:\n",
    "    print(retangulo)"
   ]
  },
  {
   "cell_type": "markdown",
   "metadata": {},
   "source": [
    "## Nossos métodos\n",
    "\n",
    "Métodos são como funções. A diferença é que esta função é específica desta classe é será acessa através da notação `instancia_da_classe.nome_do_método()`"
   ]
  },
  {
   "cell_type": "code",
   "execution_count": 142,
   "metadata": {
    "ExecuteTime": {
     "end_time": "2022-10-21T14:33:16.836931Z",
     "start_time": "2022-10-21T14:33:16.825756Z"
    }
   },
   "outputs": [],
   "source": [
    "class Retangulo:\n",
    "    \n",
    "    def __init__(self, comprimento, largura):\n",
    "        '''\n",
    "        Método para instanciar (criar) um rentagulo.\n",
    "            comprimento: float\n",
    "            largura: float\n",
    "        '''\n",
    "        self.dim = (comprimento, largura)\n",
    "    \n",
    "    def __repr__(self):\n",
    "        return f'Este é um retangulo de {self.dim[0]} por {self.dim[1]}'\n",
    "    \n",
    "    def calcular_area(self):\n",
    "        return self.dim[0] * self.dim[1]"
   ]
  },
  {
   "cell_type": "code",
   "execution_count": 143,
   "metadata": {
    "ExecuteTime": {
     "end_time": "2022-10-21T14:33:18.090933Z",
     "start_time": "2022-10-21T14:33:18.081391Z"
    }
   },
   "outputs": [
    {
     "name": "stdout",
     "output_type": "stream",
     "text": [
      "150\n"
     ]
    }
   ],
   "source": [
    "meu_retangulo = Retangulo(10, 15)\n",
    "print(meu_retangulo.calcular_area())"
   ]
  },
  {
   "cell_type": "markdown",
   "metadata": {},
   "source": [
    "### Operadores\n",
    "\n",
    "Podemos definir como nossa classe interage com operadores definindo métodos padrão para cada operador. Vamos definir um método para tornar possível a soma entre retangulos."
   ]
  },
  {
   "cell_type": "code",
   "execution_count": 164,
   "metadata": {
    "ExecuteTime": {
     "end_time": "2022-10-21T15:00:36.049219Z",
     "start_time": "2022-10-21T15:00:36.035731Z"
    }
   },
   "outputs": [],
   "source": [
    "class Retangulo:\n",
    "    \n",
    "    def __init__(self, comprimento, largura):\n",
    "        '''\n",
    "        Método para instanciar (criar) um rentagulo.\n",
    "            comprimento: float\n",
    "            largura: float\n",
    "        '''\n",
    "        self.dim = (comprimento, largura)\n",
    "    \n",
    "    def __repr__(self):\n",
    "        return f'Este é um retangulo de {self.dim[0]} por {self.dim[1]}'\n",
    "    \n",
    "    def __add__(self, other_rectangle):\n",
    "        return Retangulo(self.dim[0] + other_rectangle.dim[0], self.dim[1] + other_rectangle.dim[1])\n",
    "\n",
    "    \n",
    "    def calcular_area(self):\n",
    "        return self.dim[0] * self.dim[1]"
   ]
  },
  {
   "cell_type": "code",
   "execution_count": 165,
   "metadata": {
    "ExecuteTime": {
     "end_time": "2022-10-21T15:00:44.257753Z",
     "start_time": "2022-10-21T15:00:44.250605Z"
    }
   },
   "outputs": [
    {
     "name": "stdout",
     "output_type": "stream",
     "text": [
      "Este é um retangulo de 15 por 20\n"
     ]
    }
   ],
   "source": [
    "meu_retangulo = Retangulo(10, 15)\n",
    "meu_outro_retangulo = Retangulo(5, 5)\n",
    "meu_3o_retangulo = meu_retangulo + meu_outro_retangulo\n",
    "print(meu_3o_retangulo)"
   ]
  },
  {
   "cell_type": "markdown",
   "metadata": {},
   "source": [
    "Classes são como **moldes** que criam uma **instância** ou um **exemplo** de um objeto que compartilham propriedades (como `nome`,`cor_cabelo`, etc) entre si, porém, se diferenciam pelo valor que estas propriedades tomam (como `nome = 'Fitó'` vs `nome = 'Mc Donalds'`)"
   ]
  },
  {
   "cell_type": "markdown",
   "metadata": {},
   "source": [
    "# Class Inheritence - Herança\n",
    "\n",
    "Até agora vimos como definir uma classe do 0 - no entanto podemos aproveitar outras classes para definir novas classes. Esse conceito chama-se `herança` pois a nova classe herdará os métodos e atributos de outra classe.\n",
    "\n",
    "Vamos começar definindo a classe `Quadrado` a partir do 0 e depois vamos re-aproveitar a classe `Retangulo` através da herança."
   ]
  },
  {
   "cell_type": "code",
   "execution_count": 167,
   "metadata": {
    "ExecuteTime": {
     "end_time": "2022-10-21T15:15:41.910433Z",
     "start_time": "2022-10-21T15:15:41.894885Z"
    }
   },
   "outputs": [],
   "source": [
    "class Quadrado:\n",
    "    \n",
    "    def __init__(self, comprimento):\n",
    "        '''\n",
    "        Método para instanciar (criar) um rentagulo.\n",
    "            comprimento: float\n",
    "            largura: float\n",
    "        '''\n",
    "        self.dim = (comprimento, comprimento)\n",
    "    \n",
    "    def __repr__(self):\n",
    "        return f'Este é um quadrado de {self.dim[0]} por {self.dim[1]}'\n",
    "    \n",
    "    def calcular_area(self):\n",
    "        return self.dim[0] * self.dim[1]"
   ]
  },
  {
   "cell_type": "code",
   "execution_count": 168,
   "metadata": {
    "ExecuteTime": {
     "end_time": "2022-10-21T15:15:43.325466Z",
     "start_time": "2022-10-21T15:15:43.318664Z"
    }
   },
   "outputs": [
    {
     "name": "stdout",
     "output_type": "stream",
     "text": [
      "Este é um quadrado de 5 por 5\n",
      "25\n"
     ]
    }
   ],
   "source": [
    "meu_quadrado = Quadrado(5)\n",
    "print(meu_quadrado)\n",
    "print(meu_quadrado.calcular_area())"
   ]
  },
  {
   "cell_type": "markdown",
   "metadata": {},
   "source": [
    "Bem, um quadrado nada mais é que um retangulo cujas duas dimensões são iguais entre si. Vamos utilizar a herança de classe para facilitar a construção da classe quadrado."
   ]
  },
  {
   "cell_type": "code",
   "execution_count": 169,
   "metadata": {
    "ExecuteTime": {
     "end_time": "2022-10-21T15:15:52.189744Z",
     "start_time": "2022-10-21T15:15:52.174908Z"
    }
   },
   "outputs": [],
   "source": [
    "class Retangulo:\n",
    "    \n",
    "    def __init__(self, comprimento, largura):\n",
    "        '''\n",
    "        Método para instanciar (criar) um rentagulo.\n",
    "            comprimento: float\n",
    "            largura: float\n",
    "        '''\n",
    "        self.dim = (comprimento, largura)\n",
    "    \n",
    "    def __repr__(self):\n",
    "        return f'Este é um retangulo de {self.dim[0]} por {self.dim[1]}'\n",
    "    \n",
    "    def calcular_area(self):\n",
    "        return self.dim[0] * self.dim[1]"
   ]
  },
  {
   "cell_type": "code",
   "execution_count": 175,
   "metadata": {
    "ExecuteTime": {
     "end_time": "2022-10-21T15:21:26.415613Z",
     "start_time": "2022-10-21T15:21:26.398453Z"
    }
   },
   "outputs": [],
   "source": [
    "class Quadrado(Retangulo):\n",
    "    \n",
    "    def calcular_area(self):\n",
    "        return 'Esse metodo foi deletado'\n",
    "    \n",
    "    def informacao(self):\n",
    "        print('Voce sabia que os quadrados são retangulos de lados iguais?')"
   ]
  },
  {
   "cell_type": "code",
   "execution_count": 176,
   "metadata": {
    "ExecuteTime": {
     "end_time": "2022-10-21T15:21:27.843543Z",
     "start_time": "2022-10-21T15:21:27.839282Z"
    }
   },
   "outputs": [],
   "source": [
    "meu_quadrado = Quadrado(10,10)"
   ]
  },
  {
   "cell_type": "code",
   "execution_count": 177,
   "metadata": {
    "ExecuteTime": {
     "end_time": "2022-10-21T15:21:28.527311Z",
     "start_time": "2022-10-21T15:21:28.510321Z"
    }
   },
   "outputs": [
    {
     "data": {
      "text/plain": [
       "(10, 10)"
      ]
     },
     "execution_count": 177,
     "metadata": {},
     "output_type": "execute_result"
    }
   ],
   "source": [
    "meu_quadrado.dim"
   ]
  },
  {
   "cell_type": "code",
   "execution_count": 178,
   "metadata": {
    "ExecuteTime": {
     "end_time": "2022-10-21T15:21:31.247257Z",
     "start_time": "2022-10-21T15:21:31.237316Z"
    }
   },
   "outputs": [
    {
     "data": {
      "text/plain": [
       "'Esse metodo foi deletado'"
      ]
     },
     "execution_count": 178,
     "metadata": {},
     "output_type": "execute_result"
    }
   ],
   "source": [
    "meu_quadrado.calcular_area()"
   ]
  },
  {
   "cell_type": "code",
   "execution_count": 174,
   "metadata": {
    "ExecuteTime": {
     "end_time": "2022-10-21T15:17:07.095060Z",
     "start_time": "2022-10-21T15:17:07.087945Z"
    }
   },
   "outputs": [
    {
     "name": "stdout",
     "output_type": "stream",
     "text": [
      "Voce sabia que os quadrados são retangulos de lados iguais?\n"
     ]
    }
   ],
   "source": [
    "meu_quadrado.informacao()"
   ]
  },
  {
   "cell_type": "markdown",
   "metadata": {},
   "source": [
    "Vamos utilizar a função `super()` para acessar os métodos da classe pai dentro da classe filho. Por exemplo, no caso dos quadrados queremos que o método `__init__` de um quadrado receba apenas um lado e que se utilize do método `__init__` dos retângulos (replicando o valor do parâmetro `lado` para as duas dimensões). "
   ]
  },
  {
   "cell_type": "code",
   "execution_count": 179,
   "metadata": {
    "ExecuteTime": {
     "end_time": "2022-10-21T15:23:46.997027Z",
     "start_time": "2022-10-21T15:23:46.982301Z"
    }
   },
   "outputs": [],
   "source": [
    "class Quadrado(Retangulo):\n",
    "    \n",
    "    def __init__(self, lado):\n",
    "        super().__init__(lado, lado)\n",
    "        \n",
    "    def __repr__(self):\n",
    "        return f'Este é um quadrado de {self.dim[0]} por {self.dim[1]}'"
   ]
  },
  {
   "cell_type": "markdown",
   "metadata": {},
   "source": [
    "Todo método que é redefinido na classe filho **sobrescreve** os métodos da classe pai! Ao redifinir os métodos `__init__` e `__repr__` estamos sobrescrevendo os métodos definidos na classe retangulo.\n",
    "\n",
    "Todos os outros métodos são mantidos (por exemplo, o método `.calcular_area()`)."
   ]
  },
  {
   "cell_type": "code",
   "execution_count": 180,
   "metadata": {
    "ExecuteTime": {
     "end_time": "2022-10-21T15:23:52.783668Z",
     "start_time": "2022-10-21T15:23:52.765416Z"
    }
   },
   "outputs": [
    {
     "name": "stdout",
     "output_type": "stream",
     "text": [
      "25\n"
     ]
    }
   ],
   "source": [
    "meu_quadrado = Quadrado(5)\n",
    "print(meu_quadrado.calcular_area())"
   ]
  },
  {
   "cell_type": "markdown",
   "metadata": {},
   "source": [
    "Além de sobrescrever métodos específicos para mudar o comportamento da classe filho, podemos modifica-los para tratar métodos da classe pai que não fazem sentido no contexto da classe filho. Para isso utilizaremos o `raise` para levantar um erro."
   ]
  },
  {
   "cell_type": "code",
   "execution_count": 181,
   "metadata": {
    "ExecuteTime": {
     "end_time": "2022-10-21T15:25:42.270919Z",
     "start_time": "2022-10-21T15:25:42.261361Z"
    }
   },
   "outputs": [],
   "source": [
    "class Cubo(Quadrado):\n",
    "    \n",
    "    def __repr__(self):\n",
    "        return f'Este é um cubo de lado {self.dim[0]}'\n",
    "    \n",
    "    def calcular_volume(self):\n",
    "        return super().calcular_area() * self.dim[0]\n",
    "    \n",
    "    def calcular_area(self):\n",
    "        raise TypeError('Classe Cubo não tem area!')"
   ]
  },
  {
   "cell_type": "code",
   "execution_count": 182,
   "metadata": {
    "ExecuteTime": {
     "end_time": "2022-10-21T15:25:43.832390Z",
     "start_time": "2022-10-21T15:25:43.821860Z"
    }
   },
   "outputs": [],
   "source": [
    "meu_cubo = Cubo(5)"
   ]
  },
  {
   "cell_type": "code",
   "execution_count": 183,
   "metadata": {
    "ExecuteTime": {
     "end_time": "2022-10-21T15:26:00.435574Z",
     "start_time": "2022-10-21T15:26:00.406443Z"
    }
   },
   "outputs": [
    {
     "ename": "TypeError",
     "evalue": "Classe Cubo não tem area!",
     "output_type": "error",
     "traceback": [
      "\u001b[1;31m---------------------------------------------------------------------------\u001b[0m",
      "\u001b[1;31mTypeError\u001b[0m                                 Traceback (most recent call last)",
      "Input \u001b[1;32mIn [183]\u001b[0m, in \u001b[0;36m<cell line: 1>\u001b[1;34m()\u001b[0m\n\u001b[1;32m----> 1\u001b[0m \u001b[43mmeu_cubo\u001b[49m\u001b[38;5;241;43m.\u001b[39;49m\u001b[43mcalcular_area\u001b[49m\u001b[43m(\u001b[49m\u001b[43m)\u001b[49m\n",
      "Input \u001b[1;32mIn [181]\u001b[0m, in \u001b[0;36mCubo.calcular_area\u001b[1;34m(self)\u001b[0m\n\u001b[0;32m      9\u001b[0m \u001b[38;5;28;01mdef\u001b[39;00m \u001b[38;5;21mcalcular_area\u001b[39m(\u001b[38;5;28mself\u001b[39m):\n\u001b[1;32m---> 10\u001b[0m     \u001b[38;5;28;01mraise\u001b[39;00m \u001b[38;5;167;01mTypeError\u001b[39;00m(\u001b[38;5;124m'\u001b[39m\u001b[38;5;124mClasse Cubo não tem area!\u001b[39m\u001b[38;5;124m'\u001b[39m)\n",
      "\u001b[1;31mTypeError\u001b[0m: Classe Cubo não tem area!"
     ]
    }
   ],
   "source": [
    "meu_cubo.calcular_area()"
   ]
  },
  {
   "cell_type": "code",
   "execution_count": 64,
   "metadata": {
    "ExecuteTime": {
     "end_time": "2022-10-21T12:32:21.796734Z",
     "start_time": "2022-10-21T12:32:21.787089Z"
    }
   },
   "outputs": [
    {
     "name": "stdout",
     "output_type": "stream",
     "text": [
      "Este é um cubo de lado 5\n"
     ]
    }
   ],
   "source": [
    "print(meu_cubo)"
   ]
  },
  {
   "cell_type": "markdown",
   "metadata": {},
   "source": [
    "# Resumo\n",
    "```python\n",
    "class NomeDaClasse:\n",
    "    def __init__(self,atributo1,atributo2...):\n",
    "        \n",
    "        self.atributo2 = atributo2\n",
    "        self.atributo3 = constante\n",
    "        self.atributo4 = calculo(atributo1)\n",
    "        if atributo1 in verificação:  #não obrigatorio\n",
    "            self.atributo1 = atributo1 #não obrigatorio\n",
    "        else:                           #não obrigatorio\n",
    "            raise ValueError ('Isso da um erro') #não obrigatorio\n",
    "    def nome_do_metodo(self,argumentos_do_metodo):\n",
    "        # posso por qualquer operação aqui dentro\n",
    "        self.atributo2 = novo_valor\n",
    "        self.novo_atributo = novo_valor\n",
    "```\n",
    "* Herança\n",
    "```python\n",
    "class NomeDaClasseFilha(NomeDaClasseMae):\n",
    "    def __init__(self,atributos classe mae,atributos classe filha...):\n",
    "        super().__init__(atributos classe mae)\n",
    "        self.atributoclassefilha = atributoclassefilha\n",
    "    def nome_do_metodo(self,argumentos_do_metodo):\n",
    "        # posso por qualquer operação aqui dentro\n",
    "        self.atributo2 = novo_valor\n",
    "        self.novo_atributo = novo_valor\n",
    " ```\n",
    "        \n",
    "* nome_do_objeto = NomeDaClasse(atributo1 = valor_1, atributo2= valor_2)\n",
    "* `nome_do_objeto.__dict__` # mostra todos os atributos dentro do objeto\n",
    "* dir(nome_do_objeto) # mostra todos os metodos e atributos dentro do objeto"
   ]
  },
  {
   "cell_type": "code",
   "execution_count": 191,
   "metadata": {
    "ExecuteTime": {
     "end_time": "2022-10-21T19:08:36.647137Z",
     "start_time": "2022-10-21T19:08:36.603649Z"
    }
   },
   "outputs": [
    {
     "name": "stdout",
     "output_type": "stream",
     "text": [
      "Atormentando crianças!\n",
      "Atormentando crianças!\n",
      "None\n",
      "0.4\n",
      "Atormentando crianças!\n",
      "Atormentando crianças!\n",
      "Atormentando crianças!\n",
      "Atormentando crianças!\n"
     ]
    },
    {
     "data": {
      "text/plain": [
       "True"
      ]
     },
     "execution_count": 191,
     "metadata": {},
     "output_type": "execute_result"
    }
   ],
   "source": [
    "#Piolho\n",
    "# numero_patas\n",
    "# tamanho\n",
    "# cor\n",
    "# sexo\n",
    "# chupar_sangue\n",
    "# reproduzir\n",
    "# mover\n",
    "import random\n",
    "class Piolho:\n",
    "    def __init__(self,n_patas,tamanho,cor,sexo):\n",
    "        print('Atormentando crianças!')\n",
    "        if isinstance(cor,str):\n",
    "            self.cor = cor\n",
    "        else:\n",
    "            raise TypeError('Cor precisa ser string')\n",
    "        if cor not in ['bege','cinza']:\n",
    "            raise ValueError('Cor precisa ser ou bege ou cinza')\n",
    "        self.num_patas = n_patas\n",
    "        self.tamanho = tamanho\n",
    "        \n",
    "        self.sexo = sexo\n",
    "        if self.num_patas<6:\n",
    "            self.ferido = True\n",
    "        else:\n",
    "            self.ferido = False\n",
    "    def chupar_sangue(self,inplace = False):\n",
    "        if inplace==True:\n",
    "            self.tamanho = self.tamanho+0.1\n",
    "        else:\n",
    "            return self.tamanho+0.1\n",
    "    def reproduzir(self):\n",
    "        self.filhos = True\n",
    "        return Piolho(6,0.001,self.cor,self.sexo)\n",
    "    \n",
    "    def __add__(self,mae):\n",
    "        self.filhos = True\n",
    "        outro_piolho.filhos=True\n",
    "        cor_filho = random.choice([self.cor,outro_piolho.cor])\n",
    "        sexo_filho = random.choice([self.sexo,outro_piolho.sexo])\n",
    "        return Piolho(6,0.001,cor_filho,sexo_filho)\n",
    "    \n",
    "piolho_fernando = Piolho(6,0.3,'bege','femea')\n",
    "piolho_lena = Piolho(3,0.3,'cinza','macho')\n",
    "\n",
    "print(piolho_fernando.chupar_sangue(inplace=True))\n",
    "print(piolho_fernando.tamanho)\n",
    "piolho_pedro = piolho_fernando.reproduzir()\n",
    "piolho_fernando + piolho_lena\n",
    "\n",
    "class PiolhoLivro(Piolho):\n",
    "    def __init__(self,n_patas,tamanho,cor,sexo,autor_favorito):\n",
    "        super().__init__(n_patas,tamanho,cor,sexo)\n",
    "    def chupar_sangue(self):\n",
    "        raise TypeError('Piolho de livro não chupa sangue')\n",
    "\n",
    "piolho_bets = PiolhoLivro(6,0.3,'cinza','femea','Ursula')\n",
    "piolho_fernando.chupar_sangue()\n",
    "piolho_bets.reproduzir()\n",
    "piolho_bets.filhos"
   ]
  },
  {
   "cell_type": "code",
   "execution_count": 192,
   "metadata": {
    "ExecuteTime": {
     "end_time": "2022-10-21T19:08:48.286628Z",
     "start_time": "2022-10-21T19:08:48.268800Z"
    }
   },
   "outputs": [
    {
     "name": "stdout",
     "output_type": "stream",
     "text": [
      "Atormentando crianças!\n",
      "Atormentando crianças!\n"
     ]
    }
   ],
   "source": [
    "piolho_fernando = Piolho(6,0.3,'bege','femea')\n",
    "piolho_lena = Piolho(3,0.3,'cinza','macho')"
   ]
  },
  {
   "cell_type": "code",
   "execution_count": 199,
   "metadata": {
    "ExecuteTime": {
     "end_time": "2022-10-21T19:16:37.857162Z",
     "start_time": "2022-10-21T19:16:37.844067Z"
    },
    "scrolled": true
   },
   "outputs": [
    {
     "name": "stdout",
     "output_type": "stream",
     "text": [
      "Atormentando crianças!\n",
      "Atormentando crianças!\n",
      "Atormentando crianças!\n",
      "Atormentando crianças!\n",
      "Atormentando crianças!\n",
      "Atormentando crianças!\n",
      "Atormentando crianças!\n",
      "Atormentando crianças!\n",
      "Atormentando crianças!\n",
      "Atormentando crianças!\n"
     ]
    }
   ],
   "source": [
    "x = [piolho_fernando.__add__(piolho_lena) for i in range(10)]"
   ]
  },
  {
   "cell_type": "code",
   "execution_count": 203,
   "metadata": {
    "ExecuteTime": {
     "end_time": "2022-10-21T19:17:28.335502Z",
     "start_time": "2022-10-21T19:17:28.331500Z"
    }
   },
   "outputs": [],
   "source": [
    "piolho_fernando.filhos = x"
   ]
  },
  {
   "cell_type": "code",
   "execution_count": 197,
   "metadata": {
    "ExecuteTime": {
     "end_time": "2022-10-21T19:09:33.834230Z",
     "start_time": "2022-10-21T19:09:33.828633Z"
    }
   },
   "outputs": [
    {
     "data": {
      "text/plain": [
       "True"
      ]
     },
     "execution_count": 197,
     "metadata": {},
     "output_type": "execute_result"
    }
   ],
   "source": [
    "piolho_fernando.filhos"
   ]
  },
  {
   "cell_type": "code",
   "execution_count": 198,
   "metadata": {
    "ExecuteTime": {
     "end_time": "2022-10-21T19:09:51.835599Z",
     "start_time": "2022-10-21T19:09:51.820560Z"
    }
   },
   "outputs": [
    {
     "data": {
      "text/plain": [
       "True"
      ]
     },
     "execution_count": 198,
     "metadata": {},
     "output_type": "execute_result"
    }
   ],
   "source": [
    "piolho_lena.filhos"
   ]
  },
  {
   "cell_type": "code",
   "execution_count": null,
   "metadata": {},
   "outputs": [],
   "source": []
  }
 ],
 "metadata": {
  "kernelspec": {
   "display_name": "Python 3 (ipykernel)",
   "language": "python",
   "name": "python3"
  },
  "language_info": {
   "codemirror_mode": {
    "name": "ipython",
    "version": 3
   },
   "file_extension": ".py",
   "mimetype": "text/x-python",
   "name": "python",
   "nbconvert_exporter": "python",
   "pygments_lexer": "ipython3",
   "version": "3.8.13"
  },
  "toc": {
   "base_numbering": 1,
   "nav_menu": {},
   "number_sections": true,
   "sideBar": true,
   "skip_h1_title": false,
   "title_cell": "Table of Contents",
   "title_sidebar": "Contents",
   "toc_cell": false,
   "toc_position": {},
   "toc_section_display": true,
   "toc_window_display": false
  },
  "toc-autonumbering": true,
  "toc-showcode": false,
  "toc-showmarkdowntxt": true,
  "varInspector": {
   "cols": {
    "lenName": 16,
    "lenType": 16,
    "lenVar": 40
   },
   "kernels_config": {
    "python": {
     "delete_cmd_postfix": "",
     "delete_cmd_prefix": "del ",
     "library": "var_list.py",
     "varRefreshCmd": "print(var_dic_list())"
    },
    "r": {
     "delete_cmd_postfix": ") ",
     "delete_cmd_prefix": "rm(",
     "library": "var_list.r",
     "varRefreshCmd": "cat(var_dic_list()) "
    }
   },
   "types_to_exclude": [
    "module",
    "function",
    "builtin_function_or_method",
    "instance",
    "_Feature"
   ],
   "window_display": false
  }
 },
 "nbformat": 4,
 "nbformat_minor": 4
}
