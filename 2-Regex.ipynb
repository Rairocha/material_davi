{
 "cells": [
  {
   "cell_type": "markdown",
   "metadata": {},
   "source": [
    "# <u>Reg</u>ular <u>Ex</u>pression - Introdução a Regex"
   ]
  },
  {
   "cell_type": "markdown",
   "metadata": {},
   "source": [
    "Regex é uma forma de busca de `padrões` em texto."
   ]
  },
  {
   "cell_type": "code",
   "execution_count": 6,
   "metadata": {
    "ExecuteTime": {
     "end_time": "2022-10-19T12:38:50.444282Z",
     "start_time": "2022-10-19T12:38:50.436579Z"
    }
   },
   "outputs": [],
   "source": [
    "import re"
   ]
  },
  {
   "cell_type": "markdown",
   "metadata": {},
   "source": [
    "Para visualizar expressões regulares: https://regexper.com/"
   ]
  },
  {
   "cell_type": "code",
   "execution_count": 7,
   "metadata": {
    "ExecuteTime": {
     "end_time": "2022-10-19T12:40:16.749032Z",
     "start_time": "2022-10-19T12:40:16.737632Z"
    }
   },
   "outputs": [
    {
     "data": {
      "text/plain": [
       "['neighbor']"
      ]
     },
     "execution_count": 7,
     "metadata": {},
     "output_type": "execute_result"
    }
   ],
   "source": [
    "text = 'My neighbor, Mr. Rogers, has 5 dogs.'\n",
    "pattern = 'neighbor'\n",
    "\n",
    "re.findall(pattern, text)"
   ]
  },
  {
   "cell_type": "code",
   "execution_count": 8,
   "metadata": {
    "ExecuteTime": {
     "end_time": "2022-10-19T12:40:27.602626Z",
     "start_time": "2022-10-19T12:40:27.585587Z"
    }
   },
   "outputs": [
    {
     "data": {
      "text/plain": [
       "[]"
      ]
     },
     "execution_count": 8,
     "metadata": {},
     "output_type": "execute_result"
    }
   ],
   "source": [
    "text = 'My , Mr. Rogers, has 5 dogs.'\n",
    "pattern = 'neigh'\n",
    "\n",
    "re.findall(pattern, text)\n"
   ]
  },
  {
   "cell_type": "code",
   "execution_count": 9,
   "metadata": {
    "ExecuteTime": {
     "end_time": "2022-10-19T12:40:39.146354Z",
     "start_time": "2022-10-19T12:40:39.138332Z"
    }
   },
   "outputs": [
    {
     "data": {
      "text/plain": [
       "['neigh', 'neigh']"
      ]
     },
     "execution_count": 9,
     "metadata": {},
     "output_type": "execute_result"
    }
   ],
   "source": [
    "text = 'My neighbor, Mr. neighrogers, has 5 dogs.'\n",
    "pattern = 'neigh'\n",
    "\n",
    "re.findall(pattern, text)"
   ]
  },
  {
   "cell_type": "markdown",
   "metadata": {},
   "source": [
    "## Sets de regex"
   ]
  },
  {
   "cell_type": "code",
   "execution_count": 7,
   "metadata": {
    "ExecuteTime": {
     "end_time": "2022-08-09T20:56:06.887804Z",
     "start_time": "2022-08-09T20:56:06.869853Z"
    }
   },
   "outputs": [
    {
     "data": {
      "text/plain": [
       "['n', 'e', 'i', 'g', 'h', 'g', 'e', 'h', 'g']"
      ]
     },
     "execution_count": 7,
     "metadata": {},
     "output_type": "execute_result"
    }
   ],
   "source": [
    "text = 'My neighbor, Mr. Rogers, has 5 dogs.'\n",
    "pattern = '[neigh]'\n",
    "\n",
    "re.findall(pattern, text)"
   ]
  },
  {
   "cell_type": "code",
   "execution_count": 10,
   "metadata": {
    "ExecuteTime": {
     "end_time": "2022-10-19T12:43:19.252607Z",
     "start_time": "2022-10-19T12:43:19.242093Z"
    }
   },
   "outputs": [
    {
     "data": {
      "text/plain": [
       "['ola', 'oi ']"
      ]
     },
     "execution_count": 10,
     "metadata": {},
     "output_type": "execute_result"
    }
   ],
   "source": [
    "re.findall('o[il][ a]','ola tudo bem? oi ')"
   ]
  },
  {
   "cell_type": "code",
   "execution_count": null,
   "metadata": {},
   "outputs": [],
   "source": [
    "re."
   ]
  },
  {
   "cell_type": "code",
   "execution_count": 19,
   "metadata": {
    "ExecuteTime": {
     "end_time": "2022-10-19T12:57:57.646574Z",
     "start_time": "2022-10-19T12:57:57.628146Z"
    }
   },
   "outputs": [
    {
     "data": {
      "text/plain": [
       "['Rogers', 'rogeRs']"
      ]
     },
     "execution_count": 19,
     "metadata": {},
     "output_type": "execute_result"
    }
   ],
   "source": [
    "text = 'My neighbor, Mr. Rogers, has 5 rogeRs.'\n",
    "\n",
    "#pattern = 'rogers'\n",
    "pattern = '[Rr]ogers'\n",
    "#pattern = '[Rr][Oo][Gg][Ee][Rr][Ss]'\n",
    "#pattern = '[RrOoGgEeRrSs]'\n",
    "# pattern = rogers ou Rogers ou xogers\n",
    "\n",
    "#re.findall(pattern, text)\n",
    "re.findall(pattern, text, re.I)\n",
    "#re.findall(pattern, text.lower())"
   ]
  },
  {
   "cell_type": "code",
   "execution_count": 20,
   "metadata": {
    "ExecuteTime": {
     "end_time": "2022-10-19T12:59:49.342446Z",
     "start_time": "2022-10-19T12:59:49.334130Z"
    }
   },
   "outputs": [
    {
     "data": {
      "text/plain": [
       "['Sãn Paulo',\n",
       " 'São Paulo',\n",
       " 'Sao Paulo',\n",
       " 'Sao Paolo',\n",
       " 'San Pablo',\n",
       " 'sao paulo',\n",
       " 'sao Paulo',\n",
       " 'são Paulo',\n",
       " 'sao-paulo',\n",
       " 'são paulo',\n",
       " 'São Paulo']"
      ]
     },
     "execution_count": 20,
     "metadata": {},
     "output_type": "execute_result"
    }
   ],
   "source": [
    "text = 'Sãn Paulo São Paulo Sao Paulo Sao Paolo San Pablo sao paulo sao Paulo são Paulo sao-paulo são paulo São Paulo Saon Paulo'\n",
    "\n",
    "pattern = '[Ss][áãa][on][ -][Pp]a[uob]lo'\n",
    "\n",
    "re.findall(pattern, text)"
   ]
  },
  {
   "cell_type": "markdown",
   "metadata": {},
   "source": [
    "# Range de sets:\n",
    "\n",
    "1. [a-z]: qualquer letra minuscula entre a e z.\n",
    "2. [A-Z]: Qualquer letra maiuscula entre A e Z.\n",
    "3. [0-9]: Qualquer caracter númerico entre 0 e 9."
   ]
  },
  {
   "cell_type": "code",
   "execution_count": 21,
   "metadata": {
    "ExecuteTime": {
     "end_time": "2022-10-19T13:16:58.642186Z",
     "start_time": "2022-10-19T13:16:58.633501Z"
    },
    "scrolled": true
   },
   "outputs": [
    {
     "data": {
      "text/plain": [
       "['e', 'b', 'e', 'a', 'e']"
      ]
     },
     "execution_count": 21,
     "metadata": {},
     "output_type": "execute_result"
    }
   ],
   "source": [
    "text = '-My neighbor, Mr. Rogers, has 5 rogers.'\n",
    "pattern = '[a-e]'\n",
    "\n",
    "re.findall(pattern, text)"
   ]
  },
  {
   "cell_type": "code",
   "execution_count": 22,
   "metadata": {
    "ExecuteTime": {
     "end_time": "2022-10-19T13:17:01.986112Z",
     "start_time": "2022-10-19T13:17:01.969254Z"
    }
   },
   "outputs": [
    {
     "data": {
      "text/plain": [
       "['M', 'M', 'R']"
      ]
     },
     "execution_count": 22,
     "metadata": {},
     "output_type": "execute_result"
    }
   ],
   "source": [
    "re.findall('[A-Z]', text)"
   ]
  },
  {
   "cell_type": "code",
   "execution_count": 23,
   "metadata": {
    "ExecuteTime": {
     "end_time": "2022-10-19T13:17:03.779978Z",
     "start_time": "2022-10-19T13:17:03.761987Z"
    }
   },
   "outputs": [
    {
     "data": {
      "text/plain": [
       "['M', 'M']"
      ]
     },
     "execution_count": 23,
     "metadata": {},
     "output_type": "execute_result"
    }
   ],
   "source": [
    "re.findall('[A-N]', text)"
   ]
  },
  {
   "cell_type": "code",
   "execution_count": 27,
   "metadata": {
    "ExecuteTime": {
     "end_time": "2022-08-10T12:23:19.813507Z",
     "start_time": "2022-08-10T12:23:19.802289Z"
    }
   },
   "outputs": [
    {
     "data": {
      "text/plain": [
       "['n', 'e', 'i', 'g', 'h', 'o', 'o', 'g', 'e', 'h', 'o', 'g', 'e']"
      ]
     },
     "execution_count": 27,
     "metadata": {},
     "output_type": "execute_result"
    }
   ],
   "source": [
    "re.findall('[efghijklmno]', text)"
   ]
  },
  {
   "cell_type": "code",
   "execution_count": 28,
   "metadata": {
    "ExecuteTime": {
     "end_time": "2022-08-10T12:23:20.091557Z",
     "start_time": "2022-08-10T12:23:20.072607Z"
    }
   },
   "outputs": [
    {
     "data": {
      "text/plain": [
       "['n', 'e', 'i', 'g', 'h', 'o', 'o', 'g', 'e', 'h', 'o', 'g', 'e']"
      ]
     },
     "execution_count": 28,
     "metadata": {},
     "output_type": "execute_result"
    }
   ],
   "source": [
    "re.findall('[e-o]', text)"
   ]
  },
  {
   "cell_type": "code",
   "execution_count": 29,
   "metadata": {
    "ExecuteTime": {
     "end_time": "2022-08-10T12:23:21.015147Z",
     "start_time": "2022-08-10T12:23:21.000188Z"
    }
   },
   "outputs": [
    {
     "data": {
      "text/plain": [
       "['5']"
      ]
     },
     "execution_count": 29,
     "metadata": {},
     "output_type": "execute_result"
    }
   ],
   "source": [
    "re.findall('[0123456789]', text)"
   ]
  },
  {
   "cell_type": "code",
   "execution_count": 30,
   "metadata": {
    "ExecuteTime": {
     "end_time": "2022-08-10T12:23:21.338943Z",
     "start_time": "2022-08-10T12:23:21.327970Z"
    }
   },
   "outputs": [
    {
     "data": {
      "text/plain": [
       "['5']"
      ]
     },
     "execution_count": 30,
     "metadata": {},
     "output_type": "execute_result"
    }
   ],
   "source": [
    "re.findall('[0-9]', text)"
   ]
  },
  {
   "cell_type": "code",
   "execution_count": 24,
   "metadata": {
    "ExecuteTime": {
     "end_time": "2022-10-19T13:17:27.189224Z",
     "start_time": "2022-10-19T13:17:27.171201Z"
    }
   },
   "outputs": [
    {
     "data": {
      "text/plain": [
       "'-My neighbor, Mr. Rogers, has 5 rogers.'"
      ]
     },
     "execution_count": 24,
     "metadata": {},
     "output_type": "execute_result"
    }
   ],
   "source": [
    "text"
   ]
  },
  {
   "cell_type": "code",
   "execution_count": 28,
   "metadata": {
    "ExecuteTime": {
     "end_time": "2022-10-19T13:19:22.848714Z",
     "start_time": "2022-10-19T13:19:22.833337Z"
    }
   },
   "outputs": [
    {
     "data": {
      "text/plain": [
       "['M',\n",
       " 'y',\n",
       " 'n',\n",
       " 'e',\n",
       " 'i',\n",
       " 'g',\n",
       " 'h',\n",
       " 'b',\n",
       " 'o',\n",
       " 'r',\n",
       " 'M',\n",
       " 'r',\n",
       " 'R',\n",
       " 'o',\n",
       " 'g',\n",
       " 'e',\n",
       " 'r',\n",
       " 's',\n",
       " 'h',\n",
       " 'a',\n",
       " 's',\n",
       " '5',\n",
       " 'r',\n",
       " 'o',\n",
       " 'g',\n",
       " 'e',\n",
       " 'r',\n",
       " 's']"
      ]
     },
     "execution_count": 28,
     "metadata": {},
     "output_type": "execute_result"
    }
   ],
   "source": [
    "# you can concatenate ranges\n",
    "\n",
    "re.findall('[A-Za-z0-9]', text)"
   ]
  },
  {
   "cell_type": "code",
   "execution_count": 22,
   "metadata": {
    "ExecuteTime": {
     "end_time": "2022-01-11T18:05:13.791204Z",
     "start_time": "2022-01-11T18:05:13.785223Z"
    }
   },
   "outputs": [
    {
     "data": {
      "text/plain": [
       "'My neighbor, Mr. Rogers, has 5 rogers.'"
      ]
     },
     "execution_count": 22,
     "metadata": {},
     "output_type": "execute_result"
    }
   ],
   "source": [
    "text"
   ]
  },
  {
   "cell_type": "code",
   "execution_count": 33,
   "metadata": {
    "ExecuteTime": {
     "end_time": "2022-03-23T12:40:42.337050Z",
     "start_time": "2022-03-23T12:40:42.329067Z"
    },
    "scrolled": true
   },
   "outputs": [
    {
     "data": {
      "text/plain": [
       "['M', ',', 'M', 'R', ',', '5']"
      ]
     },
     "execution_count": 33,
     "metadata": {},
     "output_type": "execute_result"
    }
   ],
   "source": [
    "re.findall('[A-Z,0-9]', text)"
   ]
  },
  {
   "cell_type": "code",
   "execution_count": 31,
   "metadata": {
    "ExecuteTime": {
     "end_time": "2022-10-19T13:22:32.995847Z",
     "start_time": "2022-10-19T13:22:32.992849Z"
    }
   },
   "outputs": [],
   "source": [
    "text = 'My neighbor, Mr. Rogers, has] 5 rogers.'"
   ]
  },
  {
   "cell_type": "code",
   "execution_count": 32,
   "metadata": {
    "ExecuteTime": {
     "end_time": "2022-10-19T13:22:33.710058Z",
     "start_time": "2022-10-19T13:22:33.705213Z"
    }
   },
   "outputs": [
    {
     "data": {
      "text/plain": [
       "['e', 'i', 'g', 'h', 'b', 'g', 'e', 'h', 'a', '\\\\', 'g', 'e']"
      ]
     },
     "execution_count": 32,
     "metadata": {},
     "output_type": "execute_result"
    }
   ],
   "source": [
    "re.findall('[a-m\\]]',text )"
   ]
  },
  {
   "cell_type": "markdown",
   "metadata": {},
   "source": [
    "O oposto: \n",
    "- `^` encontra tudo menos o padrão dentro do set"
   ]
  },
  {
   "cell_type": "code",
   "execution_count": 39,
   "metadata": {
    "ExecuteTime": {
     "end_time": "2022-08-10T12:27:03.608553Z",
     "start_time": "2022-08-10T12:27:03.599578Z"
    }
   },
   "outputs": [
    {
     "data": {
      "text/plain": [
       "['M', ' ', ',', ' ', 'M', '.', ' ', 'R', ',', ' ', ']', ' ', '5', ' ', '.']"
      ]
     },
     "execution_count": 39,
     "metadata": {},
     "output_type": "execute_result"
    }
   ],
   "source": [
    "pattern = '[^a-z]'\n",
    "re.findall(pattern, text)"
   ]
  },
  {
   "cell_type": "code",
   "execution_count": 40,
   "metadata": {
    "ExecuteTime": {
     "end_time": "2022-06-01T12:34:18.102913Z",
     "start_time": "2022-06-01T12:34:18.088951Z"
    }
   },
   "outputs": [
    {
     "data": {
      "text/plain": [
       "['-', ',', '.', ',', '.']"
      ]
     },
     "execution_count": 40,
     "metadata": {},
     "output_type": "execute_result"
    }
   ],
   "source": [
    "# concat patterns [] \n",
    "# space character == \\s\n",
    "pattern = '[^a-zA-Z0-9\\s]'\n",
    "pattern = '[^a-zA-Z0-9 ]'\n",
    "re.findall(pattern, text)\n"
   ]
  },
  {
   "cell_type": "code",
   "execution_count": 41,
   "metadata": {
    "ExecuteTime": {
     "end_time": "2022-06-01T12:34:53.942509Z",
     "start_time": "2022-06-01T12:34:53.927549Z"
    }
   },
   "outputs": [
    {
     "data": {
      "text/plain": [
       "[' ', ' ', ' ', ' ', ' ', ' ']"
      ]
     },
     "execution_count": 41,
     "metadata": {},
     "output_type": "execute_result"
    }
   ],
   "source": [
    "re.findall('[ ]', text)"
   ]
  },
  {
   "cell_type": "code",
   "execution_count": 42,
   "metadata": {
    "ExecuteTime": {
     "end_time": "2022-06-01T12:34:54.671853Z",
     "start_time": "2022-06-01T12:34:54.655896Z"
    }
   },
   "outputs": [
    {
     "data": {
      "text/plain": [
       "[' ', ' ', ' ', ' ', ' ', ' ']"
      ]
     },
     "execution_count": 42,
     "metadata": {},
     "output_type": "execute_result"
    }
   ],
   "source": [
    "re.findall('[\\s]', text)"
   ]
  },
  {
   "cell_type": "markdown",
   "metadata": {},
   "source": [
    "# Classes de Caracteres:\n",
    "\n",
    "Caracteres que representam um grupo de caracteres.\n",
    "\n",
    "1. `\\w`: Qualquer caracter alfanúmerico.\n",
    "3. `\\d`: Qualquer caracter númerico.\n",
    "7. `.` : Qualquer caracter com exceção da quebra de linha (\\n)."
   ]
  },
  {
   "cell_type": "code",
   "execution_count": 36,
   "metadata": {
    "ExecuteTime": {
     "end_time": "2022-10-19T13:27:44.188466Z",
     "start_time": "2022-10-19T13:27:44.176359Z"
    }
   },
   "outputs": [],
   "source": [
    "text = '''My neighbor, Mr. Rogers, ] has 5 - dogs 10. α π _\n",
    "oi tudo vbem?'''"
   ]
  },
  {
   "cell_type": "code",
   "execution_count": 37,
   "metadata": {
    "ExecuteTime": {
     "end_time": "2022-10-19T13:27:44.842897Z",
     "start_time": "2022-10-19T13:27:44.831758Z"
    }
   },
   "outputs": [
    {
     "name": "stdout",
     "output_type": "stream",
     "text": [
      "['M', 'y', 'n', 'e', 'i', 'g', 'h', 'b', 'o', 'r', 'M', 'r', 'R', 'o', 'g', 'e', 'r', 's', 'h', 'a', 's', '5', 'd', 'o', 'g', 's', '1', '0', 'o', 'i', 't', 'u', 'd', 'o', 'v', 'b', 'e', 'm']\n"
     ]
    }
   ],
   "source": [
    "#pattern = '\\w'\n",
    "pattern = '[A-Za-z0-9]'\n",
    "print(re.findall(pattern, text))"
   ]
  },
  {
   "cell_type": "code",
   "execution_count": 38,
   "metadata": {
    "ExecuteTime": {
     "end_time": "2022-10-19T13:27:50.616391Z",
     "start_time": "2022-10-19T13:27:50.599976Z"
    }
   },
   "outputs": [
    {
     "name": "stdout",
     "output_type": "stream",
     "text": [
      "['5', '1', '0']\n",
      "['5', '1', '0']\n"
     ]
    }
   ],
   "source": [
    "print(re.findall('\\d', text))\n",
    "print(re.findall('[0-9]', text))"
   ]
  },
  {
   "cell_type": "code",
   "execution_count": 40,
   "metadata": {
    "ExecuteTime": {
     "end_time": "2022-10-19T13:30:31.114080Z",
     "start_time": "2022-10-19T13:30:31.103168Z"
    }
   },
   "outputs": [
    {
     "name": "stdout",
     "output_type": "stream",
     "text": [
      "['M', 'y', ' ', 'n', 'e', 'i', 'g', 'h', 'b', 'o', 'r', ',', ' ', 'M', 'r', '.', ' ', 'R', 'o', 'g', 'e', 'r', 's', ',', ' ', ']', ' ', 'h', 'a', 's', ' ', '5', ' ', '-', ' ', 'd', 'o', 'g', 's', ' ', '1', '0', '.', ' ', 'α', ' ', 'π', ' ', '_', 'o', 'i', ' ', 't', 'u', 'd', 'o', ' ', 'v', 'b', 'e', 'm', '?']\n"
     ]
    }
   ],
   "source": [
    "print(re.findall('.', text))"
   ]
  },
  {
   "cell_type": "markdown",
   "metadata": {},
   "source": [
    "## Quantificadores"
   ]
  },
  {
   "cell_type": "markdown",
   "metadata": {},
   "source": [
    "1. `*`: 0 ou mais\n",
    "2. `?`: 0 ou 1\n",
    "3. `+`: 1 ou mais"
   ]
  },
  {
   "cell_type": "code",
   "execution_count": 47,
   "metadata": {
    "ExecuteTime": {
     "end_time": "2022-10-19T13:38:56.841320Z",
     "start_time": "2022-10-19T13:38:56.829793Z"
    }
   },
   "outputs": [],
   "source": [
    "text = '''My neighbor, Mr. Rogers, has5 dogs and 100 cats and β sheeps.'''"
   ]
  },
  {
   "cell_type": "code",
   "execution_count": 48,
   "metadata": {
    "ExecuteTime": {
     "end_time": "2022-10-19T13:38:58.854919Z",
     "start_time": "2022-10-19T13:38:58.836664Z"
    },
    "scrolled": true
   },
   "outputs": [
    {
     "name": "stdout",
     "output_type": "stream",
     "text": [
      "['', '', ' ', '', '', '', '', '', '', '', '', '', ' ', '', '', '', ' ', '', '', '', '', '', '', '', ' ', '', '', '', '5 ', '', '', '', '', ' ', '', '', '', ' 100', '', '', '', '', ' ', '', '', '', ' ', '', ' ', '', '', '', '', '', '', '', '']\n"
     ]
    }
   ],
   "source": [
    "print(re.findall('\\d*', text))"
   ]
  },
  {
   "cell_type": "code",
   "execution_count": 63,
   "metadata": {
    "ExecuteTime": {
     "end_time": "2022-06-01T12:50:08.956067Z",
     "start_time": "2022-06-01T12:50:08.945096Z"
    },
    "scrolled": true
   },
   "outputs": [
    {
     "name": "stdout",
     "output_type": "stream",
     "text": [
      "['5', '100']\n"
     ]
    }
   ],
   "source": [
    "print(re.findall('\\d+', text))"
   ]
  },
  {
   "cell_type": "code",
   "execution_count": 65,
   "metadata": {
    "ExecuteTime": {
     "end_time": "2022-06-01T12:50:45.216235Z",
     "start_time": "2022-06-01T12:50:45.200278Z"
    }
   },
   "outputs": [
    {
     "name": "stdout",
     "output_type": "stream",
     "text": [
      "['My', 'neighbor', 'Mr', 'Rogers', 'has5', 'dogs', 'and', '100', 'cats', 'and', 'β', 'sheeps']\n"
     ]
    }
   ],
   "source": [
    "print(re.findall('\\w+', text))"
   ]
  },
  {
   "cell_type": "code",
   "execution_count": 70,
   "metadata": {
    "ExecuteTime": {
     "end_time": "2022-10-19T13:59:06.331816Z",
     "start_time": "2022-10-19T13:59:06.321853Z"
    }
   },
   "outputs": [],
   "source": [
    "my_string = 'Andre Park 1 andre21 and andre 21, Andre Aguiar André 21,65 are part of Ironhack\"s andré 21.65 Da Silva andré 32 Sauro'\n"
   ]
  },
  {
   "cell_type": "code",
   "execution_count": 71,
   "metadata": {
    "ExecuteTime": {
     "end_time": "2022-10-19T13:59:08.076869Z",
     "start_time": "2022-10-19T13:59:08.056828Z"
    },
    "cell_style": "center"
   },
   "outputs": [
    {
     "data": {
      "text/plain": [
       "['1', '21', '21', '21,65', '21.65', '32']"
      ]
     },
     "execution_count": 71,
     "metadata": {},
     "output_type": "execute_result"
    }
   ],
   "source": [
    "# find all the numbers\n",
    "re.findall('\\d*[,\\.]?\\d+', my_string)"
   ]
  },
  {
   "cell_type": "code",
   "execution_count": null,
   "metadata": {},
   "outputs": [],
   "source": [
    "['1', '21', '21', '21,65', '21.65', '32']"
   ]
  },
  {
   "cell_type": "code",
   "execution_count": null,
   "metadata": {},
   "outputs": [],
   "source": []
  },
  {
   "cell_type": "code",
   "execution_count": null,
   "metadata": {},
   "outputs": [],
   "source": []
  },
  {
   "cell_type": "code",
   "execution_count": null,
   "metadata": {},
   "outputs": [],
   "source": []
  },
  {
   "cell_type": "code",
   "execution_count": 120,
   "metadata": {
    "ExecuteTime": {
     "end_time": "2022-03-23T13:18:27.066898Z",
     "start_time": "2022-03-23T13:18:27.056933Z"
    }
   },
   "outputs": [
    {
     "data": {
      "text/plain": [
       "['1', '21', '21,', '21,65', '21.65', '32']"
      ]
     },
     "execution_count": 120,
     "metadata": {},
     "output_type": "execute_result"
    }
   ],
   "source": [
    "re.findall('\\d*[,.]?\\d+', my_string)"
   ]
  },
  {
   "cell_type": "code",
   "execution_count": 76,
   "metadata": {
    "ExecuteTime": {
     "end_time": "2022-10-19T14:04:12.000488Z",
     "start_time": "2022-10-19T14:04:11.983910Z"
    }
   },
   "outputs": [
    {
     "data": {
      "text/plain": [
       "['Sáo Paulo',\n",
       " 'São Paulo',\n",
       " 'Sao Paulo',\n",
       " 'Sao Paolo',\n",
       " 'San Pablo',\n",
       " 'sao paulo',\n",
       " 'sao Paulo',\n",
       " 'são Paulo',\n",
       " 'sao-paulo',\n",
       " 'são paulo',\n",
       " 'SãoPaulo',\n",
       " 'Saon Paulo']"
      ]
     },
     "execution_count": 76,
     "metadata": {},
     "output_type": "execute_result"
    }
   ],
   "source": [
    "text = 'sapos Saon Pedro Sáo Paulo São Paulo Sao Paulo Sao Paolo San Pablo sao paulo sao Paulo são Paulo sao-paulo são paulo São SãoPaulo Saon Paulo'\n",
    "\n",
    "pattern = '[Ss][ãaáàâä][on]n?[ -]?[Pp]a[buo]lo'\n",
    "#pattern = '[Ss]\\w+[^\\w]?[Pp]\\w+'\n",
    "re.findall(pattern, text)"
   ]
  },
  {
   "cell_type": "code",
   "execution_count": 49,
   "metadata": {
    "ExecuteTime": {
     "end_time": "2022-10-19T13:41:04.272159Z",
     "start_time": "2022-10-19T13:41:04.260885Z"
    }
   },
   "outputs": [
    {
     "data": {
      "text/plain": [
       "['colour', 'color']"
      ]
     },
     "execution_count": 49,
     "metadata": {},
     "output_type": "execute_result"
    }
   ],
   "source": [
    "text = 'This colonel has the colour or color blue'\n",
    "\n",
    "re.findall('colou?r', text)"
   ]
  },
  {
   "cell_type": "code",
   "execution_count": 50,
   "metadata": {
    "ExecuteTime": {
     "end_time": "2022-10-19T13:41:16.291641Z",
     "start_time": "2022-10-19T13:41:16.283060Z"
    }
   },
   "outputs": [
    {
     "data": {
      "text/plain": [
       "['apples', 'apple']"
      ]
     },
     "execution_count": 50,
     "metadata": {},
     "output_type": "execute_result"
    }
   ],
   "source": [
    "text = 'These apples are beautiful and the apple is blue.'\n",
    "\n",
    "re.findall('apples?', text)"
   ]
  },
  {
   "cell_type": "code",
   "execution_count": 92,
   "metadata": {
    "ExecuteTime": {
     "end_time": "2022-06-01T13:20:49.374770Z",
     "start_time": "2022-06-01T13:20:49.354819Z"
    }
   },
   "outputs": [
    {
     "data": {
      "text/plain": [
       "['Andre Aguiar', 'Andre Park']"
      ]
     },
     "execution_count": 92,
     "metadata": {},
     "output_type": "execute_result"
    }
   ],
   "source": [
    "text = 'Andre Aguiar and Andre Park and Fatima Aguiar and Frank Park are from the Ironhack team'\n",
    "\n",
    "re.findall('Andre \\w+', text)"
   ]
  },
  {
   "cell_type": "markdown",
   "metadata": {},
   "source": [
    "# Outros métodos para espressões regulares"
   ]
  },
  {
   "cell_type": "code",
   "execution_count": 77,
   "metadata": {
    "ExecuteTime": {
     "end_time": "2022-10-19T14:16:41.915576Z",
     "start_time": "2022-10-19T14:16:41.909833Z"
    }
   },
   "outputs": [],
   "source": [
    "text = 'My neighbor, Mr. Rogers, ] has 5 - rogers 1000,'"
   ]
  },
  {
   "cell_type": "code",
   "execution_count": 78,
   "metadata": {
    "ExecuteTime": {
     "end_time": "2022-10-19T14:16:58.794438Z",
     "start_time": "2022-10-19T14:16:58.774319Z"
    }
   },
   "outputs": [
    {
     "data": {
      "text/plain": [
       "'My neighbor, Mr. Andre, ] has 5 - Andre 1000,'"
      ]
     },
     "execution_count": 78,
     "metadata": {},
     "output_type": "execute_result"
    }
   ],
   "source": [
    "text.replace('rogers','Andre').replace('Rogers','Andre')"
   ]
  },
  {
   "cell_type": "code",
   "execution_count": 79,
   "metadata": {
    "ExecuteTime": {
     "end_time": "2022-10-19T14:17:26.679152Z",
     "start_time": "2022-10-19T14:17:26.661053Z"
    }
   },
   "outputs": [
    {
     "data": {
      "text/plain": [
       "'My neighbor, Mr. Andre, ] has 5 - Andre 1000,'"
      ]
     },
     "execution_count": 79,
     "metadata": {},
     "output_type": "execute_result"
    }
   ],
   "source": [
    "new_text = re.sub('[Rr]ogers','Andre', text)\n",
    "new_text"
   ]
  },
  {
   "cell_type": "code",
   "execution_count": 87,
   "metadata": {
    "ExecuteTime": {
     "end_time": "2022-08-10T13:24:52.394993Z",
     "start_time": "2022-08-10T13:24:52.389009Z"
    }
   },
   "outputs": [
    {
     "data": {
      "text/plain": [
       "'My neighbor, Mr. Rogers, ] has 5 - rogers 1000,'"
      ]
     },
     "execution_count": 87,
     "metadata": {},
     "output_type": "execute_result"
    }
   ],
   "source": [
    "text"
   ]
  },
  {
   "cell_type": "code",
   "execution_count": 80,
   "metadata": {
    "ExecuteTime": {
     "end_time": "2022-10-19T14:19:01.560731Z",
     "start_time": "2022-10-19T14:19:01.549722Z"
    }
   },
   "outputs": [
    {
     "data": {
      "text/plain": [
       "['My neighbor, Mr. ', ', ] has 5 - rogers 1000,']"
      ]
     },
     "execution_count": 80,
     "metadata": {},
     "output_type": "execute_result"
    }
   ],
   "source": [
    "text.split('Rogers')"
   ]
  },
  {
   "cell_type": "code",
   "execution_count": 81,
   "metadata": {
    "ExecuteTime": {
     "end_time": "2022-10-19T14:19:08.065443Z",
     "start_time": "2022-10-19T14:19:08.051237Z"
    }
   },
   "outputs": [
    {
     "name": "stdout",
     "output_type": "stream",
     "text": [
      "['My neighbor, Mr. ', ', ] has 5 - ', ' 1000,']\n"
     ]
    }
   ],
   "source": [
    "print(re.split('[Rr]ogers', text))"
   ]
  },
  {
   "cell_type": "code",
   "execution_count": 173,
   "metadata": {
    "ExecuteTime": {
     "end_time": "2021-10-20T18:23:23.066788Z",
     "start_time": "2021-10-20T18:23:23.056815Z"
    }
   },
   "outputs": [
    {
     "data": {
      "text/plain": [
       "'My neighbor, Mr. Rogers, ] has 5 - rogers 1000,'"
      ]
     },
     "execution_count": 173,
     "metadata": {},
     "output_type": "execute_result"
    }
   ],
   "source": [
    "text"
   ]
  },
  {
   "cell_type": "code",
   "execution_count": 172,
   "metadata": {
    "ExecuteTime": {
     "end_time": "2021-10-20T18:22:56.247468Z",
     "start_time": "2021-10-20T18:22:56.231123Z"
    },
    "cell_style": "split"
   },
   "outputs": [
    {
     "name": "stdout",
     "output_type": "stream",
     "text": [
      "['My neighbor, Mr. Rogers, ] has ', ' - rogers ', ',']\n"
     ]
    }
   ],
   "source": [
    "print(re.split('[0-9]+', text))"
   ]
  },
  {
   "cell_type": "code",
   "execution_count": 168,
   "metadata": {
    "ExecuteTime": {
     "end_time": "2022-01-12T13:12:04.138479Z",
     "start_time": "2022-01-12T13:12:04.131016Z"
    },
    "cell_style": "split",
    "scrolled": true
   },
   "outputs": [
    {
     "name": "stdout",
     "output_type": "stream",
     "text": [
      "['My neighbor, Mr. Rogers, ] has ', ' - rogers ', ',']\n"
     ]
    }
   ],
   "source": [
    "print(re.findall('[^0-9]+', text))"
   ]
  },
  {
   "cell_type": "code",
   "execution_count": 82,
   "metadata": {
    "ExecuteTime": {
     "end_time": "2022-10-19T14:20:56.225729Z",
     "start_time": "2022-10-19T14:20:56.220097Z"
    }
   },
   "outputs": [],
   "source": [
    "text = 'My neighbor, Mr. Rogers, ] has 500 - rogers 1000,'\n",
    "x = re.search('\\d+',text)\n"
   ]
  },
  {
   "cell_type": "code",
   "execution_count": 85,
   "metadata": {
    "ExecuteTime": {
     "end_time": "2022-10-19T14:22:09.564219Z",
     "start_time": "2022-10-19T14:22:09.547142Z"
    }
   },
   "outputs": [
    {
     "data": {
      "text/plain": [
       "31"
      ]
     },
     "execution_count": 85,
     "metadata": {},
     "output_type": "execute_result"
    }
   ],
   "source": [
    "x.start()"
   ]
  },
  {
   "cell_type": "code",
   "execution_count": 109,
   "metadata": {
    "ExecuteTime": {
     "end_time": "2022-08-10T13:32:57.713506Z",
     "start_time": "2022-08-10T13:32:57.708521Z"
    }
   },
   "outputs": [
    {
     "data": {
      "text/plain": [
       "'500'"
      ]
     },
     "execution_count": 109,
     "metadata": {},
     "output_type": "execute_result"
    }
   ],
   "source": [
    "text[31:34]"
   ]
  },
  {
   "cell_type": "code",
   "execution_count": 110,
   "metadata": {
    "ExecuteTime": {
     "end_time": "2022-08-10T13:33:16.957693Z",
     "start_time": "2022-08-10T13:33:16.949011Z"
    }
   },
   "outputs": [
    {
     "data": {
      "text/plain": [
       "'500'"
      ]
     },
     "execution_count": 110,
     "metadata": {},
     "output_type": "execute_result"
    }
   ],
   "source": []
  },
  {
   "cell_type": "code",
   "execution_count": 127,
   "metadata": {
    "ExecuteTime": {
     "end_time": "2022-06-01T14:16:00.822574Z",
     "start_time": "2022-06-01T14:16:00.813599Z"
    }
   },
   "outputs": [
    {
     "name": "stdout",
     "output_type": "stream",
     "text": [
      "Parabens! voce achou o padrao!\n"
     ]
    }
   ],
   "source": [
    "if len(re.findall('\\d+',text)) != 0:\n",
    "    print('Parabens! voce achou o padrao!')\n",
    "else:\n",
    "    print('Padrao nao existe')"
   ]
  },
  {
   "cell_type": "code",
   "execution_count": 90,
   "metadata": {
    "ExecuteTime": {
     "end_time": "2022-10-19T14:24:03.501895Z",
     "start_time": "2022-10-19T14:24:03.484379Z"
    }
   },
   "outputs": [
    {
     "name": "stdout",
     "output_type": "stream",
     "text": [
      "Parabens! voce achou o padrao!\n",
      "500\n"
     ]
    }
   ],
   "source": [
    "text = 'My neighbor, Mr. Rogers, ] has 500 - rogers 1000,'\n",
    "if re.search('\\d+',text):\n",
    "    print('Parabens! voce achou o padrao!')\n",
    "    print(re.search('\\d+',text).group())\n",
    "else:\n",
    "    print('Pattern not found')"
   ]
  },
  {
   "cell_type": "markdown",
   "metadata": {},
   "source": [
    "\n",
    "# Examples"
   ]
  },
  {
   "cell_type": "markdown",
   "metadata": {},
   "source": [
    "Find the regexes that: \n",
    "1. Matches “Dan” and “Ban” (first letter can be \"D\" or \"B\").\n",
    "2. Matches “Dan”, “Ban”, “Tan”, and “Pan”.\n",
    "3. Matches “Dan” and “Dag” (last letter can be \"n\" or \"g\").\n",
    "4. Matches Dan followed by lower case \"and\"\n"
   ]
  },
  {
   "cell_type": "code",
   "execution_count": 111,
   "metadata": {
    "ExecuteTime": {
     "end_time": "2022-08-10T13:34:43.032852Z",
     "start_time": "2022-08-10T13:34:43.021857Z"
    }
   },
   "outputs": [],
   "source": [
    "text = 'Dan and Ban and Tan Dah andSan And Dag Dan Pan i 09wie'"
   ]
  },
  {
   "cell_type": "code",
   "execution_count": 114,
   "metadata": {
    "ExecuteTime": {
     "end_time": "2022-08-10T13:39:32.192204Z",
     "start_time": "2022-08-10T13:39:32.181234Z"
    }
   },
   "outputs": [
    {
     "data": {
      "text/plain": [
       "['Dan', 'Ban', 'Dan']"
      ]
     },
     "execution_count": 114,
     "metadata": {},
     "output_type": "execute_result"
    }
   ],
   "source": [
    "pattern= ''\n",
    "re.findall(pattern, text)"
   ]
  },
  {
   "cell_type": "code",
   "execution_count": 117,
   "metadata": {
    "ExecuteTime": {
     "end_time": "2022-08-10T13:41:47.047222Z",
     "start_time": "2022-08-10T13:41:47.037134Z"
    }
   },
   "outputs": [
    {
     "data": {
      "text/plain": [
       "['dan', 'ban', 'tan', 'dan', 'pan']"
      ]
     },
     "execution_count": 117,
     "metadata": {},
     "output_type": "execute_result"
    }
   ],
   "source": [
    "pattern = ''\n",
    "re.findall(pattern, text)"
   ]
  },
  {
   "cell_type": "code",
   "execution_count": 118,
   "metadata": {
    "ExecuteTime": {
     "end_time": "2022-08-10T13:42:48.580823Z",
     "start_time": "2022-08-10T13:42:48.565785Z"
    }
   },
   "outputs": [
    {
     "data": {
      "text/plain": [
       "['Dan', 'Dag', 'Dan']"
      ]
     },
     "execution_count": 118,
     "metadata": {},
     "output_type": "execute_result"
    }
   ],
   "source": [
    "pattern = ''\n",
    "re.findall(pattern, text)"
   ]
  },
  {
   "cell_type": "code",
   "execution_count": 119,
   "metadata": {
    "ExecuteTime": {
     "end_time": "2022-08-10T13:43:10.227332Z",
     "start_time": "2022-08-10T13:43:10.213370Z"
    }
   },
   "outputs": [
    {
     "data": {
      "text/plain": [
       "['Dan and']"
      ]
     },
     "execution_count": 119,
     "metadata": {},
     "output_type": "execute_result"
    }
   ],
   "source": [
    "pattern = ''\n",
    "re.findall(pattern, text)"
   ]
  },
  {
   "cell_type": "markdown",
   "metadata": {},
   "source": [
    "# Resumo\n",
    "* Cheatsheet https://cheatography.com/davechild/cheat-sheets/regular-expressions/\n",
    "* Testar regex https://regexr.com/\n",
    "* import re - faz operações de string baseados em padrões\n",
    "## Funções\n",
    "* re.findall(padrão, texto) - encontra o padrão no texto, retorno de lista\n",
    "* re.sub(padrão,substituto,texto, numero de subtituição) - substitui o padrão por uma nova palavra \n",
    "* re.split(padrão,texto) - separa a string em uma lista baseado no padrão de separação, eliminando o padrão\n",
    "* re.search(padrão,texto) - retorna bool falando se o padrão existe no texto\n",
    "## Padrões\n",
    "* padrão = '[caracteres]' - encontra um ou outro caracter dentro do set(colchete)\n",
    "* '[A-Za-z0-9]' - sets que buscam de uma letra ate outra\n",
    "* '[\\]]' - vai buscar o caracter ] dentro do set\n",
    "* '[^]' - procura tudo o que não esta no set\n",
    "* meta caracter\n",
    "* \\w: Any alphanumeric character.\n",
    "* \\d: Any numeric character.\n",
    "* .: Any character except newline (\\n)\n",
    "## quantificador\n",
    "* *: 0 or more\n",
    "* ?: 0 or 1\n",
    "* +: 1 or more"
   ]
  },
  {
   "cell_type": "code",
   "execution_count": 91,
   "metadata": {
    "ExecuteTime": {
     "end_time": "2022-10-19T14:26:33.754863Z",
     "start_time": "2022-10-19T14:26:33.738393Z"
    }
   },
   "outputs": [
    {
     "data": {
      "text/html": [
       "<div>\n",
       "<style scoped>\n",
       "    .dataframe tbody tr th:only-of-type {\n",
       "        vertical-align: middle;\n",
       "    }\n",
       "\n",
       "    .dataframe tbody tr th {\n",
       "        vertical-align: top;\n",
       "    }\n",
       "\n",
       "    .dataframe thead th {\n",
       "        text-align: right;\n",
       "    }\n",
       "</style>\n",
       "<table border=\"1\" class=\"dataframe\">\n",
       "  <thead>\n",
       "    <tr style=\"text-align: right;\">\n",
       "      <th></th>\n",
       "      <th>Começo</th>\n",
       "      <th>Fim</th>\n",
       "    </tr>\n",
       "  </thead>\n",
       "  <tbody>\n",
       "    <tr>\n",
       "      <th>0</th>\n",
       "      <td>Oi</td>\n",
       "      <td>Adeus</td>\n",
       "    </tr>\n",
       "    <tr>\n",
       "      <th>1</th>\n",
       "      <td>Ola</td>\n",
       "      <td>tchau</td>\n",
       "    </tr>\n",
       "    <tr>\n",
       "      <th>2</th>\n",
       "      <td>Tudo bem?</td>\n",
       "      <td>Tchau</td>\n",
       "    </tr>\n",
       "    <tr>\n",
       "      <th>3</th>\n",
       "      <td>Oiiiiiiii</td>\n",
       "      <td>tchau</td>\n",
       "    </tr>\n",
       "  </tbody>\n",
       "</table>\n",
       "</div>"
      ],
      "text/plain": [
       "      Começo    Fim\n",
       "0      Oi     Adeus\n",
       "1        Ola  tchau\n",
       "2  Tudo bem?  Tchau\n",
       "3  Oiiiiiiii  tchau"
      ]
     },
     "execution_count": 91,
     "metadata": {},
     "output_type": "execute_result"
    }
   ],
   "source": [
    "import pandas\n",
    "df = pandas.DataFrame({\"Começo\":['Oi   ',' Ola', 'Tudo bem?','Oiiiiiiii'],\"Fim\":['Adeus','tchau', 'Tchau','tchau']})\n",
    "df"
   ]
  },
  {
   "cell_type": "code",
   "execution_count": 5,
   "metadata": {
    "ExecuteTime": {
     "end_time": "2022-10-18T19:03:23.817713Z",
     "start_time": "2022-10-18T19:03:23.803058Z"
    }
   },
   "outputs": [
    {
     "data": {
      "text/plain": [
       "0      Bom dia\n",
       "1      Bom dia\n",
       "2    Tudo bem?\n",
       "3      Bom dia\n",
       "Name: Começo, dtype: object"
      ]
     },
     "execution_count": 5,
     "metadata": {},
     "output_type": "execute_result"
    }
   ],
   "source": [
    "df['Começo'].str.replace(' *Oi+ *','Bom dia',regex=True).str.replace(' *Ola *','Bom dia',regex=True)"
   ]
  },
  {
   "cell_type": "code",
   "execution_count": null,
   "metadata": {},
   "outputs": [],
   "source": [
    "re.match()"
   ]
  }
 ],
 "metadata": {
  "kernelspec": {
   "display_name": "Python 3 (ipykernel)",
   "language": "python",
   "name": "python3"
  },
  "language_info": {
   "codemirror_mode": {
    "name": "ipython",
    "version": 3
   },
   "file_extension": ".py",
   "mimetype": "text/x-python",
   "name": "python",
   "nbconvert_exporter": "python",
   "pygments_lexer": "ipython3",
   "version": "3.8.5"
  },
  "toc": {
   "base_numbering": 1,
   "nav_menu": {},
   "number_sections": true,
   "sideBar": true,
   "skip_h1_title": false,
   "title_cell": "Table of Contents",
   "title_sidebar": "Contents",
   "toc_cell": false,
   "toc_position": {},
   "toc_section_display": true,
   "toc_window_display": false
  },
  "varInspector": {
   "cols": {
    "lenName": 16,
    "lenType": 16,
    "lenVar": 40
   },
   "kernels_config": {
    "python": {
     "delete_cmd_postfix": "",
     "delete_cmd_prefix": "del ",
     "library": "var_list.py",
     "varRefreshCmd": "print(var_dic_list())"
    },
    "r": {
     "delete_cmd_postfix": ") ",
     "delete_cmd_prefix": "rm(",
     "library": "var_list.r",
     "varRefreshCmd": "cat(var_dic_list()) "
    }
   },
   "types_to_exclude": [
    "module",
    "function",
    "builtin_function_or_method",
    "instance",
    "_Feature"
   ],
   "window_display": false
  }
 },
 "nbformat": 4,
 "nbformat_minor": 2
}
