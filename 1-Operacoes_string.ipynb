{
 "cells": [
  {
   "cell_type": "markdown",
   "metadata": {},
   "source": [
    "# Strings no Python"
   ]
  },
  {
   "cell_type": "code",
   "execution_count": 1,
   "metadata": {
    "ExecuteTime": {
     "end_time": "2022-08-09T17:13:13.348033Z",
     "start_time": "2022-08-09T17:13:13.330058Z"
    }
   },
   "outputs": [
    {
     "data": {
      "text/plain": [
       "str"
      ]
     },
     "execution_count": 1,
     "metadata": {},
     "output_type": "execute_result"
    }
   ],
   "source": [
    "type('Hello')"
   ]
  },
  {
   "cell_type": "code",
   "execution_count": 2,
   "metadata": {
    "ExecuteTime": {
     "end_time": "2022-08-09T17:13:13.685998Z",
     "start_time": "2022-08-09T17:13:13.680015Z"
    }
   },
   "outputs": [
    {
     "data": {
      "text/plain": [
       "str"
      ]
     },
     "execution_count": 2,
     "metadata": {},
     "output_type": "execute_result"
    }
   ],
   "source": [
    "type(\"Hello\")"
   ]
  },
  {
   "cell_type": "markdown",
   "metadata": {},
   "source": [
    "## Concatenação de Strings \n",
    "\n",
    "- operador `+`"
   ]
  },
  {
   "cell_type": "code",
   "execution_count": 51,
   "metadata": {
    "ExecuteTime": {
     "end_time": "2022-10-18T20:12:05.919577Z",
     "start_time": "2022-10-18T20:12:05.909320Z"
    }
   },
   "outputs": [
    {
     "data": {
      "text/plain": [
       "3"
      ]
     },
     "execution_count": 51,
     "metadata": {},
     "output_type": "execute_result"
    }
   ],
   "source": [
    "1 + 2"
   ]
  },
  {
   "cell_type": "code",
   "execution_count": 52,
   "metadata": {
    "ExecuteTime": {
     "end_time": "2022-10-18T20:12:37.936745Z",
     "start_time": "2022-10-18T20:12:37.925655Z"
    }
   },
   "outputs": [
    {
     "data": {
      "text/plain": [
       "{1, 23}"
      ]
     },
     "execution_count": 52,
     "metadata": {},
     "output_type": "execute_result"
    }
   ],
   "source": [
    "{1,23,3}-{2,4,3}"
   ]
  },
  {
   "cell_type": "code",
   "execution_count": 53,
   "metadata": {
    "ExecuteTime": {
     "end_time": "2022-10-18T20:13:13.510458Z",
     "start_time": "2022-10-18T20:13:13.501005Z"
    }
   },
   "outputs": [
    {
     "data": {
      "text/plain": [
       "'Hello_World'"
      ]
     },
     "execution_count": 53,
     "metadata": {},
     "output_type": "execute_result"
    }
   ],
   "source": [
    "'Hello' + '_' + \"World\""
   ]
  },
  {
   "cell_type": "code",
   "execution_count": 54,
   "metadata": {
    "ExecuteTime": {
     "end_time": "2022-10-18T20:13:17.934697Z",
     "start_time": "2022-10-18T20:13:17.916341Z"
    }
   },
   "outputs": [],
   "source": [
    "x = 'Hello'\n",
    "\n",
    "y = \"World\""
   ]
  },
  {
   "cell_type": "code",
   "execution_count": 55,
   "metadata": {
    "ExecuteTime": {
     "end_time": "2022-10-18T20:13:18.366217Z",
     "start_time": "2022-10-18T20:13:18.349633Z"
    }
   },
   "outputs": [
    {
     "data": {
      "text/plain": [
       "'HelloWorld'"
      ]
     },
     "execution_count": 55,
     "metadata": {},
     "output_type": "execute_result"
    }
   ],
   "source": [
    "x + y"
   ]
  },
  {
   "cell_type": "code",
   "execution_count": 56,
   "metadata": {
    "ExecuteTime": {
     "end_time": "2022-10-18T20:13:24.909199Z",
     "start_time": "2022-10-18T20:13:24.903250Z"
    }
   },
   "outputs": [],
   "source": [
    "z = 85"
   ]
  },
  {
   "cell_type": "code",
   "execution_count": 57,
   "metadata": {
    "ExecuteTime": {
     "end_time": "2022-10-18T20:13:30.187728Z",
     "start_time": "2022-10-18T20:13:30.180493Z"
    }
   },
   "outputs": [],
   "source": [
    "z += 1\n",
    "#z = z + 1"
   ]
  },
  {
   "cell_type": "code",
   "execution_count": 58,
   "metadata": {
    "ExecuteTime": {
     "end_time": "2022-10-18T20:13:32.116303Z",
     "start_time": "2022-10-18T20:13:32.101265Z"
    },
    "scrolled": true
   },
   "outputs": [
    {
     "data": {
      "text/plain": [
       "86"
      ]
     },
     "execution_count": 58,
     "metadata": {},
     "output_type": "execute_result"
    }
   ],
   "source": [
    "z"
   ]
  },
  {
   "cell_type": "code",
   "execution_count": 59,
   "metadata": {
    "ExecuteTime": {
     "end_time": "2022-10-18T20:13:39.960873Z",
     "start_time": "2022-10-18T20:13:39.949179Z"
    }
   },
   "outputs": [
    {
     "data": {
      "text/plain": [
       "'Hello'"
      ]
     },
     "execution_count": 59,
     "metadata": {},
     "output_type": "execute_result"
    }
   ],
   "source": [
    "x"
   ]
  },
  {
   "cell_type": "code",
   "execution_count": 60,
   "metadata": {
    "ExecuteTime": {
     "end_time": "2022-10-18T20:13:46.257244Z",
     "start_time": "2022-10-18T20:13:46.245747Z"
    }
   },
   "outputs": [],
   "source": [
    "x += 'World'"
   ]
  },
  {
   "cell_type": "code",
   "execution_count": 61,
   "metadata": {
    "ExecuteTime": {
     "end_time": "2022-10-18T20:13:46.833699Z",
     "start_time": "2022-10-18T20:13:46.829305Z"
    }
   },
   "outputs": [
    {
     "data": {
      "text/plain": [
       "'HelloWorld'"
      ]
     },
     "execution_count": 61,
     "metadata": {},
     "output_type": "execute_result"
    }
   ],
   "source": [
    "x"
   ]
  },
  {
   "cell_type": "code",
   "execution_count": 13,
   "metadata": {
    "ExecuteTime": {
     "end_time": "2022-08-09T17:13:34.120741Z",
     "start_time": "2022-08-09T17:13:34.104483Z"
    }
   },
   "outputs": [
    {
     "data": {
      "text/plain": [
       "'HelloWorld'"
      ]
     },
     "execution_count": 13,
     "metadata": {},
     "output_type": "execute_result"
    }
   ],
   "source": [
    "x = 'Hello'\n",
    "#x += 'World'\n",
    "x = x + 'World'\n",
    "x"
   ]
  },
  {
   "cell_type": "markdown",
   "metadata": {},
   "source": [
    "Execução passo a passo:\n",
    "\n",
    "```python \n",
    "1. x <- 'Hello' # Hello é colocado na variável x (x agora é um alias para a string 'Hello'\n",
    "\n",
    "2. x += 'World' # A sintaxe x += exapande para x = x +\n",
    "\n",
    "3. x = x + 'World' # O `x` da direita é um alias para 'Hello'\n",
    "\n",
    "4. x = 'Hello' + 'World' # As duas strings são concatenadas\n",
    "\n",
    "5. x <- 'HelloWorld' # 'HelloWorld' é colocado dentro de x (sobreescrevendo o valor anterior)\n",
    "```"
   ]
  },
  {
   "cell_type": "code",
   "execution_count": 14,
   "metadata": {
    "ExecuteTime": {
     "end_time": "2022-05-31T11:50:32.104111Z",
     "start_time": "2022-05-31T11:50:32.086158Z"
    }
   },
   "outputs": [
    {
     "data": {
      "text/plain": [
       "'Hello'"
      ]
     },
     "execution_count": 14,
     "metadata": {},
     "output_type": "execute_result"
    }
   ],
   "source": [
    "\"Hello\""
   ]
  },
  {
   "cell_type": "code",
   "execution_count": 15,
   "metadata": {
    "ExecuteTime": {
     "end_time": "2022-05-31T11:50:32.494178Z",
     "start_time": "2022-05-31T11:50:32.478212Z"
    }
   },
   "outputs": [
    {
     "name": "stdout",
     "output_type": "stream",
     "text": [
      "Hello\n"
     ]
    }
   ],
   "source": [
    "print('Hello')"
   ]
  },
  {
   "cell_type": "markdown",
   "metadata": {},
   "source": [
    "# Multiplicação de String"
   ]
  },
  {
   "cell_type": "code",
   "execution_count": 63,
   "metadata": {
    "ExecuteTime": {
     "end_time": "2022-10-18T20:15:25.986047Z",
     "start_time": "2022-10-18T20:15:25.981639Z"
    }
   },
   "outputs": [
    {
     "data": {
      "text/plain": [
       "'HelloWorld'"
      ]
     },
     "execution_count": 63,
     "metadata": {},
     "output_type": "execute_result"
    }
   ],
   "source": [
    "x"
   ]
  },
  {
   "cell_type": "code",
   "execution_count": 64,
   "metadata": {
    "ExecuteTime": {
     "end_time": "2022-10-18T20:15:26.297917Z",
     "start_time": "2022-10-18T20:15:26.286790Z"
    }
   },
   "outputs": [
    {
     "data": {
      "text/plain": [
       "'HelloWorldHelloWorldHelloWorld'"
      ]
     },
     "execution_count": 64,
     "metadata": {},
     "output_type": "execute_result"
    }
   ],
   "source": [
    "x + x + x"
   ]
  },
  {
   "cell_type": "code",
   "execution_count": 65,
   "metadata": {
    "ExecuteTime": {
     "end_time": "2022-10-18T20:15:26.608981Z",
     "start_time": "2022-10-18T20:15:26.597270Z"
    }
   },
   "outputs": [
    {
     "data": {
      "text/plain": [
       "'HelloWorldHelloWorldHelloWorld'"
      ]
     },
     "execution_count": 65,
     "metadata": {},
     "output_type": "execute_result"
    }
   ],
   "source": [
    "x * 3"
   ]
  },
  {
   "cell_type": "code",
   "execution_count": 66,
   "metadata": {
    "ExecuteTime": {
     "end_time": "2022-10-18T20:15:28.948831Z",
     "start_time": "2022-10-18T20:15:28.933567Z"
    }
   },
   "outputs": [
    {
     "data": {
      "text/plain": [
       "['p3', 'unp3', 'p3', 'unp3']"
      ]
     },
     "execution_count": 66,
     "metadata": {},
     "output_type": "execute_result"
    }
   ],
   "source": [
    "# curiosidade: listas tem o mesmo princípio de concatenação das strings\n",
    "['p3', 'unp3'] + ['p3', 'unp3']"
   ]
  },
  {
   "cell_type": "code",
   "execution_count": 67,
   "metadata": {
    "ExecuteTime": {
     "end_time": "2022-10-18T20:15:31.218972Z",
     "start_time": "2022-10-18T20:15:31.206632Z"
    }
   },
   "outputs": [
    {
     "data": {
      "text/plain": [
       "['p3',\n",
       " 'unp3',\n",
       " 'p3',\n",
       " 'unp3',\n",
       " 'p3',\n",
       " 'unp3',\n",
       " 'p3',\n",
       " 'unp3',\n",
       " 'p3',\n",
       " 'unp3',\n",
       " 'p3',\n",
       " 'unp3',\n",
       " 'p3',\n",
       " 'unp3',\n",
       " 'p3',\n",
       " 'unp3',\n",
       " 'p3',\n",
       " 'unp3',\n",
       " 'p3',\n",
       " 'unp3']"
      ]
     },
     "execution_count": 67,
     "metadata": {},
     "output_type": "execute_result"
    }
   ],
   "source": [
    "['p3', 'unp3'] * 10"
   ]
  },
  {
   "cell_type": "markdown",
   "metadata": {},
   "source": [
    "## Strings de várias linhas(multiline)"
   ]
  },
  {
   "cell_type": "code",
   "execution_count": 69,
   "metadata": {
    "ExecuteTime": {
     "end_time": "2022-10-18T20:17:06.967343Z",
     "start_time": "2022-10-18T20:17:06.958308Z"
    },
    "scrolled": true
   },
   "outputs": [
    {
     "data": {
      "text/plain": [
       "'Andre Ribeiro de \\nBarros Aguiar'"
      ]
     },
     "execution_count": 69,
     "metadata": {},
     "output_type": "execute_result"
    }
   ],
   "source": [
    "\"\"\"Andre Ribeiro de \n",
    "Barros Aguiar\"\"\""
   ]
  },
  {
   "cell_type": "code",
   "execution_count": 70,
   "metadata": {
    "ExecuteTime": {
     "end_time": "2022-10-18T20:17:33.633101Z",
     "start_time": "2022-10-18T20:17:33.626980Z"
    }
   },
   "outputs": [
    {
     "name": "stdout",
     "output_type": "stream",
     "text": [
      "Andre Ribeiro de \n",
      "Barros Aguiar\n"
     ]
    }
   ],
   "source": [
    "print('''Andre Ribeiro de \n",
    "Barros Aguiar''')"
   ]
  },
  {
   "cell_type": "code",
   "execution_count": 71,
   "metadata": {
    "ExecuteTime": {
     "end_time": "2022-10-18T20:17:45.633640Z",
     "start_time": "2022-10-18T20:17:45.627098Z"
    }
   },
   "outputs": [
    {
     "data": {
      "text/plain": [
       "'Andre Ribeiro de \\nBarros Aguiar'"
      ]
     },
     "execution_count": 71,
     "metadata": {},
     "output_type": "execute_result"
    }
   ],
   "source": [
    "'Andre Ribeiro de \\nBarros Aguiar'"
   ]
  },
  {
   "cell_type": "code",
   "execution_count": 72,
   "metadata": {
    "ExecuteTime": {
     "end_time": "2022-10-18T20:17:49.016795Z",
     "start_time": "2022-10-18T20:17:49.011194Z"
    }
   },
   "outputs": [
    {
     "name": "stdout",
     "output_type": "stream",
     "text": [
      "Andre Ribeiro de \n",
      "Barros Aguiar\n"
     ]
    }
   ],
   "source": [
    "print('Andre Ribeiro de \\nBarros Aguiar')"
   ]
  },
  {
   "cell_type": "code",
   "execution_count": 107,
   "metadata": {
    "ExecuteTime": {
     "end_time": "2022-01-11T18:50:43.820679Z",
     "start_time": "2022-01-11T18:50:43.813697Z"
    }
   },
   "outputs": [
    {
     "name": "stdout",
     "output_type": "stream",
     "text": [
      "Andre Ribeiro de \n",
      "Barros Aguiar\n"
     ]
    }
   ],
   "source": [
    "print('''Andre Ribeiro de \n",
    "Barros Aguiar''')"
   ]
  },
  {
   "cell_type": "code",
   "execution_count": 65,
   "metadata": {
    "ExecuteTime": {
     "end_time": "2022-08-09T19:13:29.236375Z",
     "start_time": "2022-08-09T19:13:29.219388Z"
    }
   },
   "outputs": [
    {
     "name": "stdout",
     "output_type": "stream",
     "text": [
      "Andre Ribeiro de \n",
      "\n",
      "        Barros Aguiar\n"
     ]
    }
   ],
   "source": [
    "print(\"\"\"Andre Ribeiro de \n",
    "\n",
    "        Barros Aguiar\"\"\")"
   ]
  },
  {
   "cell_type": "code",
   "execution_count": 73,
   "metadata": {
    "ExecuteTime": {
     "end_time": "2022-10-18T20:18:17.660813Z",
     "start_time": "2022-10-18T20:18:17.643120Z"
    }
   },
   "outputs": [],
   "source": [
    "x = \"\"\"Andre Ribeiro de \n",
    "\n",
    "    Barros Aguiar\"\"\""
   ]
  },
  {
   "cell_type": "code",
   "execution_count": 74,
   "metadata": {
    "ExecuteTime": {
     "end_time": "2022-10-18T20:18:19.543499Z",
     "start_time": "2022-10-18T20:18:19.532982Z"
    }
   },
   "outputs": [
    {
     "name": "stdout",
     "output_type": "stream",
     "text": [
      "Andre Ribeiro de \n",
      "\n",
      "    Barros Aguiar\n"
     ]
    }
   ],
   "source": [
    "print(x)"
   ]
  },
  {
   "cell_type": "markdown",
   "metadata": {},
   "source": [
    "# Caracteres especiais\n",
    "\n",
    "- `\\n` é a representação da quebra de linha (enter)\n",
    "- `\\t` é a representação do TAB"
   ]
  },
  {
   "cell_type": "code",
   "execution_count": 75,
   "metadata": {
    "ExecuteTime": {
     "end_time": "2022-10-18T20:18:50.795913Z",
     "start_time": "2022-10-18T20:18:50.779341Z"
    }
   },
   "outputs": [
    {
     "data": {
      "text/plain": [
       "1"
      ]
     },
     "execution_count": 75,
     "metadata": {},
     "output_type": "execute_result"
    }
   ],
   "source": [
    "len('\\n')"
   ]
  },
  {
   "cell_type": "code",
   "execution_count": 76,
   "metadata": {
    "ExecuteTime": {
     "end_time": "2022-10-18T20:19:00.138550Z",
     "start_time": "2022-10-18T20:19:00.131056Z"
    }
   },
   "outputs": [
    {
     "name": "stdout",
     "output_type": "stream",
     "text": [
      "\t\t\tAtum\n"
     ]
    }
   ],
   "source": [
    "print('\\t' * 3 + 'Atum')"
   ]
  },
  {
   "cell_type": "code",
   "execution_count": 77,
   "metadata": {
    "ExecuteTime": {
     "end_time": "2022-10-18T20:19:16.943298Z",
     "start_time": "2022-10-18T20:19:16.938292Z"
    }
   },
   "outputs": [
    {
     "data": {
      "text/plain": [
       "3"
      ]
     },
     "execution_count": 77,
     "metadata": {},
     "output_type": "execute_result"
    }
   ],
   "source": [
    "len('\\t' * 3)"
   ]
  },
  {
   "cell_type": "markdown",
   "metadata": {},
   "source": [
    "# Fatiamento(slicing) de strings"
   ]
  },
  {
   "cell_type": "code",
   "execution_count": 78,
   "metadata": {
    "ExecuteTime": {
     "end_time": "2022-10-18T20:19:55.192207Z",
     "start_time": "2022-10-18T20:19:55.177691Z"
    }
   },
   "outputs": [
    {
     "data": {
      "text/plain": [
       "[1, 2, 3, 566, 88, 5]"
      ]
     },
     "execution_count": 78,
     "metadata": {},
     "output_type": "execute_result"
    }
   ],
   "source": [
    "# slicings in lists\n",
    "x = [1,2,3,566,88,5,5,55576]\n",
    "x[:6]"
   ]
  },
  {
   "cell_type": "code",
   "execution_count": 79,
   "metadata": {
    "ExecuteTime": {
     "end_time": "2022-10-18T20:20:24.573013Z",
     "start_time": "2022-10-18T20:20:24.562737Z"
    }
   },
   "outputs": [],
   "source": [
    "word = \"\"\"automobiles\n",
    "          are\n",
    "          awesome\"\"\""
   ]
  },
  {
   "cell_type": "code",
   "execution_count": 80,
   "metadata": {
    "ExecuteTime": {
     "end_time": "2022-10-18T20:20:27.323278Z",
     "start_time": "2022-10-18T20:20:27.308141Z"
    }
   },
   "outputs": [
    {
     "data": {
      "text/plain": [
       "'a'"
      ]
     },
     "execution_count": 80,
     "metadata": {},
     "output_type": "execute_result"
    }
   ],
   "source": [
    "word[0]"
   ]
  },
  {
   "cell_type": "code",
   "execution_count": 81,
   "metadata": {
    "ExecuteTime": {
     "end_time": "2022-10-18T20:20:31.088192Z",
     "start_time": "2022-10-18T20:20:31.076491Z"
    }
   },
   "outputs": [
    {
     "data": {
      "text/plain": [
       "'u'"
      ]
     },
     "execution_count": 81,
     "metadata": {},
     "output_type": "execute_result"
    }
   ],
   "source": [
    "word[1]"
   ]
  },
  {
   "cell_type": "code",
   "execution_count": 82,
   "metadata": {
    "ExecuteTime": {
     "end_time": "2022-10-18T20:20:34.172632Z",
     "start_time": "2022-10-18T20:20:34.164284Z"
    }
   },
   "outputs": [
    {
     "data": {
      "text/plain": [
       "'e'"
      ]
     },
     "execution_count": 82,
     "metadata": {},
     "output_type": "execute_result"
    }
   ],
   "source": [
    "word[-1]"
   ]
  },
  {
   "cell_type": "code",
   "execution_count": 85,
   "metadata": {
    "ExecuteTime": {
     "end_time": "2022-10-18T20:20:49.860095Z",
     "start_time": "2022-10-18T20:20:49.853552Z"
    }
   },
   "outputs": [
    {
     "data": {
      "text/plain": [
       "'\\n'"
      ]
     },
     "execution_count": 85,
     "metadata": {},
     "output_type": "execute_result"
    }
   ],
   "source": [
    "word[11]"
   ]
  },
  {
   "cell_type": "code",
   "execution_count": 86,
   "metadata": {
    "ExecuteTime": {
     "end_time": "2022-10-18T20:21:03.600941Z",
     "start_time": "2022-10-18T20:21:03.586342Z"
    },
    "scrolled": true
   },
   "outputs": [
    {
     "data": {
      "text/plain": [
       "'auto'"
      ]
     },
     "execution_count": 86,
     "metadata": {},
     "output_type": "execute_result"
    }
   ],
   "source": [
    "word[:4]"
   ]
  },
  {
   "cell_type": "code",
   "execution_count": 87,
   "metadata": {
    "ExecuteTime": {
     "end_time": "2022-10-18T20:21:37.666254Z",
     "start_time": "2022-10-18T20:21:37.651745Z"
    }
   },
   "outputs": [
    {
     "data": {
      "text/plain": [
       "'automobile  awesome'"
      ]
     },
     "execution_count": 87,
     "metadata": {},
     "output_type": "execute_result"
    }
   ],
   "source": [
    "word[:10] + word[-9:]"
   ]
  },
  {
   "cell_type": "code",
   "execution_count": 12,
   "metadata": {
    "ExecuteTime": {
     "end_time": "2022-10-18T18:29:26.125903Z",
     "start_time": "2022-10-18T18:29:26.119868Z"
    }
   },
   "outputs": [
    {
     "data": {
      "text/plain": [
       "'uo'"
      ]
     },
     "execution_count": 12,
     "metadata": {},
     "output_type": "execute_result"
    }
   ],
   "source": [
    "word[1:5:2]"
   ]
  },
  {
   "cell_type": "code",
   "execution_count": 88,
   "metadata": {
    "ExecuteTime": {
     "end_time": "2022-10-18T20:23:19.264704Z",
     "start_time": "2022-10-18T20:23:19.259821Z"
    }
   },
   "outputs": [
    {
     "data": {
      "text/plain": [
       "'automobiles\\n          are\\n          awesome'"
      ]
     },
     "execution_count": 88,
     "metadata": {},
     "output_type": "execute_result"
    }
   ],
   "source": [
    "word"
   ]
  },
  {
   "cell_type": "code",
   "execution_count": 90,
   "metadata": {
    "ExecuteTime": {
     "end_time": "2022-10-18T20:24:26.276025Z",
     "start_time": "2022-10-18T20:24:26.257001Z"
    }
   },
   "outputs": [
    {
     "data": {
      "text/plain": [
       "[9, 8, 7, 6, 5, 4, 3, 2, 1, 0]"
      ]
     },
     "execution_count": 90,
     "metadata": {},
     "output_type": "execute_result"
    }
   ],
   "source": [
    "list(range(10))[::-1]"
   ]
  },
  {
   "cell_type": "markdown",
   "metadata": {},
   "source": [
    "------"
   ]
  },
  {
   "cell_type": "markdown",
   "metadata": {
    "ExecuteTime": {
     "end_time": "2022-10-18T18:39:08.558184Z",
     "start_time": "2022-10-18T18:39:08.553158Z"
    }
   },
   "source": [
    "# Metódos de string"
   ]
  },
  {
   "cell_type": "markdown",
   "metadata": {},
   "source": [
    "## `Join` juntando uma <u>lista de strings</u> em uma `string única`"
   ]
  },
  {
   "cell_type": "code",
   "execution_count": 92,
   "metadata": {
    "ExecuteTime": {
     "end_time": "2022-10-18T20:27:13.403492Z",
     "start_time": "2022-10-18T20:27:13.386097Z"
    },
    "scrolled": true
   },
   "outputs": [
    {
     "data": {
      "text/plain": [
       "['Andre', 'Ribeiro', 'de', 'Barros', 'Aguiar']"
      ]
     },
     "execution_count": 92,
     "metadata": {},
     "output_type": "execute_result"
    }
   ],
   "source": [
    "nome = ['Andre','Ribeiro','de', 'Barros','Aguiar']\n",
    "nome"
   ]
  },
  {
   "cell_type": "code",
   "execution_count": 93,
   "metadata": {
    "ExecuteTime": {
     "end_time": "2022-10-18T20:27:14.427884Z",
     "start_time": "2022-10-18T20:27:14.420373Z"
    }
   },
   "outputs": [
    {
     "data": {
      "text/plain": [
       "5"
      ]
     },
     "execution_count": 93,
     "metadata": {},
     "output_type": "execute_result"
    }
   ],
   "source": [
    "len(nome)"
   ]
  },
  {
   "cell_type": "code",
   "execution_count": 94,
   "metadata": {
    "ExecuteTime": {
     "end_time": "2022-10-18T20:27:21.495508Z",
     "start_time": "2022-10-18T20:27:21.481550Z"
    }
   },
   "outputs": [
    {
     "data": {
      "text/plain": [
       "'AndreRibeirodeBarrosAguiar'"
      ]
     },
     "execution_count": 94,
     "metadata": {},
     "output_type": "execute_result"
    }
   ],
   "source": [
    "nome[0]+nome[1]+nome[2]+nome[3]+nome[4]"
   ]
  },
  {
   "cell_type": "code",
   "execution_count": 100,
   "metadata": {
    "ExecuteTime": {
     "end_time": "2022-10-18T20:31:04.783745Z",
     "start_time": "2022-10-18T20:31:04.769970Z"
    }
   },
   "outputs": [
    {
     "data": {
      "text/plain": [
       "'Andre Ribeiro de Barros Aguiar '"
      ]
     },
     "execution_count": 100,
     "metadata": {},
     "output_type": "execute_result"
    }
   ],
   "source": [
    "# Como podemos fazer isso de outra forma?\n",
    "joined_string = ''\n",
    "for n in nome:\n",
    "    joined_string += n + ' '\n",
    "joined_string\n"
   ]
  },
  {
   "cell_type": "code",
   "execution_count": 101,
   "metadata": {
    "ExecuteTime": {
     "end_time": "2022-10-18T20:31:29.521843Z",
     "start_time": "2022-10-18T20:31:29.512981Z"
    }
   },
   "outputs": [],
   "source": [
    "espaco = ' '"
   ]
  },
  {
   "cell_type": "code",
   "execution_count": 102,
   "metadata": {
    "ExecuteTime": {
     "end_time": "2022-10-18T20:31:29.953989Z",
     "start_time": "2022-10-18T20:31:29.939391Z"
    }
   },
   "outputs": [
    {
     "data": {
      "text/plain": [
       "str"
      ]
     },
     "execution_count": 102,
     "metadata": {},
     "output_type": "execute_result"
    }
   ],
   "source": [
    "type(espaco)"
   ]
  },
  {
   "cell_type": "code",
   "execution_count": 22,
   "metadata": {
    "ExecuteTime": {
     "end_time": "2022-10-18T18:31:20.152938Z",
     "start_time": "2022-10-18T18:31:20.147434Z"
    }
   },
   "outputs": [
    {
     "data": {
      "text/plain": [
       "['Andre', 'Ribeiro', 'de', 'Barros', 'Aguiar']"
      ]
     },
     "execution_count": 22,
     "metadata": {},
     "output_type": "execute_result"
    }
   ],
   "source": [
    "nome"
   ]
  },
  {
   "cell_type": "code",
   "execution_count": 103,
   "metadata": {
    "ExecuteTime": {
     "end_time": "2022-10-18T20:31:47.916161Z",
     "start_time": "2022-10-18T20:31:47.905292Z"
    },
    "scrolled": true
   },
   "outputs": [
    {
     "data": {
      "text/plain": [
       "'Andre Ribeiro de Barros Aguiar'"
      ]
     },
     "execution_count": 103,
     "metadata": {},
     "output_type": "execute_result"
    }
   ],
   "source": [
    "espaco.join(nome)"
   ]
  },
  {
   "cell_type": "code",
   "execution_count": 105,
   "metadata": {
    "ExecuteTime": {
     "end_time": "2022-10-18T20:32:27.387106Z",
     "start_time": "2022-10-18T20:32:27.368072Z"
    }
   },
   "outputs": [
    {
     "data": {
      "text/plain": [
       "'Andre Ribeiro de Barros Aguiar'"
      ]
     },
     "execution_count": 105,
     "metadata": {},
     "output_type": "execute_result"
    }
   ],
   "source": [
    "' '.join(nome)"
   ]
  },
  {
   "cell_type": "code",
   "execution_count": 106,
   "metadata": {
    "ExecuteTime": {
     "end_time": "2022-10-18T20:32:34.272896Z",
     "start_time": "2022-10-18T20:32:34.255273Z"
    }
   },
   "outputs": [
    {
     "data": {
      "text/plain": [
       "'Andre-Ribeiro-de-Barros-Aguiar'"
      ]
     },
     "execution_count": 106,
     "metadata": {},
     "output_type": "execute_result"
    }
   ],
   "source": [
    "'-'.join(nome)"
   ]
  },
  {
   "cell_type": "code",
   "execution_count": 107,
   "metadata": {
    "ExecuteTime": {
     "end_time": "2022-10-18T20:32:36.246208Z",
     "start_time": "2022-10-18T20:32:36.232368Z"
    }
   },
   "outputs": [
    {
     "data": {
      "text/plain": [
       "'Andre*****Ribeiro*****de*****Barros*****Aguiar'"
      ]
     },
     "execution_count": 107,
     "metadata": {},
     "output_type": "execute_result"
    }
   ],
   "source": [
    "'*****'.join(nome)"
   ]
  },
  {
   "cell_type": "code",
   "execution_count": 111,
   "metadata": {
    "ExecuteTime": {
     "end_time": "2022-10-18T20:33:18.171525Z",
     "start_time": "2022-10-18T20:33:18.161304Z"
    }
   },
   "outputs": [
    {
     "data": {
      "text/plain": [
       "'Andre->Ribeiro->de->Barros->Aguiar'"
      ]
     },
     "execution_count": 111,
     "metadata": {},
     "output_type": "execute_result"
    }
   ],
   "source": [
    "'->'.join(['Andre','Ribeiro','de', 'Barros','Aguiar'])"
   ]
  },
  {
   "cell_type": "code",
   "execution_count": 109,
   "metadata": {
    "ExecuteTime": {
     "end_time": "2022-10-18T20:32:56.099711Z",
     "start_time": "2022-10-18T20:32:56.089198Z"
    }
   },
   "outputs": [
    {
     "data": {
      "text/plain": [
       "'Happy-Puppies'"
      ]
     },
     "execution_count": 109,
     "metadata": {},
     "output_type": "execute_result"
    }
   ],
   "source": [
    "x = 'Happy'\n",
    "y = 'Puppies'\n",
    "'-'.join((x,y))"
   ]
  },
  {
   "cell_type": "markdown",
   "metadata": {},
   "source": [
    "### Exemplo prático"
   ]
  },
  {
   "cell_type": "code",
   "execution_count": 114,
   "metadata": {
    "ExecuteTime": {
     "end_time": "2022-10-18T20:38:26.124896Z",
     "start_time": "2022-10-18T20:38:26.110565Z"
    },
    "cell_style": "center",
    "scrolled": true
   },
   "outputs": [
    {
     "data": {
      "text/plain": [
       "'\\nSELECT * FROM table_A\\nUNION\\nSELECT * FROM table_B\\nUNION \\nSELECT * FROM table_C\\nUNION\\nSELECT * FROM table_D\\nUNION\\nSELECT * FROM table_E\\nUNION\\nSELECT * FROM table_F\\nUNION\\nSELECT * FROM table_G\\nUNION\\nSELECT * FROM table_H\\nUNION\\nSELECT * FROM table_I\\n'"
      ]
     },
     "execution_count": 114,
     "metadata": {},
     "output_type": "execute_result"
    }
   ],
   "source": [
    "'''\n",
    "SELECT * FROM table_A\n",
    "UNION\n",
    "SELECT * FROM table_B\n",
    "UNION \n",
    "SELECT * FROM table_C\n",
    "UNION\n",
    "SELECT * FROM table_D\n",
    "UNION\n",
    "SELECT * FROM table_E\n",
    "UNION\n",
    "SELECT * FROM table_F\n",
    "UNION\n",
    "SELECT * FROM table_G\n",
    "UNION\n",
    "SELECT * FROM table_H\n",
    "UNION\n",
    "SELECT * FROM table_I\n",
    "'''"
   ]
  },
  {
   "cell_type": "code",
   "execution_count": null,
   "metadata": {},
   "outputs": [],
   "source": [
    "# Como criar a frase final a partir da lista?"
   ]
  },
  {
   "cell_type": "code",
   "execution_count": 113,
   "metadata": {
    "ExecuteTime": {
     "end_time": "2022-10-18T20:36:30.577804Z",
     "start_time": "2022-10-18T20:36:30.568346Z"
    }
   },
   "outputs": [],
   "source": [
    "tables = ['table_A', 'table_B', 'table_C', 'table_D', 'table_E', 'table_F', 'table_G', 'table_H', 'table_I']"
   ]
  },
  {
   "cell_type": "code",
   "execution_count": 119,
   "metadata": {
    "ExecuteTime": {
     "end_time": "2022-10-18T20:45:51.911307Z",
     "start_time": "2022-10-18T20:45:51.894782Z"
    }
   },
   "outputs": [
    {
     "name": "stdout",
     "output_type": "stream",
     "text": [
      "SELECT * FROM table_A\n",
      "UNION\n",
      "SELECT * FROM table_B\n",
      "UNION\n",
      "SELECT * FROM table_C\n",
      "UNION\n",
      "SELECT * FROM table_D\n",
      "UNION\n",
      "SELECT * FROM table_E\n",
      "UNION\n",
      "SELECT * FROM table_F\n",
      "UNION\n",
      "SELECT * FROM table_G\n",
      "UNION\n",
      "SELECT * FROM table_H\n",
      "UNION\n",
      "SELECT * FROM table_I\n"
     ]
    }
   ],
   "source": [
    "frase_uniao = \"\"\"\n",
    "UNION\n",
    "SELECT * FROM \"\"\"\n",
    "print('SELECT * FROM ' + frase_uniao.join(tables))"
   ]
  },
  {
   "cell_type": "code",
   "execution_count": null,
   "metadata": {},
   "outputs": [],
   "source": []
  },
  {
   "cell_type": "code",
   "execution_count": null,
   "metadata": {},
   "outputs": [],
   "source": []
  },
  {
   "cell_type": "code",
   "execution_count": null,
   "metadata": {},
   "outputs": [],
   "source": []
  },
  {
   "cell_type": "code",
   "execution_count": 15,
   "metadata": {
    "ExecuteTime": {
     "end_time": "2022-08-09T17:29:46.454912Z",
     "start_time": "2022-08-09T17:29:46.438358Z"
    },
    "scrolled": true
   },
   "outputs": [],
   "source": [
    "# Como criar a frase final a partir da lista?"
   ]
  },
  {
   "cell_type": "code",
   "execution_count": 115,
   "metadata": {
    "ExecuteTime": {
     "end_time": "2022-10-18T20:42:54.655117Z",
     "start_time": "2022-10-18T20:42:54.638216Z"
    }
   },
   "outputs": [
    {
     "name": "stdout",
     "output_type": "stream",
     "text": [
      "SELECT * FROM table_A\n",
      "UNION\n",
      "SELECT * FROMtable_B\n",
      "UNION\n",
      "SELECT * FROMtable_C\n",
      "UNION\n",
      "SELECT * FROMtable_D\n",
      "UNION\n",
      "SELECT * FROMtable_E\n",
      "UNION\n",
      "SELECT * FROMtable_F\n",
      "UNION\n",
      "SELECT * FROMtable_G\n",
      "UNION\n",
      "SELECT * FROMtable_H\n",
      "UNION\n",
      "SELECT * FROMtable_I\n"
     ]
    }
   ],
   "source": [
    "frase_inicial = 'SELECT * FROM '\n",
    "frase_uniao = '\\nUNION\\nSELECT * FROM'\n",
    "join_tabelas = frase_uniao.join(tables)\n",
    "print(frase_inicial + join_tabelas)"
   ]
  },
  {
   "cell_type": "code",
   "execution_count": null,
   "metadata": {},
   "outputs": [],
   "source": []
  },
  {
   "cell_type": "markdown",
   "metadata": {},
   "source": [
    "## Separando uma string\n",
    "\n",
    "Converter a `string` em `list`, usando um `token` como separador."
   ]
  },
  {
   "cell_type": "code",
   "execution_count": 120,
   "metadata": {
    "ExecuteTime": {
     "end_time": "2022-10-18T20:50:10.066691Z",
     "start_time": "2022-10-18T20:50:10.053497Z"
    }
   },
   "outputs": [],
   "source": [
    "my_string = 'They ateee the - mystery chicken meat. It tasted like          chicken'"
   ]
  },
  {
   "cell_type": "code",
   "execution_count": 123,
   "metadata": {
    "ExecuteTime": {
     "end_time": "2022-10-18T20:52:26.172705Z",
     "start_time": "2022-10-18T20:52:26.156141Z"
    },
    "scrolled": false
   },
   "outputs": [
    {
     "data": {
      "text/plain": [
       "['They',\n",
       " 'ateee',\n",
       " 'the',\n",
       " '-',\n",
       " 'mystery',\n",
       " 'chicken',\n",
       " 'meat.',\n",
       " 'It',\n",
       " 'tasted',\n",
       " 'like',\n",
       " 'chicken']"
      ]
     },
     "execution_count": 123,
     "metadata": {},
     "output_type": "execute_result"
    }
   ],
   "source": [
    "my_string.split()"
   ]
  },
  {
   "cell_type": "code",
   "execution_count": 142,
   "metadata": {
    "ExecuteTime": {
     "end_time": "2022-05-31T20:06:48.530070Z",
     "start_time": "2022-05-31T20:06:48.525083Z"
    }
   },
   "outputs": [
    {
     "data": {
      "text/plain": [
       "19"
      ]
     },
     "execution_count": 142,
     "metadata": {},
     "output_type": "execute_result"
    }
   ],
   "source": [
    "my_string.count(' ')"
   ]
  },
  {
   "cell_type": "code",
   "execution_count": 28,
   "metadata": {
    "ExecuteTime": {
     "end_time": "2022-10-18T18:37:13.826787Z",
     "start_time": "2022-10-18T18:37:13.818135Z"
    }
   },
   "outputs": [
    {
     "data": {
      "text/plain": [
       "['They',\n",
       " 'ateee',\n",
       " 'the',\n",
       " '-',\n",
       " 'mystery',\n",
       " 'chicken',\n",
       " 'meat.',\n",
       " 'It',\n",
       " 'tasted',\n",
       " 'like',\n",
       " '',\n",
       " '',\n",
       " '',\n",
       " '',\n",
       " '',\n",
       " '',\n",
       " '',\n",
       " '',\n",
       " '',\n",
       " 'chicken']"
      ]
     },
     "execution_count": 28,
     "metadata": {},
     "output_type": "execute_result"
    }
   ],
   "source": [
    "# when sep=' ': DO NOT discard empty strings\n",
    "my_string.split(sep=' ')"
   ]
  },
  {
   "cell_type": "code",
   "execution_count": 124,
   "metadata": {
    "ExecuteTime": {
     "end_time": "2022-10-18T20:53:07.556487Z",
     "start_time": "2022-10-18T20:53:07.540712Z"
    },
    "scrolled": true
   },
   "outputs": [
    {
     "data": {
      "text/plain": [
       "['They ateee the - mystery chicken meat', ' It tasted like          chicken']"
      ]
     },
     "execution_count": 124,
     "metadata": {},
     "output_type": "execute_result"
    }
   ],
   "source": [
    "my_string.split('.')"
   ]
  },
  {
   "cell_type": "code",
   "execution_count": 125,
   "metadata": {
    "ExecuteTime": {
     "end_time": "2022-10-18T20:53:12.053979Z",
     "start_time": "2022-10-18T20:53:12.034955Z"
    }
   },
   "outputs": [
    {
     "data": {
      "text/plain": [
       "['They ateee the ', ' mystery chicken meat. It tasted like          chicken']"
      ]
     },
     "execution_count": 125,
     "metadata": {},
     "output_type": "execute_result"
    }
   ],
   "source": [
    "my_string.split('-')"
   ]
  },
  {
   "cell_type": "code",
   "execution_count": 126,
   "metadata": {
    "ExecuteTime": {
     "end_time": "2022-10-18T20:53:15.336132Z",
     "start_time": "2022-10-18T20:53:15.332129Z"
    },
    "scrolled": true
   },
   "outputs": [
    {
     "data": {
      "text/plain": [
       "['They ateee the - mystery ', ' meat. It tasted like          ', '']"
      ]
     },
     "execution_count": 126,
     "metadata": {},
     "output_type": "execute_result"
    }
   ],
   "source": [
    "my_string.split('chicken')"
   ]
  },
  {
   "cell_type": "code",
   "execution_count": 32,
   "metadata": {
    "ExecuteTime": {
     "end_time": "2022-10-18T18:37:17.471443Z",
     "start_time": "2022-10-18T18:37:17.457421Z"
    }
   },
   "outputs": [
    {
     "data": {
      "text/plain": [
       "'They ateee the - mystery chicken meat. It tasted like chicken'"
      ]
     },
     "execution_count": 32,
     "metadata": {},
     "output_type": "execute_result"
    }
   ],
   "source": [
    "' '.join(my_string.split())"
   ]
  },
  {
   "cell_type": "code",
   "execution_count": 33,
   "metadata": {
    "ExecuteTime": {
     "end_time": "2022-10-18T18:37:19.078098Z",
     "start_time": "2022-10-18T18:37:19.067425Z"
    }
   },
   "outputs": [
    {
     "data": {
      "text/plain": [
       "['They',\n",
       " 'ateee',\n",
       " 'the',\n",
       " '-',\n",
       " 'mystery',\n",
       " 'chicken',\n",
       " 'meat.',\n",
       " 'It',\n",
       " 'tasted',\n",
       " 'like',\n",
       " 'chicken']"
      ]
     },
     "execution_count": 33,
     "metadata": {},
     "output_type": "execute_result"
    }
   ],
   "source": [
    "list_string = my_string.split()\n",
    "list_string"
   ]
  },
  {
   "cell_type": "code",
   "execution_count": 34,
   "metadata": {
    "ExecuteTime": {
     "end_time": "2022-10-18T18:37:20.530319Z",
     "start_time": "2022-10-18T18:37:20.522039Z"
    }
   },
   "outputs": [
    {
     "data": {
      "text/plain": [
       "'They ateee the - mystery chicken meat. It tasted like chicken'"
      ]
     },
     "execution_count": 34,
     "metadata": {},
     "output_type": "execute_result"
    }
   ],
   "source": [
    "clean_string=' '.join(list_string)\n",
    "clean_string"
   ]
  },
  {
   "cell_type": "markdown",
   "metadata": {},
   "source": [
    "## Startswith e Endswith"
   ]
  },
  {
   "cell_type": "code",
   "execution_count": 127,
   "metadata": {
    "ExecuteTime": {
     "end_time": "2022-10-19T12:03:46.588144Z",
     "start_time": "2022-10-19T12:03:46.571134Z"
    }
   },
   "outputs": [],
   "source": [
    "my_string = 'There is no business like show business.'"
   ]
  },
  {
   "cell_type": "code",
   "execution_count": 128,
   "metadata": {
    "ExecuteTime": {
     "end_time": "2022-10-19T12:03:59.199726Z",
     "start_time": "2022-10-19T12:03:59.187868Z"
    }
   },
   "outputs": [
    {
     "data": {
      "text/plain": [
       "True"
      ]
     },
     "execution_count": 128,
     "metadata": {},
     "output_type": "execute_result"
    }
   ],
   "source": [
    "my_string.startswith('There')"
   ]
  },
  {
   "cell_type": "code",
   "execution_count": 129,
   "metadata": {
    "ExecuteTime": {
     "end_time": "2022-10-19T12:04:24.626262Z",
     "start_time": "2022-10-19T12:04:24.609450Z"
    }
   },
   "outputs": [
    {
     "data": {
      "text/plain": [
       "False"
      ]
     },
     "execution_count": 129,
     "metadata": {},
     "output_type": "execute_result"
    }
   ],
   "source": [
    "my_string.endswith('s')"
   ]
  },
  {
   "cell_type": "code",
   "execution_count": 130,
   "metadata": {
    "ExecuteTime": {
     "end_time": "2022-10-19T12:04:31.489835Z",
     "start_time": "2022-10-19T12:04:31.481620Z"
    }
   },
   "outputs": [
    {
     "data": {
      "text/plain": [
       "True"
      ]
     },
     "execution_count": 130,
     "metadata": {},
     "output_type": "execute_result"
    }
   ],
   "source": [
    "my_string.endswith('.')"
   ]
  },
  {
   "cell_type": "code",
   "execution_count": 132,
   "metadata": {
    "ExecuteTime": {
     "end_time": "2022-10-19T12:04:46.844157Z",
     "start_time": "2022-10-19T12:04:46.824994Z"
    }
   },
   "outputs": [
    {
     "data": {
      "text/plain": [
       "False"
      ]
     },
     "execution_count": 132,
     "metadata": {},
     "output_type": "execute_result"
    }
   ],
   "source": [
    "my_string.startswith('t')"
   ]
  },
  {
   "cell_type": "code",
   "execution_count": 133,
   "metadata": {
    "ExecuteTime": {
     "end_time": "2022-10-19T12:05:22.644106Z",
     "start_time": "2022-10-19T12:05:22.633820Z"
    }
   },
   "outputs": [
    {
     "data": {
      "text/plain": [
       "True"
      ]
     },
     "execution_count": 133,
     "metadata": {},
     "output_type": "execute_result"
    }
   ],
   "source": [
    "my_string.startswith('There is no business like show business.')"
   ]
  },
  {
   "cell_type": "code",
   "execution_count": 135,
   "metadata": {
    "ExecuteTime": {
     "end_time": "2022-10-19T12:05:33.442974Z",
     "start_time": "2022-10-19T12:05:33.434119Z"
    }
   },
   "outputs": [],
   "source": [
    "variables = ['qtd_casa','qtd_boleto','qtd_titulos','vlr_boleto','vlr_titulos','vlr_cartao']"
   ]
  },
  {
   "cell_type": "code",
   "execution_count": null,
   "metadata": {},
   "outputs": [],
   "source": [
    "# how to print only the ones that starts with 'qtd'?"
   ]
  },
  {
   "cell_type": "code",
   "execution_count": 136,
   "metadata": {
    "ExecuteTime": {
     "end_time": "2022-10-19T12:06:37.876809Z",
     "start_time": "2022-10-19T12:06:37.859348Z"
    }
   },
   "outputs": [
    {
     "name": "stdout",
     "output_type": "stream",
     "text": [
      "qtd_casa\n",
      "qtd_boleto\n",
      "qtd_titulos\n"
     ]
    }
   ],
   "source": [
    "for v in variables:\n",
    "    if v.startswith('qtd'):\n",
    "        print(v)"
   ]
  },
  {
   "cell_type": "code",
   "execution_count": null,
   "metadata": {},
   "outputs": [],
   "source": []
  },
  {
   "cell_type": "code",
   "execution_count": 35,
   "metadata": {
    "ExecuteTime": {
     "end_time": "2022-10-18T18:38:34.372207Z",
     "start_time": "2022-10-18T18:38:34.353320Z"
    }
   },
   "outputs": [],
   "source": [
    "# how to print only the ones that starts with 'qtd'?"
   ]
  },
  {
   "cell_type": "code",
   "execution_count": 122,
   "metadata": {
    "ExecuteTime": {
     "end_time": "2021-08-10T19:24:01.582238Z",
     "start_time": "2021-08-10T19:24:01.567758Z"
    }
   },
   "outputs": [
    {
     "name": "stdout",
     "output_type": "stream",
     "text": [
      "qtd_casa\n",
      "qtd_boleto\n",
      "qtd_titulos\n"
     ]
    }
   ],
   "source": [
    "for i in variables:\n",
    "    if i.startswith('qtd'):\n",
    "        print(i)"
   ]
  },
  {
   "cell_type": "markdown",
   "metadata": {},
   "source": [
    "## Metódos de estilo"
   ]
  },
  {
   "cell_type": "code",
   "execution_count": 143,
   "metadata": {
    "ExecuteTime": {
     "end_time": "2022-10-19T12:10:23.674039Z",
     "start_time": "2022-10-19T12:10:23.660458Z"
    }
   },
   "outputs": [],
   "source": [
    "c = 'shE HaD a maRveLoUs aSsoRtmeNt of PUPPETS. Oi tudo bem?'"
   ]
  },
  {
   "cell_type": "code",
   "execution_count": 148,
   "metadata": {
    "ExecuteTime": {
     "end_time": "2022-10-19T12:12:22.865305Z",
     "start_time": "2022-10-19T12:12:22.848672Z"
    }
   },
   "outputs": [
    {
     "data": {
      "text/plain": [
       "'She had a marvelous assortment of puppets. Oi tudo bem?'"
      ]
     },
     "execution_count": 148,
     "metadata": {},
     "output_type": "execute_result"
    }
   ],
   "source": [
    "lista_capitalize = []\n",
    "for frase in c.split('. '):\n",
    "    lista_capitalize.append(frase.capitalize())\n",
    "'. '.join(lista_capitalize)"
   ]
  },
  {
   "cell_type": "code",
   "execution_count": 158,
   "metadata": {
    "ExecuteTime": {
     "end_time": "2022-10-19T12:17:36.489924Z",
     "start_time": "2022-10-19T12:17:36.485570Z"
    }
   },
   "outputs": [
    {
     "data": {
      "text/plain": [
       "'She had a marvelous assortment of puppets. oi tudo bem?'"
      ]
     },
     "execution_count": 158,
     "metadata": {},
     "output_type": "execute_result"
    }
   ],
   "source": [
    "c.capitalize()"
   ]
  },
  {
   "cell_type": "code",
   "execution_count": 151,
   "metadata": {
    "ExecuteTime": {
     "end_time": "2022-10-19T12:14:05.683527Z",
     "start_time": "2022-10-19T12:14:05.672008Z"
    }
   },
   "outputs": [
    {
     "data": {
      "text/plain": [
       "'shE HaD a maRveLoUs aSsoRtmeNt of PUPPETS. Oi tudo bem?'"
      ]
     },
     "execution_count": 151,
     "metadata": {},
     "output_type": "execute_result"
    }
   ],
   "source": [
    "c"
   ]
  },
  {
   "cell_type": "code",
   "execution_count": 140,
   "metadata": {
    "ExecuteTime": {
     "end_time": "2022-10-19T12:08:48.754170Z",
     "start_time": "2022-10-19T12:08:48.746301Z"
    }
   },
   "outputs": [
    {
     "data": {
      "text/plain": [
       "'she had a marvelous assortment of puppets.'"
      ]
     },
     "execution_count": 140,
     "metadata": {},
     "output_type": "execute_result"
    }
   ],
   "source": [
    "c.lower()"
   ]
  },
  {
   "cell_type": "code",
   "execution_count": 141,
   "metadata": {
    "ExecuteTime": {
     "end_time": "2022-10-19T12:08:49.845772Z",
     "start_time": "2022-10-19T12:08:49.840800Z"
    }
   },
   "outputs": [
    {
     "data": {
      "text/plain": [
       "'SHE HAD A MARVELOUS ASSORTMENT OF PUPPETS.'"
      ]
     },
     "execution_count": 141,
     "metadata": {},
     "output_type": "execute_result"
    }
   ],
   "source": [
    "c.upper()"
   ]
  },
  {
   "cell_type": "code",
   "execution_count": 142,
   "metadata": {
    "ExecuteTime": {
     "end_time": "2022-10-19T12:08:55.822478Z",
     "start_time": "2022-10-19T12:08:55.816349Z"
    }
   },
   "outputs": [
    {
     "data": {
      "text/plain": [
       "'She Had A Marvelous Assortment Of Puppets.'"
      ]
     },
     "execution_count": 142,
     "metadata": {},
     "output_type": "execute_result"
    }
   ],
   "source": [
    "c.title()"
   ]
  },
  {
   "cell_type": "code",
   "execution_count": 182,
   "metadata": {
    "ExecuteTime": {
     "end_time": "2022-05-31T20:22:51.547159Z",
     "start_time": "2022-05-31T20:22:51.540178Z"
    }
   },
   "outputs": [
    {
     "data": {
      "text/plain": [
       "'shE HaD a maRveLoUs aSsoRtmeNt of PUPPETS.'"
      ]
     },
     "execution_count": 182,
     "metadata": {},
     "output_type": "execute_result"
    }
   ],
   "source": [
    "c"
   ]
  },
  {
   "cell_type": "markdown",
   "metadata": {},
   "source": [
    "## Strip, limpeza de espaços"
   ]
  },
  {
   "cell_type": "code",
   "execution_count": 171,
   "metadata": {
    "ExecuteTime": {
     "end_time": "2022-10-19T12:21:25.408380Z",
     "start_time": "2022-10-19T12:21:25.405526Z"
    }
   },
   "outputs": [],
   "source": [
    "d = ' I have a tendency to leave trailing spaces.    '"
   ]
  },
  {
   "cell_type": "code",
   "execution_count": 172,
   "metadata": {
    "ExecuteTime": {
     "end_time": "2022-10-19T12:21:25.858997Z",
     "start_time": "2022-10-19T12:21:25.854481Z"
    }
   },
   "outputs": [
    {
     "data": {
      "text/plain": [
       "'I have a tendency to leave trailing spaces.'"
      ]
     },
     "execution_count": 172,
     "metadata": {},
     "output_type": "execute_result"
    }
   ],
   "source": [
    "# strip default, lstrip and rstrip\n",
    "\n",
    "d.strip()"
   ]
  },
  {
   "cell_type": "code",
   "execution_count": 161,
   "metadata": {
    "ExecuteTime": {
     "end_time": "2022-10-19T12:18:12.418761Z",
     "start_time": "2022-10-19T12:18:12.414169Z"
    }
   },
   "outputs": [
    {
     "data": {
      "text/plain": [
       "'I have a tendency to leave trailing spaces.    '"
      ]
     },
     "execution_count": 161,
     "metadata": {},
     "output_type": "execute_result"
    }
   ],
   "source": [
    "d.lstrip()"
   ]
  },
  {
   "cell_type": "code",
   "execution_count": 162,
   "metadata": {
    "ExecuteTime": {
     "end_time": "2022-10-19T12:18:14.442584Z",
     "start_time": "2022-10-19T12:18:14.432281Z"
    },
    "scrolled": true
   },
   "outputs": [
    {
     "data": {
      "text/plain": [
       "' I have a tendency to leave trailing spaces.'"
      ]
     },
     "execution_count": 162,
     "metadata": {},
     "output_type": "execute_result"
    }
   ],
   "source": [
    "d.rstrip()"
   ]
  },
  {
   "cell_type": "code",
   "execution_count": 164,
   "metadata": {
    "ExecuteTime": {
     "end_time": "2022-10-19T12:18:47.384539Z",
     "start_time": "2022-10-19T12:18:47.367677Z"
    }
   },
   "outputs": [
    {
     "data": {
      "text/plain": [
       "'Ihaveatendencytoleavetrailingspaces.'"
      ]
     },
     "execution_count": 164,
     "metadata": {},
     "output_type": "execute_result"
    }
   ],
   "source": [
    "''.join(d.split())"
   ]
  },
  {
   "cell_type": "code",
   "execution_count": 173,
   "metadata": {
    "ExecuteTime": {
     "end_time": "2022-10-19T12:21:52.819407Z",
     "start_time": "2022-10-19T12:21:52.806585Z"
    }
   },
   "outputs": [
    {
     "name": "stdout",
     "output_type": "stream",
     "text": [
      " I have a tendency to leave trailing spaces.    \n"
     ]
    }
   ],
   "source": [
    "print(d)"
   ]
  },
  {
   "cell_type": "markdown",
   "metadata": {},
   "source": [
    "## Replace, substituição de valores"
   ]
  },
  {
   "cell_type": "code",
   "execution_count": 174,
   "metadata": {
    "ExecuteTime": {
     "end_time": "2022-10-19T12:23:01.018152Z",
     "start_time": "2022-10-19T12:23:01.008082Z"
    }
   },
   "outputs": [
    {
     "data": {
      "text/plain": [
       "'I thought the movie was wonderful wonderful wonderful!'"
      ]
     },
     "execution_count": 174,
     "metadata": {},
     "output_type": "execute_result"
    }
   ],
   "source": [
    "e = 'I thought the movie was wonderful wonderful wonderful!'\n",
    "e"
   ]
  },
  {
   "cell_type": "code",
   "execution_count": 175,
   "metadata": {
    "ExecuteTime": {
     "end_time": "2022-10-19T12:23:20.338872Z",
     "start_time": "2022-10-19T12:23:20.334150Z"
    }
   },
   "outputs": [
    {
     "data": {
      "text/plain": [
       "'I thought the film was wonderful wonderful wonderful!'"
      ]
     },
     "execution_count": 175,
     "metadata": {},
     "output_type": "execute_result"
    }
   ],
   "source": [
    "e.replace('movie', 'film')"
   ]
  },
  {
   "cell_type": "code",
   "execution_count": 179,
   "metadata": {
    "ExecuteTime": {
     "end_time": "2022-10-19T12:25:09.825246Z",
     "start_time": "2022-10-19T12:25:09.815163Z"
    }
   },
   "outputs": [
    {
     "data": {
      "text/plain": [
       "'I thought the movie was wonderful wonderful awful!'"
      ]
     },
     "execution_count": 179,
     "metadata": {},
     "output_type": "execute_result"
    }
   ],
   "source": [
    "e.replace('wonderful','awful').replace('awful','wonderful',2)"
   ]
  },
  {
   "cell_type": "code",
   "execution_count": 178,
   "metadata": {
    "ExecuteTime": {
     "end_time": "2022-08-09T20:34:27.570824Z",
     "start_time": "2022-08-09T20:34:27.561847Z"
    }
   },
   "outputs": [
    {
     "data": {
      "text/plain": [
       "'I thought the movie was awful awful wonderful!'"
      ]
     },
     "execution_count": 178,
     "metadata": {},
     "output_type": "execute_result"
    }
   ],
   "source": [
    "e.replace('wonderful','awful', 2)"
   ]
  },
  {
   "cell_type": "code",
   "execution_count": 186,
   "metadata": {
    "ExecuteTime": {
     "end_time": "2022-08-09T20:39:17.982722Z",
     "start_time": "2022-08-09T20:39:17.977771Z"
    }
   },
   "outputs": [
    {
     "data": {
      "text/plain": [
       "True"
      ]
     },
     "execution_count": 186,
     "metadata": {},
     "output_type": "execute_result"
    }
   ],
   "source": [
    "e.lower().replace('e','a').startswith('i')"
   ]
  },
  {
   "cell_type": "markdown",
   "metadata": {},
   "source": [
    "# Resumo\n",
    "## Criar string\n",
    "* nome_string = 'elementos'\n",
    "* nome_string = \"elementos\"\n",
    "* nome_string = '''elementos'''\n",
    "* nome_string = \"\"\"elementos\"\"\"\n",
    "\n",
    "## Concatenar string\n",
    "* 'Hello'+'Hello' = 'HelloHello'\n",
    "* 'Hello' *3 = 'HelloHelloHello'\n",
    "* '\\n' - pula linha\n",
    "* '\\t' - paragrafo\n",
    "\n",
    "## Metodos de string\n",
    "* 'caracteres de uniao'.join([lista de strings]) - transforma lista em string\n",
    "* nome_string.split(separador) - transforma string em lista, usando tokens de separação\n",
    "* nome_string.startswith(string de busca) - retorna bool para se a string começa ou não com a string de busca\n",
    "* nome_string.endswith(string de busca) - retorna bool para se a string termina ou não com a string de busca\n",
    "* nome_string.capitalize()\n",
    "* nome_string.lower()\n",
    "* nome_string.upper()\n",
    "* nome_string.title()\n",
    "* nome_string.strip() - tira espaço do começo e final da string\n",
    "* nome_string.lstrip()  - tira espaço do começo da string\n",
    "* nome_string.rstrip()  - tira espaço do final da string\n",
    "* nome_string.replace(string de busca,string de substituição,quantas vezes fazer substituição)"
   ]
  },
  {
   "cell_type": "code",
   "execution_count": 180,
   "metadata": {
    "ExecuteTime": {
     "end_time": "2022-10-19T12:26:50.665879Z",
     "start_time": "2022-10-19T12:26:50.651905Z"
    },
    "scrolled": true
   },
   "outputs": [
    {
     "data": {
      "text/html": [
       "<div>\n",
       "<style scoped>\n",
       "    .dataframe tbody tr th:only-of-type {\n",
       "        vertical-align: middle;\n",
       "    }\n",
       "\n",
       "    .dataframe tbody tr th {\n",
       "        vertical-align: top;\n",
       "    }\n",
       "\n",
       "    .dataframe thead th {\n",
       "        text-align: right;\n",
       "    }\n",
       "</style>\n",
       "<table border=\"1\" class=\"dataframe\">\n",
       "  <thead>\n",
       "    <tr style=\"text-align: right;\">\n",
       "      <th></th>\n",
       "      <th>Começo</th>\n",
       "      <th>Fim</th>\n",
       "    </tr>\n",
       "  </thead>\n",
       "  <tbody>\n",
       "    <tr>\n",
       "      <th>0</th>\n",
       "      <td>Oi</td>\n",
       "      <td>Adeus</td>\n",
       "    </tr>\n",
       "    <tr>\n",
       "      <th>1</th>\n",
       "      <td>Ola</td>\n",
       "      <td>tchau</td>\n",
       "    </tr>\n",
       "    <tr>\n",
       "      <th>2</th>\n",
       "      <td>Tudo bem?</td>\n",
       "      <td>Tchau</td>\n",
       "    </tr>\n",
       "    <tr>\n",
       "      <th>3</th>\n",
       "      <td>Oiiiiiiii</td>\n",
       "      <td>tchau</td>\n",
       "    </tr>\n",
       "  </tbody>\n",
       "</table>\n",
       "</div>"
      ],
      "text/plain": [
       "      Começo    Fim\n",
       "0      Oi     Adeus\n",
       "1        Ola  tchau\n",
       "2  Tudo bem?  Tchau\n",
       "3  Oiiiiiiii  tchau"
      ]
     },
     "execution_count": 180,
     "metadata": {},
     "output_type": "execute_result"
    }
   ],
   "source": [
    "import pandas\n",
    "df = pandas.DataFrame({\"Começo\":['Oi   ',' Ola', 'Tudo bem?','Oiiiiiiii'],\"Fim\":['Adeus','tchau', 'Tchau','tchau']})\n",
    "df"
   ]
  },
  {
   "cell_type": "code",
   "execution_count": 42,
   "metadata": {
    "ExecuteTime": {
     "end_time": "2022-10-18T18:44:34.007770Z",
     "start_time": "2022-10-18T18:44:33.985965Z"
    },
    "cell_style": "split"
   },
   "outputs": [
    {
     "data": {
      "text/plain": [
       "0     True\n",
       "1    False\n",
       "2    False\n",
       "3     True\n",
       "Name: Começo, dtype: bool"
      ]
     },
     "execution_count": 42,
     "metadata": {},
     "output_type": "execute_result"
    }
   ],
   "source": [
    "df['Começo'].str.startswith('O')"
   ]
  },
  {
   "cell_type": "code",
   "execution_count": 46,
   "metadata": {
    "ExecuteTime": {
     "end_time": "2022-10-18T18:46:15.082227Z",
     "start_time": "2022-10-18T18:46:15.073141Z"
    },
    "cell_style": "split"
   },
   "outputs": [
    {
     "data": {
      "text/plain": [
       "0     True\n",
       "1     True\n",
       "2    False\n",
       "3     True\n",
       "Name: Começo, dtype: bool"
      ]
     },
     "execution_count": 46,
     "metadata": {},
     "output_type": "execute_result"
    }
   ],
   "source": [
    "df['Começo'].str.strip().str.startswith('O')"
   ]
  },
  {
   "cell_type": "code",
   "execution_count": 44,
   "metadata": {
    "ExecuteTime": {
     "end_time": "2022-10-18T18:45:33.321219Z",
     "start_time": "2022-10-18T18:45:33.301671Z"
    },
    "scrolled": true
   },
   "outputs": [
    {
     "data": {
      "text/plain": [
       "0    adeus\n",
       "1    adeus\n",
       "2    adeus\n",
       "3    adeus\n",
       "Name: Fim, dtype: object"
      ]
     },
     "execution_count": 44,
     "metadata": {},
     "output_type": "execute_result"
    }
   ],
   "source": [
    "df['Fim'].str.lower().str.replace('tchau','adeus')"
   ]
  }
 ],
 "metadata": {
  "kernelspec": {
   "display_name": "Python 3 (ipykernel)",
   "language": "python",
   "name": "python3"
  },
  "language_info": {
   "codemirror_mode": {
    "name": "ipython",
    "version": 3
   },
   "file_extension": ".py",
   "mimetype": "text/x-python",
   "name": "python",
   "nbconvert_exporter": "python",
   "pygments_lexer": "ipython3",
   "version": "3.8.5"
  },
  "toc": {
   "base_numbering": 1,
   "nav_menu": {},
   "number_sections": true,
   "sideBar": true,
   "skip_h1_title": false,
   "title_cell": "Table of Contents",
   "title_sidebar": "Contents",
   "toc_cell": false,
   "toc_position": {},
   "toc_section_display": true,
   "toc_window_display": false
  },
  "varInspector": {
   "cols": {
    "lenName": 16,
    "lenType": 16,
    "lenVar": 40
   },
   "kernels_config": {
    "python": {
     "delete_cmd_postfix": "",
     "delete_cmd_prefix": "del ",
     "library": "var_list.py",
     "varRefreshCmd": "print(var_dic_list())"
    },
    "r": {
     "delete_cmd_postfix": ") ",
     "delete_cmd_prefix": "rm(",
     "library": "var_list.r",
     "varRefreshCmd": "cat(var_dic_list()) "
    }
   },
   "types_to_exclude": [
    "module",
    "function",
    "builtin_function_or_method",
    "instance",
    "_Feature"
   ],
   "window_display": false
  }
 },
 "nbformat": 4,
 "nbformat_minor": 2
}
